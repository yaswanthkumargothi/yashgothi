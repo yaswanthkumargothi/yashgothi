{
  "nbformat": 4,
  "nbformat_minor": 0,
  "metadata": {
    "colab": {
      "name": "Bank Descriptors classification.ipynb",
      "provenance": [],
      "collapsed_sections": []
    },
    "kernelspec": {
      "name": "python3",
      "display_name": "Python 3"
    }
  },
  "cells": [
    {
      "cell_type": "markdown",
      "metadata": {
        "id": "mXctxet3jdkO"
      },
      "source": [
        "**Context**: \n",
        "\n",
        "Bank data comes from allkinds of different financial institutions, and the data is not noramalized across the institutions. The transaction description of a particular transaction contains the type of trasaction, business entity, date, category etc. Most Fraud, Tax authorities would like to understand the type of account, and the kind of transactions happened through a particular account by looking at the data. It would be a humoungous task to scour through entire data and connect fraudulent accounts. Categorizing a particular transaction by using Deep-Learning would aide the fraud analysts. In this project, We try to replicate the work of [Journal paper](https://ieeexplore.ieee.org/document/9047935) published.   \n",
        "\n",
        "\n",
        "\n",
        "For example, The transactions looks simillar to the one shown below. \n",
        "\n",
        "```\n",
        "1 CHECKCARD 1234 HARRYS TX 12345678901234567890\n",
        "```\n",
        "\n",
        "This cryptic notion not only proves difficult for creating rules, but also ever enlarging entities and corresponding codes would make it impossible to come up with new rules to categorize transaction. So, this task is particularly suited for ML algorithms.\n",
        "\n",
        "\n",
        "Bank transactions encounter a lot of redundant data. The above paper overcomes this by proposing a short text similarity detector to reduce training set size based on the Jaccard distance. The paper discusses that \"Experimental results with a two-stage classifier combining this detector with a SVM indicate a high accuracy in comparison with alternative approaches, taking into account complexity and computing time.\"\n",
        "\n",
        "There are two approaches to classify this reduced training data, one using Bag of words and second using a **Word2Vec** model. Bag of words is looking for simillar words and trying to classify a particular transaction. But, the occuring of a particular word would also change the meaning of the transaction. \n",
        "Word2vec is a word embedding model which depends on word vectors and their semantic understanding. \n",
        "\n",
        "The below code describes entire workflow followed in the paper. First, Data preprocessing, and then labelling,  linguistic feature extraction, Model building, and  model evaluation. \n",
        "\n",
        "The data is from a french business entity which overlooks financial trasactions of their customers. The data provided(1255 transactions) is a sample of what they encounter everyday. "
      ]
    },
    {
      "cell_type": "code",
      "metadata": {
        "colab": {
          "base_uri": "https://localhost:8080/"
        },
        "id": "4Y1udCB5AKxZ",
        "outputId": "79edba9c-69b3-4e88-b64e-e29683b2c302"
      },
      "source": [
        "from google.colab import drive\n",
        "drive.mount('/content/drive')"
      ],
      "execution_count": null,
      "outputs": [
        {
          "output_type": "stream",
          "text": [
            "Mounted at /content/drive\n"
          ],
          "name": "stdout"
        }
      ]
    },
    {
      "cell_type": "code",
      "metadata": {
        "id": "Se465ffkAxxY",
        "colab": {
          "base_uri": "https://localhost:8080/"
        },
        "outputId": "433f22e9-1321-4b30-a835-80b0b8a4ddc1"
      },
      "source": [
        "# importing the required packages\n",
        "import pandas as pd\n",
        "import numpy as np\n",
        "import matplotlib.pyplot as plt\n",
        "\n",
        "import os\n",
        "import re\n",
        "import glob2\n",
        "import math\n",
        "from datetime import datetime\n",
        "\n",
        "from sklearn.metrics import plot_confusion_matrix,f1_score\n",
        "from sklearn.preprocessing import OneHotEncoder\n",
        "from sklearn.model_selection import train_test_split\n",
        "from sklearn.svm import SVC\n",
        "\n",
        "\n",
        "\n",
        "import nltk\n",
        "import nltk.data\n",
        "from nltk.corpus import stopwords\n",
        "from nltk.stem.snowball import SnowballStemmer\n",
        "from nltk.stem.snowball import FrenchStemmer\n",
        "#from vector_dict.VectorDict import VectorDict\n",
        "from nltk import word_tokenize as wt\n",
        "from gensim.models import Word2Vec\n",
        "\n",
        "\n",
        "\n",
        "nltk.download(\"stopwords\")\n",
        "nltk.download('punkt')"
      ],
      "execution_count": null,
      "outputs": [
        {
          "output_type": "stream",
          "text": [
            "[nltk_data] Downloading package stopwords to /root/nltk_data...\n",
            "[nltk_data]   Unzipping corpora/stopwords.zip.\n",
            "[nltk_data] Downloading package punkt to /root/nltk_data...\n",
            "[nltk_data]   Unzipping tokenizers/punkt.zip.\n"
          ],
          "name": "stdout"
        },
        {
          "output_type": "execute_result",
          "data": {
            "text/plain": [
              "True"
            ]
          },
          "metadata": {
            "tags": []
          },
          "execution_count": 2
        }
      ]
    },
    {
      "cell_type": "markdown",
      "metadata": {
        "id": "7Soex-LBJHXI"
      },
      "source": [
        "Three stages of BT short text classification model using the [paper](https://ieeexplore.ieee.org/document/9047935) as referrence.\n",
        "\n",
        "\n",
        "1.   Data Preparation\n",
        "2.   Liguistic feature extraction and model building\n",
        "3.   Model validation and inferrence\n",
        "\n",
        "##Stage 1: Data Preparation follows the below figure\n",
        "\n",
        "![preprocessing.JPG](data:image/jpeg;base64,/9j/4AAQSkZJRgABAQEAYABgAAD/4REGRXhpZgAATU0AKgAAAAgABAE7AAIAAAAUAAAISodpAAQAAAABAAAIXpydAAEAAAAoAAAQ1uocAAcAAAgMAAAAPgAAAAAc6gAAAAgAAAAAAAAAAAAAAAAAAAAAAAAAAAAAAAAAAAAAAAAAAAAAAAAAAAAAAAAAAAAAAAAAAAAAAAAAAAAAAAAAAAAAAAAAAAAAAAAAAAAAAAAAAAAAAAAAAAAAAAAAAAAAAAAAAAAAAAAAAAAAAAAAAAAAAAAAAAAAAAAAAAAAAAAAAAAAAAAAAAAAAAAAAAAAAAAAAAAAAAAAAAAAAAAAAAAAAAAAAAAAAAAAAAAAAAAAAAAAAAAAAAAAAAAAAAAAAAAAAAAAAAAAAAAAAAAAAAAAAAAAAAAAAAAAAAAAAAAAAAAAAAAAAAAAAAAAAAAAAAAAAAAAAAAAAAAAAAAAAAAAAAAAAAAAAAAAAAAAAAAAAAAAAAAAAAAAAAAAAAAAAAAAAAAAAAAAAAAAAAAAAAAAAAAAAAAAAAAAAAAAAAAAAAAAAAAAAAAAAAAAAAAAAAAAAAAAAAAAAAAAAAAAAAAAAAAAAAAAAAAAAAAAAAAAAAAAAAAAAAAAAAAAAAAAAAAAAAAAAAAAAAAAAAAAAAAAAAAAAAAAAAAAAAAAAAAAAAAAAAAAAAAAAAAAAAAAAAAAAAAAAAAAAAAAAAAAAAAAAAAAAAAAAAAAAAAAAAAAAAAAAAAAAAAAAAAAAAAAAAAAAAAAAAAAAAAAAAAAAAAAAAAAAAAAAAAAAAAAAAAAAAAAAAAAAAAAAAAAAAAAAAAAAAAAAAAAAAAAAAAAAAAAAAAAAAAAAAAAAAAAAAAAAAAAAAAAAAAAAAAAAAAAAAAAAAAAAAAAAAAAAAAAAAAAAAAAAAAAAAAAAAAAAAAAAAAAAAAAAAAAAAAAAAAAAAAAAAAAAAAAAAAAAAAAAAAAAAAAAAAAAAAAAAAAAAAAAAAAAAAAAAAAAAAAAAAAAAAAAAAAAAAAAAAAAAAAAAAAAAAAAAAAAAAAAAAAAAAAAAAAAAAAAAAAAAAAAAAAAAAAAAAAAAAAAAAAAAAAAAAAAAAAAAAAAAAAAAAAAAAAAAAAAAAAAAAAAAAAAAAAAAAAAAAAAAAAAAAAAAAAAAAAAAAAAAAAAAAAAAAAAAAAAAAAAAAAAAAAAAAAAAAAAAAAAAAAAAAAAAAAAAAAAAAAAAAAAAAAAAAAAAAAAAAAAAAAAAAAAAAAAAAAAAAAAAAAAAAAAAAAAAAAAAAAAAAAAAAAAAAAAAAAAAAAAAAAAAAAAAAAAAAAAAAAAAAAAAAAAAAAAAAAAAAAAAAAAAAAAAAAAAAAAAAAAAAAAAAAAAAAAAAAAAAAAAAAAAAAAAAAAAAAAAAAAAAAAAAAAAAAAAAAAAAAAAAAAAAAAAAAAAAAAAAAAAAAAAAAAAAAAAAAAAAAAAAAAAAAAAAAAAAAAAAAAAAAAAAAAAAAAAAAAAAAAAAAAAAAAAAAAAAAAAAAAAAAAAAAAAAAAAAAAAAAAAAAAAAAAAAAAAAAAAAAAAAAAAAAAAAAAAAAAAAAAAAAAAAAAAAAAAAAAAAAAAAAAAAAAAAAAAAAAAAAAAAAAAAAAAAAAAAAAAAAAAAAAAAAAAAAAAAAAAAAAAAAAAAAAAAAAAAAAAAAAAAAAAAAAAAAAAAAAAAAAAAAAAAAAAAAAAAAAAAAAAAAAAAAAAAAAAAAAAAAAAAAAAAAAAAAAAAAAAAAAAAAAAAAAAAAAAAAAAAAAAAAAAAAAAAAAAAAAAAAAAAAAAAAAAAAAAAAAAAAAAAAAAAAAAAAAAAAAAAAAAAAAAAAAAAAAAAAAAAAAAAAAAAAAAAAAAAAAAAAAAAAAAAAAAAAAAAAAAAAAAAAAAAAAAAAAAAAAAAAAAAAAAAAAAAAAAAAAAAAAAAAAAAAAAAAAAAAAAAAAAAAAAAAAAAAAAAAAAAAAAAAAAAAAAAAAAAAAAAAAAAAAAAAAAAAAAAAAAAAAAAAAAAAAAAAAAAAAAAAAAAAAAAAAAAAAAAAAAAAAAAAAAAAAAAAAAAAAAAAAAAAAAAAAAAAAAAAAAAAAAAAAAAAAAAAAAAAAAAAAAAAAAAAAAAAAAAAAAAAAAAAAAAAAAAAAAAAAAAAAAAAAAAAAAAAAAAAAAAAAAAAAAAAAAAAAAAAAAAAAAAAAAAAAAAAAAAAAAAAAAAAAAAAAAAAAAAAAAAAAAAAAAAAAAAAAAAAAAAAAAAAAAAAAAAAAAAAAAAAAAAAAAAAAAAAAAAAAAAAAAAAAAAAAAAAAAAAAAAAAAAAAAAAAAAAAAAAAAAAAAAAAAAAAAAAAAAAAAAAAAAAAAAAAAAAAAAAAAAAAAAAAAAAAAAAAAAAAAAAAAAAAAAAAAAAAAAAAAAAAAAAAAAAAAAAAAAAAAAAAAAAAAAAAAAAAAAAAAAAAAAAAAAAAAAAAAAAAAAAAAAAAAAAAAAAAAAAAAAAAAAAAAAAAAAAAAAAAAAAAAAAAAAAAAAAAAAAAAAAAAAAAAAAAAAAAAAAAAAAAAAAAAAAAAAAAAAAAAAAAAAAAAAAAAAAAAAAAAAAAAAAAAAAAAAAAAAAAAAAAAAAAAAAAAAAAAAAAAAAAAAAAAAAAAAAAAAAAAAAAAAAAAAAAAAAAAAAAAAAAAAAAAAAAAAAAAAAAAAAAAAAAAAAAAAAAAAAAAAAAAAAAAAAAAAAAAAAAAAAAAAAAAAAAAAAAAAAAAAAAAAAAAAAAAAAAAAAAAAAAAAAAAAAAAAAAAAAAAAAAAAAAAAAAAAAAAAAAAAAAAAAAAAAAAAAAAAAAAAAAAAAAAAAAHlhc3dhbnRoIGdvdGhpcmVkZHkAAAWQAwACAAAAFAAAEKyQBAACAAAAFAAAEMCSkQACAAAAAzUwAACSkgACAAAAAzUwAADqHAAHAAAIDAAACKAAAAAAHOoAAAAIAAAAAAAAAAAAAAAAAAAAAAAAAAAAAAAAAAAAAAAAAAAAAAAAAAAAAAAAAAAAAAAAAAAAAAAAAAAAAAAAAAAAAAAAAAAAAAAAAAAAAAAAAAAAAAAAAAAAAAAAAAAAAAAAAAAAAAAAAAAAAAAAAAAAAAAAAAAAAAAAAAAAAAAAAAAAAAAAAAAAAAAAAAAAAAAAAAAAAAAAAAAAAAAAAAAAAAAAAAAAAAAAAAAAAAAAAAAAAAAAAAAAAAAAAAAAAAAAAAAAAAAAAAAAAAAAAAAAAAAAAAAAAAAAAAAAAAAAAAAAAAAAAAAAAAAAAAAAAAAAAAAAAAAAAAAAAAAAAAAAAAAAAAAAAAAAAAAAAAAAAAAAAAAAAAAAAAAAAAAAAAAAAAAAAAAAAAAAAAAAAAAAAAAAAAAAAAAAAAAAAAAAAAAAAAAAAAAAAAAAAAAAAAAAAAAAAAAAAAAAAAAAAAAAAAAAAAAAAAAAAAAAAAAAAAAAAAAAAAAAAAAAAAAAAAAAAAAAAAAAAAAAAAAAAAAAAAAAAAAAAAAAAAAAAAAAAAAAAAAAAAAAAAAAAAAAAAAAAAAAAAAAAAAAAAAAAAAAAAAAAAAAAAAAAAAAAAAAAAAAAAAAAAAAAAAAAAAAAAAAAAAAAAAAAAAAAAAAAAAAAAAAAAAAAAAAAAAAAAAAAAAAAAAAAAAAAAAAAAAAAAAAAAAAAAAAAAAAAAAAAAAAAAAAAAAAAAAAAAAAAAAAAAAAAAAAAAAAAAAAAAAAAAAAAAAAAAAAAAAAAAAAAAAAAAAAAAAAAAAAAAAAAAAAAAAAAAAAAAAAAAAAAAAAAAAAAAAAAAAAAAAAAAAAAAAAAAAAAAAAAAAAAAAAAAAAAAAAAAAAAAAAAAAAAAAAAAAAAAAAAAAAAAAAAAAAAAAAAAAAAAAAAAAAAAAAAAAAAAAAAAAAAAAAAAAAAAAAAAAAAAAAAAAAAAAAAAAAAAAAAAAAAAAAAAAAAAAAAAAAAAAAAAAAAAAAAAAAAAAAAAAAAAAAAAAAAAAAAAAAAAAAAAAAAAAAAAAAAAAAAAAAAAAAAAAAAAAAAAAAAAAAAAAAAAAAAAAAAAAAAAAAAAAAAAAAAAAAAAAAAAAAAAAAAAAAAAAAAAAAAAAAAAAAAAAAAAAAAAAAAAAAAAAAAAAAAAAAAAAAAAAAAAAAAAAAAAAAAAAAAAAAAAAAAAAAAAAAAAAAAAAAAAAAAAAAAAAAAAAAAAAAAAAAAAAAAAAAAAAAAAAAAAAAAAAAAAAAAAAAAAAAAAAAAAAAAAAAAAAAAAAAAAAAAAAAAAAAAAAAAAAAAAAAAAAAAAAAAAAAAAAAAAAAAAAAAAAAAAAAAAAAAAAAAAAAAAAAAAAAAAAAAAAAAAAAAAAAAAAAAAAAAAAAAAAAAAAAAAAAAAAAAAAAAAAAAAAAAAAAAAAAAAAAAAAAAAAAAAAAAAAAAAAAAAAAAAAAAAAAAAAAAAAAAAAAAAAAAAAAAAAAAAAAAAAAAAAAAAAAAAAAAAAAAAAAAAAAAAAAAAAAAAAAAAAAAAAAAAAAAAAAAAAAAAAAAAAAAAAAAAAAAAAAAAAAAAAAAAAAAAAAAAAAAAAAAAAAAAAAAAAAAAAAAAAAAAAAAAAAAAAAAAAAAAAAAAAAAAAAAAAAAAAAAAAAAAAAAAAAAAAAAAAAAAAAAAAAAAAAAAAAAAAAAAAAAAAAAAAAAAAAAAAAAAAAAAAAAAAAAAAAAAAAAAAAAAAAAAAAAAAAAAAAAAAAAAAAAAAAAAAAAAAAAAAAAAAAAAAAAAAAAAAAAAAAAAAAAAAAAAAAAAAAAAAAAAAAAAAAAAAAAAAAAAAAAAAAAAAAAAAAAAAAAAAAAAAAAAAAAAAAAAAAAAAAAAAAAAAAAAAAAAAAAAAAAAAAAAAAAAAAAAAAAAAAAAAAAAAAAAAAAAAAAAAAAAAAAAAAAAAAAAAAAAAAAAAAAAAAAAAAAAAAAAAAAAAAAAAAAAAAAAAAAAAAAAAAAAAAAAAAAAAAAAAAAAAAAAAAAAAAAAAAAAAAAAAAAAAAAAAAAAAAAAAAAAAAAAAAAAAAAAAAAAAAAAAAAAAAAAAAAAAAAAAAAAAAAAAAAAAAAAAAAAAAAAAAAAAAAAAAAAAAAAAAAAAAAAAAAAAAAAAAAAAAAAAAAAAAAAAAAAAAAAAAAAAAAAAAAAAAAAAAAAAAAAAAAAAAAAAAAAAAAAAAAAAAAAAAAAAAAAAAAAAAAAAAAAAAAAAAAAAAAAAAAAAAAAAAAAAAAAAAAAAAAAAAAAAAAAAAAAAAAAAAAAAAAAAAAAAAAAAAAAAAAAAAAAAAAAAAAAAAAAAAAAAAAAAAAAAAAAAAAAAAAAAAAAAAAAAAAAAAAAAAAAAAAAAAAAAAAAAAAAAAAAAAAAAAAAAAAAAAAAAAAAAAAAAAAAAAAAAAAAAAAAAAAAAAAAAAAAAAAAAAAAAAAAAAAAAAAAAAAAAAAAAAAAAAAAAAAAAAAAAAAAAAAAAAAAAAAAAAAAAAAAAAAAAAAAAAAAAAAAAAAAAAAAAAAAAAAAAAAAAAAAAAAAAAAAAAAAAAAAAAAAAAAAAAAAAAAAAAAAAAAAAAAAAAAAAAAAAAAAAAAAAAAAAAAAAAAAAAAAAAAAAAAAAAAAAAAAAAAAAAAAAAAAAAAAAAAAAAAAAAAAAAAAAAAAAAAAAAAAAAAAAAAAAAAAAAAAAAAAAAAAAAAAAyMDIxOjAxOjE3IDE3OjI4OjE2ADIwMjE6MDE6MTcgMTc6Mjg6MTYAAAB5AGEAcwB3AGEAbgB0AGgAIABnAG8AdABoAGkAcgBlAGQAZAB5AAAA/+ELJmh0dHA6Ly9ucy5hZG9iZS5jb20veGFwLzEuMC8APD94cGFja2V0IGJlZ2luPSfvu78nIGlkPSdXNU0wTXBDZWhpSHpyZVN6TlRjemtjOWQnPz4NCjx4OnhtcG1ldGEgeG1sbnM6eD0iYWRvYmU6bnM6bWV0YS8iPjxyZGY6UkRGIHhtbG5zOnJkZj0iaHR0cDovL3d3dy53My5vcmcvMTk5OS8wMi8yMi1yZGYtc3ludGF4LW5zIyI+PHJkZjpEZXNjcmlwdGlvbiByZGY6YWJvdXQ9InV1aWQ6ZmFmNWJkZDUtYmEzZC0xMWRhLWFkMzEtZDMzZDc1MTgyZjFiIiB4bWxuczpkYz0iaHR0cDovL3B1cmwub3JnL2RjL2VsZW1lbnRzLzEuMS8iLz48cmRmOkRlc2NyaXB0aW9uIHJkZjphYm91dD0idXVpZDpmYWY1YmRkNS1iYTNkLTExZGEtYWQzMS1kMzNkNzUxODJmMWIiIHhtbG5zOnhtcD0iaHR0cDovL25zLmFkb2JlLmNvbS94YXAvMS4wLyI+PHhtcDpDcmVhdGVEYXRlPjIwMjEtMDEtMTdUMTc6Mjg6MTYuNTAyPC94bXA6Q3JlYXRlRGF0ZT48L3JkZjpEZXNjcmlwdGlvbj48cmRmOkRlc2NyaXB0aW9uIHJkZjphYm91dD0idXVpZDpmYWY1YmRkNS1iYTNkLTExZGEtYWQzMS1kMzNkNzUxODJmMWIiIHhtbG5zOmRjPSJodHRwOi8vcHVybC5vcmcvZGMvZWxlbWVudHMvMS4xLyI+PGRjOmNyZWF0b3I+PHJkZjpTZXEgeG1sbnM6cmRmPSJodHRwOi8vd3d3LnczLm9yZy8xOTk5LzAyLzIyLXJkZi1zeW50YXgtbnMjIj48cmRmOmxpPnlhc3dhbnRoIGdvdGhpcmVkZHk8L3JkZjpsaT48L3JkZjpTZXE+DQoJCQk8L2RjOmNyZWF0b3I+PC9yZGY6RGVzY3JpcHRpb24+PC9yZGY6UkRGPjwveDp4bXBtZXRhPg0KICAgICAgICAgICAgICAgICAgICAgICAgICAgICAgICAgICAgICAgICAgICAgICAgICAgICAgICAgICAgICAgICAgICAgICAgICAgICAgICAgICAgICAgICAgICAgICAgICAgIAogICAgICAgICAgICAgICAgICAgICAgICAgICAgICAgICAgICAgICAgICAgICAgICAgICAgICAgICAgICAgICAgICAgICAgICAgICAgICAgICAgICAgICAgICAgICAgICAgICAgCiAgICAgICAgICAgICAgICAgICAgICAgICAgICAgICAgICAgICAgICAgICAgICAgICAgICAgICAgICAgICAgICAgICAgICAgICAgICAgICAgICAgICAgICAgICAgICAgICAgICAKICAgICAgICAgICAgICAgICAgICAgICAgICAgICAgICAgICAgICAgICAgICAgICAgICAgICAgICAgICAgICAgICAgICAgICAgICAgICAgICAgICAgICAgICAgICAgICAgICAgIAogICAgICAgICAgICAgICAgICAgICAgICAgICAgICAgICAgICAgICAgICAgICAgICAgICAgICAgICAgICAgICAgICAgICAgICAgICAgICAgICAgICAgICAgICAgICAgICAgICAgCiAgICAgICAgICAgICAgICAgICAgICAgICAgICAgICAgICAgICAgICAgICAgICAgICAgICAgICAgICAgICAgICAgICAgICAgICAgICAgICAgICAgICAgICAgICAgICAgICAgICAKICAgICAgICAgICAgICAgICAgICAgICAgICAgICAgICAgICAgICAgICAgICAgICAgICAgICAgICAgICAgICAgICAgICAgICAgICAgICAgICAgICAgICAgICAgICAgICAgICAgIAogICAgICAgICAgICAgICAgICAgICAgICAgICAgICAgICAgICAgICAgICAgICAgICAgICAgICAgICAgICAgICAgICAgICAgICAgICAgICAgICAgICAgICAgICAgICAgICAgICAgCiAgICAgICAgICAgICAgICAgICAgICAgICAgICAgICAgICAgICAgICAgICAgICAgICAgICAgICAgICAgICAgICAgICAgICAgICAgICAgICAgICAgICAgICAgICAgICAgICAgICAKICAgICAgICAgICAgICAgICAgICAgICAgICAgICAgICAgICAgICAgICAgICAgICAgICAgICAgICAgICAgICAgICAgICAgICAgICAgICAgICAgICAgICAgICAgICAgICAgICAgIAogICAgICAgICAgICAgICAgICAgICAgICAgICAgICAgICAgICAgICAgICAgICAgICAgICAgICAgICAgICAgICAgICAgICAgICAgICAgICAgICAgICAgICAgICAgICAgICAgICAgCiAgICAgICAgICAgICAgICAgICAgICAgICAgICAgICAgICAgICAgICAgICAgICAgICAgICAgICAgICAgICAgICAgICAgICAgICAgICAgICAgICAgICAgICAgICAgICAgICAgICAKICAgICAgICAgICAgICAgICAgICAgICAgICAgICAgICAgICAgICAgICAgICAgICAgICAgICAgICAgICAgICAgICAgICAgICAgICAgICAgICAgICAgICAgICAgICAgICAgICAgIAogICAgICAgICAgICAgICAgICAgICAgICAgICAgICAgICAgICAgICAgICAgICAgICAgICAgICAgICAgICAgICAgICAgICAgICAgICAgICAgICAgICAgICAgICAgICAgICAgICAgCiAgICAgICAgICAgICAgICAgICAgICAgICAgICAgICAgICAgICAgICAgICAgICAgICAgICAgICAgICAgICAgICAgICAgICAgICAgICAgICAgICAgICAgICAgICAgICAgICAgICAKICAgICAgICAgICAgICAgICAgICAgICAgICAgICAgICAgICAgICAgICAgICAgICAgICAgICAgICAgICAgICAgICAgICAgICAgICAgICAgICAgICAgICAgICAgICAgICAgICAgIAogICAgICAgICAgICAgICAgICAgICAgICAgICAgICAgICAgICAgICAgICAgICAgICAgICAgICAgICAgICAgICAgICAgICAgICAgICAgICAgICAgICAgICAgICAgICAgICAgICAgCiAgICAgICAgICAgICAgICAgICAgICAgICAgICAgICAgICAgICAgICAgICAgICAgICAgICAgICAgICAgICAgICAgICAgICAgICAgICAgICAgICAgICAgICAgICAgICAgICAgICAKICAgICAgICAgICAgICAgICAgICAgICAgICAgICAgICAgICAgICAgICAgICAgICAgICAgICAgICAgICAgICAgICAgICAgICAgICAgICAgICAgICAgICAgICAgICAgICAgICAgIAogICAgICAgICAgICAgICAgICAgICAgICAgICAgICAgICAgICAgICAgICAgICAgICAgICAgICAgICAgICAgICAgICAgICAgICAgICAgICAgICAgICAgICAgICAgICAgICAgICAgCiAgICAgICAgICAgICAgICAgICAgICAgICAgICA8P3hwYWNrZXQgZW5kPSd3Jz8+/9sAQwAHBQUGBQQHBgUGCAcHCAoRCwoJCQoVDxAMERgVGhkYFRgXGx4nIRsdJR0XGCIuIiUoKSssKxogLzMvKjInKisq/9sAQwEHCAgKCQoUCwsUKhwYHCoqKioqKioqKioqKioqKioqKioqKioqKioqKioqKioqKioqKioqKioqKioqKioqKioq/8AAEQgBwQGJAwEiAAIRAQMRAf/EAB8AAAEFAQEBAQEBAAAAAAAAAAABAgMEBQYHCAkKC//EALUQAAIBAwMCBAMFBQQEAAABfQECAwAEEQUSITFBBhNRYQcicRQygZGhCCNCscEVUtHwJDNicoIJChYXGBkaJSYnKCkqNDU2Nzg5OkNERUZHSElKU1RVVldYWVpjZGVmZ2hpanN0dXZ3eHl6g4SFhoeIiYqSk5SVlpeYmZqio6Slpqeoqaqys7S1tre4ubrCw8TFxsfIycrS09TV1tfY2drh4uPk5ebn6Onq8fLz9PX29/j5+v/EAB8BAAMBAQEBAQEBAQEAAAAAAAABAgMEBQYHCAkKC//EALURAAIBAgQEAwQHBQQEAAECdwABAgMRBAUhMQYSQVEHYXETIjKBCBRCkaGxwQkjM1LwFWJy0QoWJDThJfEXGBkaJicoKSo1Njc4OTpDREVGR0hJSlNUVVZXWFlaY2RlZmdoaWpzdHV2d3h5eoKDhIWGh4iJipKTlJWWl5iZmqKjpKWmp6ipqrKztLW2t7i5usLDxMXGx8jJytLT1NXW19jZ2uLj5OXm5+jp6vLz9PX29/j5+v/aAAwDAQACEQMRAD8A+kaKKKACiiigAooooAKKKKACiiigAooooAKKKKACiiigAooooAKKKKACiiigAooooAKKgvb6202zku76dIIIl3PI5wAK8d8U/Gq5lkltfC8Kww/dF3MuXPuq9B+Ofwrqw+Fq4h2pr59DGrXhSXvM9mmnit4y88qRIOrOwA/Ws2TxV4fibEuu6Yh9GvIx/Wvl7UNUvtWuTPqV3NdSn+KVy2Pp6VUr2Y5Kre9P8Dz5Zi7+7E+rofEuhXDBbfWtPlJ6BLpG/ka0lZXUMjBgehBzXx/Wpo3iXWPD8wk0jUJrf1QNlG+qng0p5Lp7k/vCOY6+9E+raK8t8IfGS31G4Sz8TRxWUrABbpCfLY/7QP3frnH0r1FWV1DIQysMgg5BFeJXw9ShLlqKx6NOrCqrxYtFFFYGoUUUUAFFFFABRRRQAUUUUAFFFFABRRRQAUUUUAFFFFABRRRQAUUUUAFFFFABRRRQAUUUUAFFFFABRRRQAUUUUAFFFFABRRRQAUUUUAFRXVzDZWktzdSLFDChd3Y8KB1NS15R8bfEn2ewt/D9uxD3GJ5yD/AD8q/iRn/gNdGGoOvVVNdTKtUVKDkzgvHvjm58X6oRGWi02FsQQZ6/7be5/SuSoor7enTjSgoQVkj5uc5TlzS3CipLe3mu7iOC2ieWaRgqIgyWJ7AV6lo3w00vw7p41n4iXkUEPAW1DnaCezEck+y+nU1nXxFOgvf37dWXTozqP3TymivRvFXwrmtLP+1/Ck39p6ZInmqindIqEZyCPvj6c+x615zVUa9OtHmgxVKcqbtJBXqHwr+IUmnXcWg6zMWspTttpXP+oY9Fz/dP6H2ry+ilXoQr03CYUqkqUuaJ9g0Vx/wx8RHxB4LtzM5e6sz9nmLHJbA+VvxXHPqDXYV8PVpypTcJbo+khNTipLqFFFFZlhRRRQAUUUUAFFFFABRRRQAUUUUAFFFFABRRRQAUUUUAFFFFABRRRQAUUUUAFFFFABRRRQAUUUUAFFFFABRRRQAUUUUAFFFFABXzT8TLt7z4i6qzkkRyCJR6BVA/nmvpavmDx+pT4ga0D/z9Mfz5r28mS9tJ+X6nnZh/DXqc7TkMXmL57OsefmaNNzAeoBIz+YptI33G+lfUPY8VHtfhPXPCHhS807SbGwvpb/UYY5heyQx5YSLuAJ3ZUY7Dj69ak1vx74P8WeEbmbVdM1OSztbmNCoRFkV2DEMuH6YDA8964dP+R98Jf9eVn/6JrJsf+Sd6z/1/2v8A6BLXgLCxlJVG3ze7rfu2ep7ZxTgkra/geyWHj7w5pMmh6DYWN7FHeWsL2gEalURwdoYls54561wnivVvBvjDS7vVbGzv9NvLSSNZJBbR/vTJuxuUPz9w89frVE/8jn4F/wCvCy/k1c5pv/Ipa7/13s//AGtTw+GjCSqRbT0/FsVWs5JxaVtfwRj0UUV7x5h6h8DL94vEuoWOT5c9r5uP9pGAH6Oa9xrwL4JoW8eSsOi2UhP/AH0g/rXvtfI5sksS7dke9gW3RCiiivKO0KKKKACiiigAooooAKKKKACiiigAooooAKKKKACiiigAooooAKKKKACiiigAooooAKKKKACiiigAooooAKKKKACiiigAooooAK+fvjHor6f41a/C/uNQjDq3+0oCsP0B/GvoGuV+InhU+K/C0lvbqDe25862J4yw6r+I4+uK78vxCoV1J7PRnLiqXtaTS3PmitLQNAvPE+rrpem+WLiRGcea21QAOeaoTwS21w8FxG0csbFXRxgqR1BFXtA16+8M60mp6X5P2hEaMCZCy4brwCPSvsKrn7N+z36Hgw5eZc+x6ovwz10eKNC1AvZ+Tp9tbxTDzTuJSPa2Bt55qjbfCfxDD4S1HTWksvPubqGVCJW27UVwcnb1+YVjf8Lo8W+mm/8AgM3/AMXR/wALo8W+mm/+Azf/ABdeIqOPXRdPwPRdTCvv/wAOdUfhtrh8Q+Gb3faeVpdrbwzjzTktGDu28cjmsmz+EfiODQdTs3ksfNupLdo8TNjCeZnPy/7QrL/4XR4t9NN/8Bm/+Lo/4XR4t9NN/wDAZv8A4uiNHHxVkl0/AHUwr7/8OcRe2kthf3FncACa3laKQA5G5Tg/qKgqe+vJNR1G5vbjaJbmVpX2jA3MSTj8TVnQ9EvfEOrw6dpsRkmlPJ7IvdiewFe7zcsbz+Z5lrytE9Y+BuiPFZ3+tTJgTkW8JPdRyx+mdo/A16zWfoWjwaBoVppdrkx20YUMerHqT+JJP41oV8Piq3t60qh9JQp+zpqIUUUVzGwUUUUAFFFFABRRRQAUUUUAFFFFABRRRQAUUUUAFFFFABRRRQAUUUUAFFFFABRRRQAUUUUAFFFFABRRRQAUUUUAFFFFABRRRQAUUUUAec/Eb4aJ4iEuraMNmqBRviyAtwB/Jsd+/wCteGX1hdabePa6hbyW88Z+aORdpFfXNY3iHwno/ie28rVrRZHAwky/LIn0b+nSvYweZyopQqax/FHn4jBqo+aGjPleivYNU+BRyzaNrHHaO6j/APZl/wAK56T4MeKkbCiykHqs/wDiK96GYYaaup/foebLC1o/ZOAor0OD4K+J5XAmexhXuWmJx+QrqNJ+BljCyvrOqS3OOTFAgjU/icn+VTUzHDQXxX9AjhK0vsnk2ieH9T8RXv2XSLR7iT+IjhUHqx6AV9C+B/Atl4OsT5Z8+/mUC4uD3/2VHZc/nW9pekWGi2S2mlWsdtCv8Ma4z7k9Sfc1cr5/GZjPEe5HSP5+p6uHwkaXvPVhRRRXlnaFFFFABRRRQAUUUUAFFFFABRRRQAUUUUAFFFFABRRRQAUUUUAFFFFABRRRQAUUUUAFFFFABRRRQAUUUUAFFFFABRRRQAUUUUAFFFFABRRRQAUUUUAFFFYPjbUbrSfCN5eWEvlTx7Nr4BxlgD19jV04OpNQXV2M6tRUqcqj2Sub1FRWztLaQyPyzIrH6kVLUvRlp3VwooopDCiiigAooooAKKKKACiiigAooooAKKKKACiiigAooooAKKKKACiiigAooooAKKKKACiiigAooooAKKKKACiiigAooooAKKKKACiiigAooooAKKKKACiiigArl/iP/wAiHf8A/bP/ANDWtLxFqV9pOmi80+xF6I3BnQNhlj7kDua57xfrVjr3wyvbzTZvMjJQEHhkO9eCOxrtwtOXtadS2nMvzPPxtWHsalO+vK3+HQ7Cy/5B9v8A9cl/lU9c7q/ii18PaTZoytcX1xEot7WMZaRsAD6DNbWnyXU2nwSahCsFyyAyRI24KfTNc86clHna0Z006sJS9mnqlqWKKKKyNwooooAKKKKACiiigAooooAKKKKACiiigAooooAKKKKACiiigAooooAKKKKACiiigAooooAKKKKACiiigAooooAKKKKACiiigAooooAKKKKACiiigAooooAK898X+BLuSKeXwriJLrAu7JWCpKQchhngHP0r0Kit6GInQnzQ/wCAc2Iw1PEw5J/f1Ry3hbwk+nMNR12UXurOAPMb5hCoGAq/411NFFTVqyqy5pF0aMKMOSH9eoUUUVkbBRRRQAUUUUAFFFFABRRRQAUUUUAFFFFABRRRQAUUUUAFFFFABRRRQAUUUUAFFFFABRRRQAUUUUAFFFFABRRRQAVXPmSXrxiVkVY1YBQOpLeoPoKsVAn/ACEZv+uUf83ql1Ex3kv/AM/Mv5L/AIUeU/8Az8Sfkv8AhUtFK4WIbiSRdkcABkkPBYZCjuT6/wCJFKIX73Eh/Bf8KG/4/I/+ubfzWpad7IOpF5T/APPxJ+S/4UeU/wDz8Sfkv+FS0UrhYi8p/wDn4k/Jf8KPKf8A5+JPyX/Cpaq6jqdjo+nyX2q3cFlaRY8yeeQIiZIAyTwMkgfjRcLEvlP/AM/En5L/AIUeU/8Az8Sfkv8AhVPR/EWjeII5JNC1ay1JIiFkNpcLLsJ6A7ScfjV+SWOIAyuqBmCgscZJOAPqaLhYZ5T/APPxJ+S/4UeU/wDz8Sfkv+FS0UXCxF5T/wDPxJ+S/wCFHlP/AM/En5L/AIU6SaKHZ50iR72CJuYDcx6Aep9qa9zBHcRQSSos0wYxxlgGfHXA74yKLhYPKf8A5+JPyX/Cjyn/AOfiT8l/wqWii4WIvKf/AJ+JPyX/AAo8p/8An4k/Jf8ACkhvLa4uLiCCeOSW2cJOisCYmKhgGHYlWB+hFTUXCxF5T/8APxJ+S/4UeU//AD8Sfkv+FS0UXCxF5L/8/En5L/hTY2dLgwyvvyu5GIwSOhBxx6fnU9QP/wAhGH/rlJ/NKa10E9CeiiipKCiiigAooooAKKKKACiiigAooooAKKKKACiiigAooooAKKKKACiiigAooooAKKKKACoE/wCQjN/1yj/m9T1An/IRm/65R/zeqWzE90T0UUVIyJv+PyP/AK5t/NalqJv+PyP/AHG/mtS02JBRRRSGFcj8T+PAM7YJCXti7YGcKt5CSfoACfwrrqKAPLfE+rpd+J5Nc8K+e62WiXMN7f2qYDM8kXkoHZSpZSJHzhtgySOcHOglvrxpINR1KaSzsNZ0+eOa31B7mNQ+Q379kUuuQO2ASR7V7HRQB5N4Y8QazeePtKd7y6NrqEl4lxaz3BkaIKGMYkiEapbsNuAoYkjOSeTWv4rfXY7/AMR3+k3t8H0+ygFrbI2If3m4SyFQpLMq/MODgqODnB9CooA8ZlS9u5NLa91iS6sbPxBask1reyXCRbopAwM7Iu4Z2eu0uRnkAWLS48Vaf4PsdWs73UtT1e80u8uPIuvnVZUj/dqqYGPp/ERXr1FAHkenaj4it7S+vrTWX1K30xba/eCG4kuvNXLieMu0ScmPLeWMlWVeBnFGu6lrv9lWnmaheW11dWU+pgteNbbGkfMcMarGzSui4Xy+B3OSePXKKAOC+GNxeXsmuX+oqwuLx7GaRmTbuY6fb7iB/vZrvaKKACiiigAqB/8AkIw/9cpP5pU9QP8A8hGH/rk/80qo7iexPRRRUjCiiigAooooAKKKKACiiigAooooAKKKKACiiigAooooAKKKKACiiigAooooAKKKKACoE/5CM3/XKP8Am9T1An/IRm/65R/zeqWzE90T0UUVIyK4hMyqUfZIjbkbGcHpyO4wSKA1x3ji/wC/h/8Aialop3FYi3XH/PKP/v4f/iaN1x/zyj/7+H/4mpaKLhYi3XH/ADyj/wC/h/8AiaN1x/zyj/7+H/4mpaKLhYi3XH/PKP8A7+H/AOJo3XH/ADyj/wC/h/8AialoouFiLdcf88o/+/h/+Jo3XH/PKP8A7+H/AOJqWq2o6hBpenTXt2WEMK7n2jJxTXvOyQpNRV29CTdcf88o/wDv4f8A4mjdcf8APKP/AL+H/wCJqWilcdiLdcf88o/+/h/+Jo3XH/PKP/v4f/ialoouFiLdcf8APKP/AL+H/wCJo3XH/PKP/v4f/ialoouFiLdcf88o/wDv4f8A4mjdcf8APKP/AL+H/wCJqWii4WIt1x/zyj/7+H/4miGNxI8sxUuwAAXooHbPfqealoouFgooopDCiiigAooooAKKKKACiiigAooooAKKKKACiiigAooooAKKKKACiiigAooooAKKKKACoE/5CM3/AFyj/m9T1An/ACEZv+uUf83qlsxPdE9FFFSMKKKKACiiigAooooAKKKKACsHxt/yJWp/9cv/AGYVvVwHis6lofh/UrS6afUNNul/cXDHc9u2Qdj9yvo34V1YSHPWjZ63X5nHjanJQldaNP5aHf0Vz2l/2nrOpLqt2ZrCwjH+i2e7DS5/jkH8lroaxqQ5Ha+p0U6ntFzJaf1qFFFFZmgUUUUAFFFFABRRRQAUUUUAFFFFABRRRQAUUUUAFFFFABRRRQAUUUUAFFFFABRRRQAUUUUAFFFFABRRRQAUUUUAFQJ/yEZv+uUf83qeoE/5CM3/AFyj/m9UtmJ7onoooqRhRUVxN5MYKrvkY7UXONx/zyfYGm/Zi4HnzSuf9ligz/wHH6k07dWK/YnoqD7HF/em/wC/7/40fY4v703/AH/f/GnoGpPRUH2OL+9N/wB/3/xo+xxf3pv+/wC/+NGgak9FQfY4v703/f8Af/Gj7HF/em/7/v8A40aBqT0jKGUqwBB6gjrUP2OL+9N/3/f/ABo+xxf3pv8Av+/+NGgak9FQfY4v703/AH/f/Gj7HF/em/7/AL/40aBqT0VB9ji/vTf9/wB/8aPscX96b/v+/wDjRoGpPRUH2OL+9N/3/f8Axo+xxf3pv+/7/wCNGgak9FQfY4v703/f9/8AGj7HF/em/wC/7/40aBqT0VB9kVTlJZlPr5rN+hJFELuszQzMGYDcjYxuX39x3+oosugX7k9FFFSMKKKKACiiigAooooAKKKKACiiigAooooAKKKKACiiigAooooAKKKKACiiigAooooAKgT/AJCM3/XKP+b1PUCf8hGb/rlH/N6pbMT3RPRRRUjK9yP39p/11P8A6A1WKguP9fa/9dT/AOgNU9U9kJbsKKKKkZkeKNNi1PQbhJri9t/JVpkeyvZbZ9wU4y0bKSOehOOnHAryzSfF2qaBoemW+k/br+8l8PWmsXkt+l7qRuJJFP7tSGIgBKMSx+XkfKcHHtEkaSxPHIoZHUqynuDWJeeCvDmoWtnb3mkW8sNlALaBCCAsIAHlnB+ZOB8pyDjpQBgL451O88ZW3hy0trW2mvLZL6O4uQSIYWiJ8tkDAtMHGdoIGzJ7GqljrGvzfs+2ervqaHV5tOhn+1mA/wARUnI3ctgkZBAzzgdK7g6FphfebKLf9pW73Y5EyqFD57EKAv046VDD4Z0a38PSaFDp8S6XIrK1rzs2sckDngc9B07UAc1deKtetGn1AnTZNMstTg0y4g+zuk8pdo42lR/MIXDyZEZU5Ufeya5zwx8RdRh+H11ezxSzvpsEUY+1xyPPdSzTmNZRzlogTjgEsVYDGBn0JfB2gLqUF/8A2ZE1zb7DG7MzAMihUcgnBcKAAxBYYHNLL4Z8PQWO2fT7WO1gtZLc7+EWByGdTnjbkA89MZoA4+Dxv4mubyy0qCG1W8utSFot7d6Xc2qGM2ssxbyJHD7lMRGN2CCORnibTvF2pajbQ3VzdafpdxHZXn2i4mWR7VGt7sQs3l+YvBCsRk5GcZPOem0TQPDUdvb3WhwWsyR3DXEVzHKZiZdhiLeZkljsJXknA4p134L8O31n9lutKgkg3O+w5HLy+cx4PeT5vrQBzP8AwlHiqHRLCTUZNPtL2/eaWFItHurmQwLsCZt45Cysd2WYvhNyqQSc1j3Hi/W7uYahLcRrZ3Wl6Bdx2cQkj8p7q92Od6uCeAcjGCNoIwG391/wgnhswxxHTFKRszKPOk/iADAndkqQq5U8HAyKnPhDQGMBOlwf6PBFbRAAgLFFIJI0x6K6gj0/E0AcxceM9dttM/tpl059PuzeJa2whdZoWhimkRnfeQ4YQHKhVILAZOCa0PCniPWr/W/7P15bAmfS4NThazjdPKEjMpibczbyMD5htzz8orWHg/QPt1zef2ZCZ7pZFlJJIIk/1mFzhS3cgAnvV+DSrG1u1ube2SOZLdbVXA5ESklU+gJNAFuiiigAqu4/4mUJ/wCmUn80qxUD/wDIRh/65SfzSqjuJ7E9FFFSMKKKKACiiigAooooAKKKKACiiigAooooAKKKKACiiigAooooAKKKKACiiigAooooAKgT/kIzf9co/wCb1PUCf8hGb/rlH/N6pbMT3RPRRRUjILj/AF9r/wBdT/6A1T1Bcf6+1/66n/0BqnqnshLdhRRRUjCiq19qNrpsMct5L5aSzx26HBOXkcIo49WIFWc0AFFFFABXKfEm6+z+CbiJwqQXksdpPdPnbZxyOFadsdkznkgepAzXV5qjqerWmltZpeFv9NuVtYgq5y7AkZ9B8p5oA4j4S6yLyLWtOkeK6nt7szy6lFJuTUmkZ8zxgAKEOwKAuQCrDJxk+i0gwOFxxxxS5oAKKM0ZoAKKM56UZoAKKr2N9DqNu01sWKLNLCdwx80cjRt/48pqxQAVA/8AyEYf+uUn80qeoH/5CMP/AFyk/mlVHcT2J6KKKkYUUUUAFFFFABRRRQAUUUUAFFFFABRRRQAUUUUAFFFFABRRRQAUUUUAFFFFABRRRQAVAn/IRm/65R/zep6gT/kIzf8AXKP+b1S2YnuieiiipGV7k4uLT3mP/oDVYqOeETxlCSpzlWXqp7EUxJZ1GJYCzD+KNhg+/JBH0/U1W6J2ZPUV1GZrOaNRkvGygBymcj+8OR9e1Hmv/wA+8n5r/jR5r/8APvJ+a/40rDueOWPg3XLfR5YJfDH2i0tZ9PlSCeO0W6n8mfMiZRxFLhM4dxGzZIOc1s3Wh30ImL6C9tdW099dXWtEw4uYXjm2oCrGRj+8jG1lAXy+D8q59K81/wDn3k/Nf8aR3MiMj2rsrDDKdpBHp1osFzyTw94e1O80DTtT0XQDpf2XQ4GWJ5Yh/ad0kkM8TZVjx+7cb32n98cjrTofAXieW1u4r2IEC3kvkX7SMTXtwsYniBB+UAJMu7oftHHQ16xEfJhSKG0aONFCoibAFA6ADPAp3mv/AM+8n5r/AI0WC55nN4QvdWv2mg8O/wBl6PLfaeX0mUwqCIWlM0rIjFMMrxrgElgnIxio5vB2orrdvEvhwTTQ6+9//bCTRIotG37Iwd3mDYrKm0LgbMjtXqHmv/z7yfmv+NHmv/z7yfmv+NFgucH8NNC1XQp7qG70x7OzFvFGj3UVus7Opb5S8DbZVAP32VWOe+TjJ1XwFqbafLdW2nKbpvEVze3SRrBJLdWrGXyxiQ7GALo+xyBxnhgK9S81/wDn3k/Nf8aPNf8A595PzX/GiwXPNtM8CXUum20Wr6b9piWz1Py7e98lvs7zSQmJQi/InCOQFyFyRuqveeBdTt7izmstGjks47PTm1GxieNft8kTTeahBIV2+dGy5w23Ga9R81/+feT81/xo81/+feT81/xosFzzdvDXiGDT7rU/D2mjT72TUJTp9hJJGps7ea3SJ87SUAEqicopOduB8xxWXrHgnXItVSz0bRf9GsZ9P+x3kawF5IYTEXLzSSeYjfK42Iqg9STuavXPNf8A595PzX/GjzX/AOfeT81/xosFyh4ds57HS5orqPy3a+vJgMg5SS5kdDx6qwP41qVF5r/8+8n5r/jR5r/8+8n5r/jRYLktV3P/ABMoR/0xk/mlOM0uPltnJ7ZZQPx5ogidWaSdg0r9l6KPQf49/wBKa01E9SaiiipKCiiigAooooAKKKKACiiigAooooAKKKKACiiigAooooAKKKKACiiigAooooAKKKKACoE/5CM3/XKP+b1PUCf8hGb/AK5R/wA3qlsxPdE9FFFSMKKKKACiiigAooooAKKKKACgnAyeKKwvGpK+C9SKkg+V1H1FXThzzUO7M6s/Z05T7K5u0UUVBoFFFFABRRRQAUUUUAFFFFABRRRQAUUUUAFFFFABRRRQAUUUUAFFFFABXNfEa/utL+GfiG+06d7e6t9PlkilQ4ZGCkgiulqpqul2euaRdaXqkPn2d3E0M8W4rvQjBGVII/A0Aed3Ora/4fln1TSrTW5tLtLCaS6i1yVcSy5TyljOS4P38n7uMd8VfufG/iKw1Ce0udHguZNPEZvVsYrmbzC5J2xER4BWPafnIySRwOa7fUNPttV0+axv4vNt512yJuK7h9QQazdS8IaLq+pfbr62kaZlRZVS5kjjnVG3KJI1YLIASfvA+nSgDCPjPWIrqW5n0+y/stdUm01SkzeduTcFkIxjBZcFeoznPaq2keMfFms2enfZ9L0iK5vtPGqKslzJtSAhNiH5fvsWOT0UD+KtjTfAOl2mpXV/eGW7uJr2e7QNPKIozLkZEW7ZvCsV34zj0q1deCtCu7KwtXtpoo9Pt/slsbe7mhdYdoBjLowZlIVchic4B60AYumeOtQ8RRRahoFhanTY4bSW5W7mMcuJ0WQhONvyI6nn7xyBjqaekfEjWNUsBqEPhyae2vLCa8sUijmRgUXdHHJI6BCZAeCpIB45yDXUXHgvQbi7gneyZPIWJFhhnkjhYRHMQeJWCPtPTcDjj0qCH4f+GYTMBpu+KaGWDyJZ5JIoo5eZFjjZisYbvsAoA59PH2tSWrxxWNrLdxXSxTvHBdN9njaNnDSW/l+cMsu0cY/iz2qGf4gX41i3XTbW2upr+201VQ3bG3R53uVYghc/KYuTjJHGARXSj4f+HwuRDe/aPNWUXn9o3H2gFVKACbfv2hWYbc45PHNTxeCvD8NxbTRaftktVgWJvOk48kyGPPzckGWQknJO7nPFAGDZeNta1K4g0izsLFdZ869ScyzOLfbbOiEqQN2WMseBjj5uuBnpvC2sSeIPCmnatPAtvJeQLK0StuCE9ge/1rF8Q+BE1CKP+xXgspPtU1zKZfPO95QN5DRyo4Bxym7Yw4I6Eb3hzRYvDnhnTtGt5DLHY26QByoG7aMZwOmfSgDSopGLBTsALdgTgfnUO+7/AOeEP/f4/wDxNNK4rk9QJ/yEZv8ArlH/ADekL3naCD/v+f8A4im25lN9N56IjeUmAjlhjL98CqtZMV9UWqKKKgoKKKKACiiigAooooAKKKKACuJ8Qa99t8KavYajbmw1GOLJt3fd5ibhh0b+IfyrtqyfEHhrTvElqsOoxtujOY5Yzh09cH09q6cPOnConUXVa+hy4qnUnTapvWzVu9xq699r11dP0uD7XHESLy5V8JAccL/tNnsOlbFVNM0y00iwSz0+EQwp0A6k+pPc+9W6yqODfuLT8zWmppXqPX8F5BRRRWZqFFFFABRRRQAUUUUAFFFFABRRRQAUUUUAFFFFABRRRQAUUUUAFFFFABRRRQBieMbu7sfCl5Pp15DZXKmMJPM4RVzIoPzMrKpIJAZlIBIJGAa8wh8S3Nxrmiajqes30baYdShdnW1lEzLFFIEVo1CS5DY+TYTtIwpBJ9qIyMHkUgUAAAAAdBjpQB5BaeNPEEUV9E2rGdHjsnN1JLazvZRy3Hlyy4hQIAqHdhi4XGSSM5juvGevJqk2lad4hW9sBqbW41hntoSqrawyLH5hiMW5mkfnZztIGDXrGp6ZFqmmSWTyTW6uVZZLaTy3jZWDBlI7ggHnIPQggkVX0XQLXRLe5SKWe6mvJjPdXF04eSd9qrlsADhUUAAAAAcUAQeDr++1PwlZXeqSQy3Thw0sBykgDsquDgA5UAkgAZJxxituiigAooooAKKKKACoE/5CM3/XKP8Am9T1An/IRm/65R/zeqWzE90T0UUVIwqv9sVjiCKWYf3kXC/gTgH8KS8HmCGE/cmk2v7gKWx+OMH2JqzVaJE6tkH2iX/nzm/NP/iqPtEv/PnN+af/ABVT0UXXYdn3IPtEv/PnN+af/FUfaJf+fOb80/8AiqnoouuwWfcg+0S/8+c35p/8VR9ol/585vzT/wCKqeii67BZ9yD7RL/z5zfmn/xVH2iX/nzm/NP/AIqp6KLrsFn3IPtEv/PnN+af/FUfaJf+fOb80/8AiqnoouuwWfcg+0S/8+c35p/8VR9ol/585vzT/wCKqeii67BZ9yD7RL/z5zfmn/xVH2iX/nzm/NP/AIqp6KLrsFn3IPtEv/PnN+af/FUfaJf+fOb80/8AiqnoouuwWfcrm7K8y206L/e2hsfgpJqZHWRA0bBlPQqcinVXA8rUMIMCaMu31UqM/iD+go0YtUWKKKKkoKKKKACiiigAooooAKKKKACiiigAooooAKKKKACiiigAooooAKKKKACiiigAooooAKgT/kIzf9co/wCb1PUCf8hGb/rlH/N6pbMT3RPRRRUjILj/AF9r/wBdT/6A1T1Bcf6+1/66n/0BqnqnshLdhRXPeM/ENx4c0uzns1tjLdX8NpvumKxxiRsbiR6Vi2vxIittQ1Cy1lYLprT7OqT6NvuVlkm8zbFtAyJP3fTJ4ZTxUjO7ornrPxtpd7qUVmkV9F50nkLPNaOkXnbdxiLEY3jBBHqCucjFU7P4l+HLux+2vLdWts1obyGW5tHQXEQKgmPj5iGdRtHJLDAORQB1tFcxN4/0m3sWmng1GOZbhLb7E1m/2gu6lkAj6kMFOD0yCOoOLus+KrHQ/sK3UN5LPqBYW1vb2zSSuVXcRtHQgZPPoaANqiuVk+IuhLYxXluL66tntReSS29nIy28JLDfJx8v3HyPvDaeKW++Imh6fq02nzrfPLDcizZ4rOR089oxIsQYDBZlIwP5ZFAHU0Vy3/Cw9EaxguYEv5/NSV3hhs5Gkt1icpIZFAym1gVweSQcA4rW1TxDp+k6TDqE8jSw3DIlutuhle4Z/uKir94nr9Mk8DNAGnRXF6T8Rba+s55ZbC9aYX9xawWttau8zJDt3OyYyuCwBz3IA5IqU/EfSl1a7gkinWxg061vo70RMwuPtDsiIigZLEgADqSSMDaaAOvornB440trPzUhvmuRc/ZDYC1b7SsuzzNpTt8nzZ6YxzWTH8TLS81uaxtLSeOGP7AVuriF1V/tMxj2FcAqwIwM992cbTQB3NFctL8RNBgacztdRQxxzyR3D2ziK5ECs0ojfGGICMcdwpIyBmr+heK9N8Q3Nxb2IuY5oI45ilzbvCXik3bJFDAZU7G59qANqoH/AOQjD/1yk/mlT1A//IRh/wCuUn80qo7iexPRRRUjCiiigAooooAKKKKACiiigAooooAKKKKACiiigAooooAKKKKACiiigAooooAKKKKACoE/5CM3/XKP+b1PUCf8hGb/AK5R/wA3qlsxPdE9FFFSMguP9fa/9dT/AOgNU9QXH+vtf+up/wDQGqeqeyEt2Ynijw3F4os7K1uXjENtfw3bxyRCRZRG2ShBOOemefpTrnw1ZtFp8WnRW+nw2d6l35cEAVXIBGMDAGc9fatmipGcovhG+/tONJdThfRodSfU47YWpEwlZmk2mTfgp5jlvu56DOK5bS/hjqeteBdK03xbqMcTWelJa21vBbANbSZifMh3sJCpiVcDaCN2evHqlFAHD6T8PWsrmK7nurJJ0vobplsrLyoyscciBeXZskyscliB0AHJPR6jov2/xBo+p+fs/s1pj5ezPmeYmzrnjHXvWrRQB5nefCi9udIk0v8At2CW0lsmtdtzZvJ5DF5GMkSiUKGIkAJYN9wH2roJPBLSXstwb8Ay69FrBAh6bIEi8v73fZnd74x3rrKKAPOr34WPLNJcW1/ZPNNLeGT7bYmVVWe5eddoEi4ZDIwychu4FdJqvhX7Voek2emXa2lzo0sU1lNJCHQNGhTDIpUFSjMMArjORjFdDRQB55J8M7yVUuZ9SsLzUPtd1cObrT2MBFx5ZZQiyhgVMS4O48ZBznNLqHwrS9t1gXUo0jXTrO1UGzGBNazNLHJtVguwmRwyY6EYYYr0KigDhdP8AXmlKt7p99p8GqreG4BTTytuEMXlGPYH3nj5txcnPtxSy+ANRuNXW9utejnMv9nyXRezw0ktpcmYFCHwqsGZdpBI+U5ODnuaKAPP734a3moaSmjXOtRDSrOO6XT40syJEaaGWJTI5fDhEmcAALu4JNdPYeH/ALF4ll1b7TvEmm29h5Xl4x5Tytvznv5uMY4x1Oa2aKACoH/5CMP/AFyk/mlT1A//ACEYf+uUn80qo7iexPRRRUjCiiigAooooAKKKKACiiigAooooAKKKKACiiigAooooAKKKKACiiigAooooAKKKKACoE/5CM3/AFyj/m9T1An/ACEZv+uUf83qlsxPdE9FFFSMr3YYeTKoLCKTcwAySCCp/LOfwqdWDqGQhlYZBB4Iparmyg3FlDpk5IjkZBn1wDiq0a1FrfQsUVB9ji/vTf8Af9/8aPscX96b/v8Av/jRoGpPRUH2OL+9N/3/AH/xo+xxf3pv+/7/AONGgak9FQfY4v703/f9/wDGj7HF/em/7/v/AI0aBqT0VB9ji/vTf9/3/wAaPscX96b/AL/v/jRoGpPRUH2OL+9N/wB/3/xo+xxf3pv+/wC/+NGgak9FQfY4v703/f8Af/Gj7HF/em/7/v8A40aBqT0VB9ji/vTf9/3/AMaPscX96b/v+/8AjRoGpPRUH2OL+9N/3/f/ABo+xxf3pv8Av+/+NGgak9VkYT33mRnKRIyEjoWJGR+G39aU2MLfeMrDuGmcg/UZ5qdVVFCooVVGAAMACjRbC1e4tFFFSUFFFFABRRRQAUUUUAFFFFABRRRQAUUUUAFFFFABRRRQAUUUUAFFFFABRRRQAUUUUAFQJ/yEZv8ArlH/ADep6gT/AJCM3/XKP+b1S2YnuieiiipGFFFFABRRRQAUUUUAFFFFABRRRQBU0vU7bWNNivrBy8EudjFSCcEg8H3Bq3XMfDr/AJEDTf8Atr/6NeunravBU6soLZNoww9R1aMKkt2k/vQUUUVibhRRRQAUUUUAFFFFABRRRQAUUUUAFFFFABRRRQAUUUUAFFFFABRRRQAUUUUAFFFFABRRRQAUUUUAFFFFABRRRQAVAn/IRm/65R/zep6gT/kIzf8AXKP+b1S2YnuieiiipGFFFFABRRRQAUUUUAFFFFABXP6vdanod/Jqa777S3UefbqPntsfxp6j1H410FBGRg1pTmovVXRnUg5xsnZnnHgq81LVfCllpOjMbSO3Lfa75hyuZGbZGO7EEc9s16PUcMENtEIreJIox0SNQoH4CpK0xFZVpuUVZXb+8xwtB0KajKV2kl93kFFFFc51BRRRQAUUUUAFFFFABRRRQAUUUUAFFFFABRRRQAUUUUAFFFFABRRRQAUUUUAFFFFABRRRQAUUUUAFFFFABRRRQAVAn/IRm/65R/zep6gT/kIzf9co/wCb1S2YnuieiiipGFVhJcXHzW+yOPs8ili/0AIwPfP4U6+JGn3BUlWETYI7cGpgAqgKMADAA7VS0VxbuxDsu/8AnvD/AN+T/wDFUbLv/nvD/wB+T/8AFVPRRzMLIg2Xf/PeH/vyf/iqNl3/AM94f+/J/wDiqnoo5mFkQbLv/nvD/wB+T/8AFUbLv/nvD/35P/xVT0UczCyINl3/AM94f+/J/wDiqNl3/wA94f8Avyf/AIqp6KOZhZEGy7/57w/9+T/8VRsu/wDnvD/35P8A8VU9FHMwsiDZd/8APeH/AL8n/wCKo2Xf/PeH/vyf/iqnoo5mFkQbLv8A57w/9+T/APFUbLv/AJ7w/wDfk/8AxVT0UczCyINl3/z3h/78n/4qjZd/894f+/J/+KqeijmYWRXKXnaeD/vyf/iqWOZxIIbkKshBKsv3Xx/I+38+anqvej91Gw4ZZo8H0ywB/QkfjQnd2YnpqWKKKKkoKKKKACiiigAooooAKKKKACiiigAooooAKKKKACiiigAooooAKKKKACiiigAooooAKgT/AJCM3/XKP+b1PUCf8hGb/rlH/N6pbMT3RPRRRUjIL7/kHXP/AFyb+RqeoL7/AJB1z/1yb+Rqeq6C6hRRRUjCiisXxhNcw+ENRaw1KDTLpotkF3cNtSN2IVcnBxkkDODgnODQBtUV5XBqt1oP2uzvotc0+9kt0mSyvtTN5FMBPGjyxXG4uMeYoKHaOR8vWtA+MPFVxrVva2cOkJBf6reaZbNKkrNEYPMbzXwwDArEw2jHODu7AA9EoryRPG2o6x9kuCzWMkk2iGZYZ32fvbuaOVQCcBSI/qQQDnAq7H8S9WRJppLexuIptGvdTtBDBOiqYAhVfNcBZlYOPnQADHcEGgD06ivNdf1rxVYXlvaveWMN8brSlna3SQwsk13MhVVZuOFUMepGRxxjd8PeLbvWNSh0yeCCK/tmuU1SNc/uTGyqm3njzA6uM/w5oA62ivMJdR1eH4qXRu755bUapa2MFvHNLGkaPbvLkoH2McgZJXJ9hxWfYeOdf0qFHuJ0v0m0bRFtYpIndluLkyq0jlcs3KMSAMthAMHJIB6/RXA2/i7xJevBp1ra2cd+2oNatc3VrNDFJGIPO8xYmIdT/BtJ6jOSMV31ABRRRQAVBef6hf8ArrH/AOhrU9QXn+oX/rrH/wChrVR3QpbMnoooqRhRRRQAUUUUAFFFFABRRRQAUUUUAFFFFABRRRQAUUUUAFFFFABRRRQAUUUUAFFFFABUCf8AIRm/65R/zep6gT/kIzf9co/5vVLZie6J6KKKkZBff8g65/65N/I1PUF//wAg25/65N/I1PVfZF1CiiipGFQXtla6lYzWWoW8dzbToY5YZVDK6nqCD1qeigDn7HwL4c02OZbXTR+/VUdpZpJW2KwZUDOxKqGAO0ED2q+mgaXHPbzJaIJLa5lu4myfkllDCR+vUh3/ADrRooAxIfB2gQKqxabEoUwsBubgwu0kff8AhZ2P41Wtvh/4YtARBpgC/Z5LVVeeRxHDIMNEgLEIhH8K4A7CukooAzdS8O6VrHm/2jaLMZhCHbcyt+6cvGQQQQVZmII55qpoXhr+ytZ1fWLyeK61HVXj82WK38lRHGu2NMbmJIBOWJ5J6AAAbtFAGdJ4f0uXUDeyWaNcmdLkyZOfMRCit17KSKpzeC/D08flzaXEyfY47HaWbHkxtujXr1U8q33gehrdooAytO8M6RpSxCxtNjRStOsjyPI7SMu1nZ2JZiV4yxPAA7CtWiigAooooAKgvP8AUL/11j/9DWp6gvf9Qv8A11j/APQ1qo/EhS2ZPRRRUjCiiigAooooAKKKKACiiigAooooAKKKKACiiigAooooAKKKKACiiigAooooAKKKKACqplji1CUyuqZiTG44zy9WqKadhMi+1W56Txf99ij7VB/z3j/77FS0UaBqNkjWaJ45BlXUqw9QagjuTF+7uwUYcCTHyv757fQ/r1qzRQn0YWIvtVv/AM94/wDvsUfarf8A57x/99ipaKNA1IvtVv8A894/++xR9qt/+e8f/fYqWijQNSL7Vb/894/++xR9qt/+e8f/AH2Kloo0DUi+1W//AD3j/wC+xR9qt/8AnvH/AN9ipaKNA1IvtVv/AM94/wDvsUfarf8A57x/99ipaKNA1IvtVv8A894/++xR9qt/+e8f/fYqWijQNSL7Vb/894/++xR9qt/+e8f/AH2Kloo0DUi+1W//AD3j/wC+xR9qt/8AnvH/AN9ipaKNA1IjdW4H+vj/AAYVFk3kiYVlgRgxLqVLkdBg84B5z9KtUU7pbBZsKKKKkYUUUUAFFFFABRRRQAUUUUAFFFFABRRRQAUUUUAFFFFABRRRQAUUUUAFFFFABRRRQAUUUUAFFFFABRRRQAUUUUAFFFFABRRRQAUUUUAFFFFABRRRQAUUUUAFFFFABRRRQAUUUUAFFFFABRRRQAUUUUAFFFFABRRRQB//2Q==)\n",
        "\n"
      ]
    },
    {
      "cell_type": "code",
      "metadata": {
        "id": "4x2qb2bpA3aX"
      },
      "source": [
        "# this function extracts all the excel files and concatenates into single pandas dataframe\n",
        "def extract_data(path):\n",
        "  all_excel_files = glob2.glob(path+'/**/CA*.xlsx')\n",
        "  print(all_excel_files)\n",
        "  appended_data =[]\n",
        "\n",
        "  for file in all_excel_files:\n",
        "    data = pd.read_excel(file,skiprows=9)\n",
        "    appended_data.append(data)\n",
        "  full_data = pd.concat(appended_data)\n",
        "  return full_data"
      ],
      "execution_count": null,
      "outputs": []
    },
    {
      "cell_type": "code",
      "metadata": {
        "colab": {
          "base_uri": "https://localhost:8080/"
        },
        "id": "MgU8y6nSB_UI",
        "outputId": "d7c4d569-cc97-4d34-9537-82aad7186d95"
      },
      "source": [
        "path = '/content/drive/My Drive/transact'\n",
        "data = extract_data(path)"
      ],
      "execution_count": null,
      "outputs": [
        {
          "output_type": "stream",
          "text": [
            "['/content/drive/My Drive/transact/CA20200731_194418.xlsx', '/content/drive/My Drive/transact/CA20200731_195344.xlsx', '/content/drive/My Drive/transact/CA20200731_195122.xlsx', '/content/drive/My Drive/transact/CA20200402_135033.xlsx', '/content/drive/My Drive/transact/CA20200402_135015.xlsx', '/content/drive/My Drive/transact/CA20200602_105523.xlsx', '/content/drive/My Drive/transact/CA20200208_150446.xlsx', '/content/drive/My Drive/transact/CA20200208_150646.xlsx', '/content/drive/My Drive/transact/CA20200208_150257.xlsx', '/content/drive/My Drive/transact/CA20200404_130055.xlsx', '/content/drive/My Drive/transact/CA20200728_150902.xlsx']\n"
          ],
          "name": "stdout"
        }
      ]
    },
    {
      "cell_type": "code",
      "metadata": {
        "colab": {
          "base_uri": "https://localhost:8080/"
        },
        "id": "fJ7ZaCvrK5AU",
        "outputId": "484a5eef-bca2-4ee3-caed-9436c5b3e608"
      },
      "source": [
        "data.shape"
      ],
      "execution_count": null,
      "outputs": [
        {
          "output_type": "execute_result",
          "data": {
            "text/plain": [
              "(1255, 4)"
            ]
          },
          "metadata": {
            "tags": []
          },
          "execution_count": 14
        }
      ]
    },
    {
      "cell_type": "code",
      "metadata": {
        "colab": {
          "base_uri": "https://localhost:8080/"
        },
        "id": "v3jq6NrbNLnl",
        "outputId": "2f39cf25-535a-4384-d021-426a63f33ab2"
      },
      "source": [
        "data['Libellé']"
      ],
      "execution_count": null,
      "outputs": [
        {
          "output_type": "execute_result",
          "data": {
            "text/plain": [
              "0      COMMISSION              \\nCARTE 223639401 0192...\n",
              "1      COMMISSION              \\nCARTE 223639301 0192...\n",
              "2      REMISE CARTE            \\nCARTE 223639401 0192...\n",
              "3      REMISE CARTE            \\nCARTE 223639301 0192...\n",
              "4      COMMISSION              \\nCARTE 223639401 0067...\n",
              "                             ...                        \n",
              "159    PAIEMENT PAR CARTE      \\nLEROY MERLIN ROSNY S...\n",
              "160    PAIEMENT PAR CARTE      \\nRELAIS BOUGIVAL BOI ...\n",
              "161    PAIEMENT PAR CARTE      \\nTRANSMETAL LA COURNE...\n",
              "162                   REMISE DE CHEQUE        \\n2753646 \n",
              "163    COTISATION              \\nLE COMPOSE PRO   N°1...\n",
              "Name: Libellé, Length: 1255, dtype: object"
            ]
          },
          "metadata": {
            "tags": []
          },
          "execution_count": 6
        }
      ]
    },
    {
      "cell_type": "code",
      "metadata": {
        "id": "wWGNu6i9zLMw"
      },
      "source": [
        "## Stop word and Punctuation removal\n",
        "\n",
        "def stopword_punctuate(full_data):\n",
        "\n",
        "  french_stopwords = set(stopwords.words('french'))\n",
        "\n",
        "  sp_pattern = re.compile( \"\"\"[\\.\\!\\\"\\s\\?\\-\\,\\'\\/0-9]+\"\"\", re.M)\n",
        "  punctuation_tokenizer = sp_pattern.split\n",
        "\n",
        "  filt_out =  lambda text: [token for token in text if token.lower() not in french_stopwords]\n",
        "  fr_stop =  lambda token: len(token) and token.lower() not in french_stopwords\n",
        "\n",
        "  Token_stopword= []\n",
        "  for i in range(len(full_data)):\n",
        "    #print(full_data['Libellé'][i])\n",
        "    tokens = wt(full_data['Libellé'][i], language=\"french\")\n",
        "    Token_stopword.append(tokens)\n",
        "\n",
        "  Token_punctuation= []\n",
        "  for i in range(len(full_data)):\n",
        "    #print(full_data['Libellé'][i])\n",
        "    tokens = punctuation_tokenizer(full_data['Libellé'][i])\n",
        "    Token_punctuation.append(tokens)\n",
        "  \n",
        "  Tokens_without_stop=[filt_out(tk) for tk in Token_stopword]\n",
        "  Tokens_without_punctuation=[filt_out(tk) for tk in Token_punctuation]\n",
        "\n",
        "  return Tokens_without_stop,Tokens_without_punctuation "
      ],
      "execution_count": null,
      "outputs": []
    },
    {
      "cell_type": "code",
      "metadata": {
        "id": "7moY1Rvknc57"
      },
      "source": [
        "data.reset_index(inplace=True)\n",
        "data['Libellé']= data['Libellé'].astype('str')\n",
        "Token_stopword, Token_punctuate= stopword_punctuate(data)"
      ],
      "execution_count": null,
      "outputs": []
    },
    {
      "cell_type": "code",
      "metadata": {
        "id": "nHIA9UvV_9Ta"
      },
      "source": [
        "#removing empty lists\n",
        "Tokens_final_punctuate=[]\n",
        "for i in Token_punctuate:\n",
        "  str_list = list(filter(None, i))\n",
        "  Tokens_final_punctuate.append(str_list)"
      ],
      "execution_count": null,
      "outputs": []
    },
    {
      "cell_type": "markdown",
      "metadata": {
        "id": "Mhtti0aM1cAa"
      },
      "source": [
        "The data I have is from a French Business entities. So, I used a French stemmer"
      ]
    },
    {
      "cell_type": "code",
      "metadata": {
        "id": "dnyVWIaVAGPL"
      },
      "source": [
        "# stemming frenc words\n",
        "def stemmer(token_list):\n",
        "\n",
        "  stemmer = SnowballStemmer(\"french\", ignore_stopwords=True)\n",
        "  Tokens_stem =[]\n",
        "  for i in token_list:\n",
        "    Tokens_stem.append(list(map(stemmer.stem,i)))\n",
        "  \n",
        "  return Tokens_stem"
      ],
      "execution_count": null,
      "outputs": []
    },
    {
      "cell_type": "code",
      "metadata": {
        "id": "VNM3BIxw_Xe2"
      },
      "source": [
        "Tokens_stemmed=stemmer(Tokens_final_punctuate)"
      ],
      "execution_count": null,
      "outputs": []
    },
    {
      "cell_type": "markdown",
      "metadata": {
        "id": "F3f2BKoB6ZZI"
      },
      "source": [
        "After discussions with the entity, we are provided with a outline of some transactions which we utilized for labelling the categories\n"
      ]
    },
    {
      "cell_type": "code",
      "metadata": {
        "id": "HHCSkiN8OFqs"
      },
      "source": [
        "# Extract categories from the BT descriptors\n",
        "\n",
        "def categorize(tokens):\n",
        "\n",
        "  labels =[]\n",
        "  for i in range(len(tokens)):\n",
        "    ls = tokens[i] \n",
        "    if any(elem in ['COMMISSION']  for elem in ls): \n",
        "      labels.append('Bank charges')\n",
        "    elif any(elem in ['REMISE']  for elem in ls):\n",
        "      labels.append('Sales')\n",
        "    elif any(elem in ['LECLERC', 'CARREFOUR', 'AUCHAN', 'INTERMARCHE', 'LIDL', 'KAVIYEN']  for elem in ls):\n",
        "      labels.append('Supermarket')\n",
        "    elif any(elem in ['AMAZON', 'WISH', 'CDISCOUNT']  for elem in ls):\n",
        "      labels.append('e-commerce')\n",
        "    elif any(elem in ['SFR', 'MOBILE', 'EDF'] for elem in ls):\n",
        "      labels.append('Household charges')\n",
        "    elif any(elem in ['AXA','ASSURANCES'] for elem in ls):\n",
        "      labels.append('Assurances')\n",
        "    elif any(elem in ['GNANA', 'METRO', 'ELFI', 'LEROY'] for elem in ls):\n",
        "      labels.append('Payables')\n",
        "    elif any(elem in ['SOFINCAL'] for elem in ls):\n",
        "      labels.append('Rentals')\n",
        "    elif any(elem in ['salaire'] for elem in ls):\n",
        "      labels.append('Payroll')\n",
        "    elif any(elem in ['COTISATION'] for elem in ls):\n",
        "      labels.append('subscriptions')\n",
        "    else:\n",
        "      labels.append('nan')\n",
        "    \n",
        "  return labels\n"
      ],
      "execution_count": null,
      "outputs": []
    },
    {
      "cell_type": "code",
      "metadata": {
        "id": "tKlQDnwVk-On"
      },
      "source": [
        "labels= categorize(Tokens_final_punctuate)"
      ],
      "execution_count": null,
      "outputs": []
    },
    {
      "cell_type": "code",
      "metadata": {
        "id": "f8g1apnase0q"
      },
      "source": [
        "first_token=[]\n",
        "for token in Tokens_final_punctuate:\n",
        "  first_token.append(token[0])"
      ],
      "execution_count": null,
      "outputs": []
    },
    {
      "cell_type": "code",
      "metadata": {
        "id": "tYjtgzMUcO5d"
      },
      "source": [
        "# simillarity detection\n",
        "def jaccard_similarity(list1, list2):\n",
        "    intersection = len(list(set(list1).intersection(list2)))\n",
        "    union = (len(list1) + len(list2)) - intersection\n",
        "    return float(intersection) / union"
      ],
      "execution_count": null,
      "outputs": []
    },
    {
      "cell_type": "markdown",
      "metadata": {
        "id": "Bd3VRwbHyzXc"
      },
      "source": [
        "Simillarity detection as shown in the below ![stage1 eloborate.JPG](data:image/jpeg;base64,/9j/4AAQSkZJRgABAQEAYABgAAD/4REGRXhpZgAATU0AKgAAAAgABAE7AAIAAAAUAAAISodpAAQAAAABAAAIXpydAAEAAAAoAAAQ1uocAAcAAAgMAAAAPgAAAAAc6gAAAAgAAAAAAAAAAAAAAAAAAAAAAAAAAAAAAAAAAAAAAAAAAAAAAAAAAAAAAAAAAAAAAAAAAAAAAAAAAAAAAAAAAAAAAAAAAAAAAAAAAAAAAAAAAAAAAAAAAAAAAAAAAAAAAAAAAAAAAAAAAAAAAAAAAAAAAAAAAAAAAAAAAAAAAAAAAAAAAAAAAAAAAAAAAAAAAAAAAAAAAAAAAAAAAAAAAAAAAAAAAAAAAAAAAAAAAAAAAAAAAAAAAAAAAAAAAAAAAAAAAAAAAAAAAAAAAAAAAAAAAAAAAAAAAAAAAAAAAAAAAAAAAAAAAAAAAAAAAAAAAAAAAAAAAAAAAAAAAAAAAAAAAAAAAAAAAAAAAAAAAAAAAAAAAAAAAAAAAAAAAAAAAAAAAAAAAAAAAAAAAAAAAAAAAAAAAAAAAAAAAAAAAAAAAAAAAAAAAAAAAAAAAAAAAAAAAAAAAAAAAAAAAAAAAAAAAAAAAAAAAAAAAAAAAAAAAAAAAAAAAAAAAAAAAAAAAAAAAAAAAAAAAAAAAAAAAAAAAAAAAAAAAAAAAAAAAAAAAAAAAAAAAAAAAAAAAAAAAAAAAAAAAAAAAAAAAAAAAAAAAAAAAAAAAAAAAAAAAAAAAAAAAAAAAAAAAAAAAAAAAAAAAAAAAAAAAAAAAAAAAAAAAAAAAAAAAAAAAAAAAAAAAAAAAAAAAAAAAAAAAAAAAAAAAAAAAAAAAAAAAAAAAAAAAAAAAAAAAAAAAAAAAAAAAAAAAAAAAAAAAAAAAAAAAAAAAAAAAAAAAAAAAAAAAAAAAAAAAAAAAAAAAAAAAAAAAAAAAAAAAAAAAAAAAAAAAAAAAAAAAAAAAAAAAAAAAAAAAAAAAAAAAAAAAAAAAAAAAAAAAAAAAAAAAAAAAAAAAAAAAAAAAAAAAAAAAAAAAAAAAAAAAAAAAAAAAAAAAAAAAAAAAAAAAAAAAAAAAAAAAAAAAAAAAAAAAAAAAAAAAAAAAAAAAAAAAAAAAAAAAAAAAAAAAAAAAAAAAAAAAAAAAAAAAAAAAAAAAAAAAAAAAAAAAAAAAAAAAAAAAAAAAAAAAAAAAAAAAAAAAAAAAAAAAAAAAAAAAAAAAAAAAAAAAAAAAAAAAAAAAAAAAAAAAAAAAAAAAAAAAAAAAAAAAAAAAAAAAAAAAAAAAAAAAAAAAAAAAAAAAAAAAAAAAAAAAAAAAAAAAAAAAAAAAAAAAAAAAAAAAAAAAAAAAAAAAAAAAAAAAAAAAAAAAAAAAAAAAAAAAAAAAAAAAAAAAAAAAAAAAAAAAAAAAAAAAAAAAAAAAAAAAAAAAAAAAAAAAAAAAAAAAAAAAAAAAAAAAAAAAAAAAAAAAAAAAAAAAAAAAAAAAAAAAAAAAAAAAAAAAAAAAAAAAAAAAAAAAAAAAAAAAAAAAAAAAAAAAAAAAAAAAAAAAAAAAAAAAAAAAAAAAAAAAAAAAAAAAAAAAAAAAAAAAAAAAAAAAAAAAAAAAAAAAAAAAAAAAAAAAAAAAAAAAAAAAAAAAAAAAAAAAAAAAAAAAAAAAAAAAAAAAAAAAAAAAAAAAAAAAAAAAAAAAAAAAAAAAAAAAAAAAAAAAAAAAAAAAAAAAAAAAAAAAAAAAAAAAAAAAAAAAAAAAAAAAAAAAAAAAAAAAAAAAAAAAAAAAAAAAAAAAAAAAAAAAAAAAAAAAAAAAAAAAAAAAAAAAAAAAAAAAAAAAAAAAAAAAAAAAAAAAAAAAAAAAAAAAAAAAAAAAAAAAAAAAAAAAAAAAAAAAAAAAAAAAAAAAAAAAAAAAAAAAAAAAAAAAAAAAAAAAAAAAAAAAAAAAAAAAAAAAAAAAAAAAAAAAAAAAAAAAAAAAAAAAAAAAAAAAAAAAAAAAAAAAAAAAAAAAAAAAAAAAAAAAAAAAAAAAAAAAAAAAAAAAAAAAAAAAAAAAAAAAAAAAAAAAAAAAAAAAAAAAAAAAAAAAAAAAAAAAAAAAAAAAAAAAAAAAAAAAAAAAAAAAAAAAAAAAAAAAAAAAAAAAAAAAAAAAAAAAAAAAAAAAAAAAAAAAAAAAAAAAAAAAAAAAAAAAAAAAAAAAAAAAAAAAAAAAAAAAAAAAAAAAAAAAAAAAAAAAAAAAAAAAAAAAAAAAAAAAAAAAAAAAAAAAAAAAAAAAAAAAAAAAAAAAAAAAAAAAAAAAAAAAAAAAAAAAAAAAAAAAAAAAAAAAAAAAAAAAAAAAAAAAAAAAAAAAAAAAAAAAAAAAAAAAAAAAAAAAAAAAAAAAAAAAAAAAAAAAAAAAAAAAAAAAAAAAAAAAAAAAAAAAAAAAAAAAAAAAAAAAAAAAAAAAAAAAAAAAAAAAAAAAAAAAAAAAAAAAAAAAAAAAAAAAAAAAAAAAAAAAAAAAAAAAAAAAAAAAAAAAAAAAAAAAAAAAAAAAAAAAAAAAAAAAAAAAAAAAAAAAAAAAAAAAAAAAAAAAAAAAAAAAAAAAAAAAAAAAAAAAAAAAAAAAAAAAAAAAAAAAAAAAAAAAAAAAAAAAAAAAAAAAAAAAAAAAAAAAAAAAAAAAAAAAAAAAAAAAAAAAAAAAAAAAAAAAAAAAAAAAAAAAAAAAAAAAAAAAAAAAAAAAAAAAAAAAAAAAAAAAAAAAAAAAAAAAAAAAAAAAAAAAAAAAAAAAAAAAAAAAAAAAAAAAAAAAAAAAAAAAAAAAAAAAAAAAAAAAAAAAAAAAAAAAAAAAAAAAAAAAAAAAAAAAAAAAAAAAAAAAAAAAAAAAAAAAHlhc3dhbnRoIGdvdGhpcmVkZHkAAAWQAwACAAAAFAAAEKyQBAACAAAAFAAAEMCSkQACAAAAAzY4AACSkgACAAAAAzY4AADqHAAHAAAIDAAACKAAAAAAHOoAAAAIAAAAAAAAAAAAAAAAAAAAAAAAAAAAAAAAAAAAAAAAAAAAAAAAAAAAAAAAAAAAAAAAAAAAAAAAAAAAAAAAAAAAAAAAAAAAAAAAAAAAAAAAAAAAAAAAAAAAAAAAAAAAAAAAAAAAAAAAAAAAAAAAAAAAAAAAAAAAAAAAAAAAAAAAAAAAAAAAAAAAAAAAAAAAAAAAAAAAAAAAAAAAAAAAAAAAAAAAAAAAAAAAAAAAAAAAAAAAAAAAAAAAAAAAAAAAAAAAAAAAAAAAAAAAAAAAAAAAAAAAAAAAAAAAAAAAAAAAAAAAAAAAAAAAAAAAAAAAAAAAAAAAAAAAAAAAAAAAAAAAAAAAAAAAAAAAAAAAAAAAAAAAAAAAAAAAAAAAAAAAAAAAAAAAAAAAAAAAAAAAAAAAAAAAAAAAAAAAAAAAAAAAAAAAAAAAAAAAAAAAAAAAAAAAAAAAAAAAAAAAAAAAAAAAAAAAAAAAAAAAAAAAAAAAAAAAAAAAAAAAAAAAAAAAAAAAAAAAAAAAAAAAAAAAAAAAAAAAAAAAAAAAAAAAAAAAAAAAAAAAAAAAAAAAAAAAAAAAAAAAAAAAAAAAAAAAAAAAAAAAAAAAAAAAAAAAAAAAAAAAAAAAAAAAAAAAAAAAAAAAAAAAAAAAAAAAAAAAAAAAAAAAAAAAAAAAAAAAAAAAAAAAAAAAAAAAAAAAAAAAAAAAAAAAAAAAAAAAAAAAAAAAAAAAAAAAAAAAAAAAAAAAAAAAAAAAAAAAAAAAAAAAAAAAAAAAAAAAAAAAAAAAAAAAAAAAAAAAAAAAAAAAAAAAAAAAAAAAAAAAAAAAAAAAAAAAAAAAAAAAAAAAAAAAAAAAAAAAAAAAAAAAAAAAAAAAAAAAAAAAAAAAAAAAAAAAAAAAAAAAAAAAAAAAAAAAAAAAAAAAAAAAAAAAAAAAAAAAAAAAAAAAAAAAAAAAAAAAAAAAAAAAAAAAAAAAAAAAAAAAAAAAAAAAAAAAAAAAAAAAAAAAAAAAAAAAAAAAAAAAAAAAAAAAAAAAAAAAAAAAAAAAAAAAAAAAAAAAAAAAAAAAAAAAAAAAAAAAAAAAAAAAAAAAAAAAAAAAAAAAAAAAAAAAAAAAAAAAAAAAAAAAAAAAAAAAAAAAAAAAAAAAAAAAAAAAAAAAAAAAAAAAAAAAAAAAAAAAAAAAAAAAAAAAAAAAAAAAAAAAAAAAAAAAAAAAAAAAAAAAAAAAAAAAAAAAAAAAAAAAAAAAAAAAAAAAAAAAAAAAAAAAAAAAAAAAAAAAAAAAAAAAAAAAAAAAAAAAAAAAAAAAAAAAAAAAAAAAAAAAAAAAAAAAAAAAAAAAAAAAAAAAAAAAAAAAAAAAAAAAAAAAAAAAAAAAAAAAAAAAAAAAAAAAAAAAAAAAAAAAAAAAAAAAAAAAAAAAAAAAAAAAAAAAAAAAAAAAAAAAAAAAAAAAAAAAAAAAAAAAAAAAAAAAAAAAAAAAAAAAAAAAAAAAAAAAAAAAAAAAAAAAAAAAAAAAAAAAAAAAAAAAAAAAAAAAAAAAAAAAAAAAAAAAAAAAAAAAAAAAAAAAAAAAAAAAAAAAAAAAAAAAAAAAAAAAAAAAAAAAAAAAAAAAAAAAAAAAAAAAAAAAAAAAAAAAAAAAAAAAAAAAAAAAAAAAAAAAAAAAAAAAAAAAAAAAAAAAAAAAAAAAAAAAAAAAAAAAAAAAAAAAAAAAAAAAAAAAAAAAAAAAAAAAAAAAAAAAAAAAAAAAAAAAAAAAAAAAAAAAAAAAAAAAAAAAAAAAAAAAAAAAAAAAAAAAAAAAAAAAAAAAAAAAAAAAAAAAAAAAAAAAAAAAAAAAAAAAAAAAAAAAAAAAAAAAAAAAAAAAAAAAAAAAAAAAAAAAAAAAAAAAAAAAAAAAAAAAAAAAAAAAAAAAAAAAAAAAAAAAAAAAAAAAAAAAAAAAAAAAAAAAAAAAAAAAAAAAAAAAAAAAAAAAAAAAAAAAAAAAAAAAAAAAAAAAAAAAAAAAAAAAAAAAAAAAAAAAAAAAAAAAAAAAAAAAAAAAAAAAAAAAAAAAAAAAAAAAAAAAAAAAAAAAAAAAAAAAAAAAAAAAAAAAAAAAAAAAAAAAAAAAAAAAAAAAAAAAAAAAAAAAAAAAAAAAAAAAAAAAAAAAAAAAAAAAAAAAAAAAAAAAAAAAAAAAAAAAAAAAAAAAAAAAAAAAAAAAAAAAAAAAAAAAAAAAAAAAAAAAAAAAAAAAAAAAAAAAAAAAAAAAAAAAAAAAAAAAAAAAAAAAAAAAAAAAAAAAAAAAAAAAAAAAAAAAAAAAAAAAAAAAAAAAAAAAAAAAAAAAAAAAAAAAAAAAAAAAAAAAAAAAAAAAAAAAAAAAAAAAAAAAAAAAAAAAAAAAAAAAAAAAAAAAAAAAAAAAAAAAAAAAAAAAAAAAAAAAAAAAAAAAAAAAAAAAAAAAAAAAAAAAAAAAAAAAAAAAAAAAAAAAAAAAAAAAAAAAAAAAAAAAAAAAAAAAAAAAAAAAAAAAAAAAAAAAAAAAAAAAAAAAAAAAAAAAAAAAAAAAAAAAAAAAAAAAAAAAAAAAAAAAAAAAAAAAAAAAAAAAAAAAAAAAAAAAAAAAAAAAAAAAAAAAAAAAAAAAAAAAAAAAAAAAAAAAAAAAAAAAAAAAAAAAAAAAAAAAAAAAAAAAAAAAAAAAAAAAAAAAAAAAAAAAAAAAAAAAAAAAAAAAAAAAAAAAAAAAAAAAAAAAAAAAAAAAAAAAAAAyMDIxOjAxOjE3IDE3OjMwOjQ1ADIwMjE6MDE6MTcgMTc6MzA6NDUAAAB5AGEAcwB3AGEAbgB0AGgAIABnAG8AdABoAGkAcgBlAGQAZAB5AAAA/+ELJmh0dHA6Ly9ucy5hZG9iZS5jb20veGFwLzEuMC8APD94cGFja2V0IGJlZ2luPSfvu78nIGlkPSdXNU0wTXBDZWhpSHpyZVN6TlRjemtjOWQnPz4NCjx4OnhtcG1ldGEgeG1sbnM6eD0iYWRvYmU6bnM6bWV0YS8iPjxyZGY6UkRGIHhtbG5zOnJkZj0iaHR0cDovL3d3dy53My5vcmcvMTk5OS8wMi8yMi1yZGYtc3ludGF4LW5zIyI+PHJkZjpEZXNjcmlwdGlvbiByZGY6YWJvdXQ9InV1aWQ6ZmFmNWJkZDUtYmEzZC0xMWRhLWFkMzEtZDMzZDc1MTgyZjFiIiB4bWxuczpkYz0iaHR0cDovL3B1cmwub3JnL2RjL2VsZW1lbnRzLzEuMS8iLz48cmRmOkRlc2NyaXB0aW9uIHJkZjphYm91dD0idXVpZDpmYWY1YmRkNS1iYTNkLTExZGEtYWQzMS1kMzNkNzUxODJmMWIiIHhtbG5zOnhtcD0iaHR0cDovL25zLmFkb2JlLmNvbS94YXAvMS4wLyI+PHhtcDpDcmVhdGVEYXRlPjIwMjEtMDEtMTdUMTc6MzA6NDUuNjc2PC94bXA6Q3JlYXRlRGF0ZT48L3JkZjpEZXNjcmlwdGlvbj48cmRmOkRlc2NyaXB0aW9uIHJkZjphYm91dD0idXVpZDpmYWY1YmRkNS1iYTNkLTExZGEtYWQzMS1kMzNkNzUxODJmMWIiIHhtbG5zOmRjPSJodHRwOi8vcHVybC5vcmcvZGMvZWxlbWVudHMvMS4xLyI+PGRjOmNyZWF0b3I+PHJkZjpTZXEgeG1sbnM6cmRmPSJodHRwOi8vd3d3LnczLm9yZy8xOTk5LzAyLzIyLXJkZi1zeW50YXgtbnMjIj48cmRmOmxpPnlhc3dhbnRoIGdvdGhpcmVkZHk8L3JkZjpsaT48L3JkZjpTZXE+DQoJCQk8L2RjOmNyZWF0b3I+PC9yZGY6RGVzY3JpcHRpb24+PC9yZGY6UkRGPjwveDp4bXBtZXRhPg0KICAgICAgICAgICAgICAgICAgICAgICAgICAgICAgICAgICAgICAgICAgICAgICAgICAgICAgICAgICAgICAgICAgICAgICAgICAgICAgICAgICAgICAgICAgICAgICAgICAgIAogICAgICAgICAgICAgICAgICAgICAgICAgICAgICAgICAgICAgICAgICAgICAgICAgICAgICAgICAgICAgICAgICAgICAgICAgICAgICAgICAgICAgICAgICAgICAgICAgICAgCiAgICAgICAgICAgICAgICAgICAgICAgICAgICAgICAgICAgICAgICAgICAgICAgICAgICAgICAgICAgICAgICAgICAgICAgICAgICAgICAgICAgICAgICAgICAgICAgICAgICAKICAgICAgICAgICAgICAgICAgICAgICAgICAgICAgICAgICAgICAgICAgICAgICAgICAgICAgICAgICAgICAgICAgICAgICAgICAgICAgICAgICAgICAgICAgICAgICAgICAgIAogICAgICAgICAgICAgICAgICAgICAgICAgICAgICAgICAgICAgICAgICAgICAgICAgICAgICAgICAgICAgICAgICAgICAgICAgICAgICAgICAgICAgICAgICAgICAgICAgICAgCiAgICAgICAgICAgICAgICAgICAgICAgICAgICAgICAgICAgICAgICAgICAgICAgICAgICAgICAgICAgICAgICAgICAgICAgICAgICAgICAgICAgICAgICAgICAgICAgICAgICAKICAgICAgICAgICAgICAgICAgICAgICAgICAgICAgICAgICAgICAgICAgICAgICAgICAgICAgICAgICAgICAgICAgICAgICAgICAgICAgICAgICAgICAgICAgICAgICAgICAgIAogICAgICAgICAgICAgICAgICAgICAgICAgICAgICAgICAgICAgICAgICAgICAgICAgICAgICAgICAgICAgICAgICAgICAgICAgICAgICAgICAgICAgICAgICAgICAgICAgICAgCiAgICAgICAgICAgICAgICAgICAgICAgICAgICAgICAgICAgICAgICAgICAgICAgICAgICAgICAgICAgICAgICAgICAgICAgICAgICAgICAgICAgICAgICAgICAgICAgICAgICAKICAgICAgICAgICAgICAgICAgICAgICAgICAgICAgICAgICAgICAgICAgICAgICAgICAgICAgICAgICAgICAgICAgICAgICAgICAgICAgICAgICAgICAgICAgICAgICAgICAgIAogICAgICAgICAgICAgICAgICAgICAgICAgICAgICAgICAgICAgICAgICAgICAgICAgICAgICAgICAgICAgICAgICAgICAgICAgICAgICAgICAgICAgICAgICAgICAgICAgICAgCiAgICAgICAgICAgICAgICAgICAgICAgICAgICAgICAgICAgICAgICAgICAgICAgICAgICAgICAgICAgICAgICAgICAgICAgICAgICAgICAgICAgICAgICAgICAgICAgICAgICAKICAgICAgICAgICAgICAgICAgICAgICAgICAgICAgICAgICAgICAgICAgICAgICAgICAgICAgICAgICAgICAgICAgICAgICAgICAgICAgICAgICAgICAgICAgICAgICAgICAgIAogICAgICAgICAgICAgICAgICAgICAgICAgICAgICAgICAgICAgICAgICAgICAgICAgICAgICAgICAgICAgICAgICAgICAgICAgICAgICAgICAgICAgICAgICAgICAgICAgICAgCiAgICAgICAgICAgICAgICAgICAgICAgICAgICAgICAgICAgICAgICAgICAgICAgICAgICAgICAgICAgICAgICAgICAgICAgICAgICAgICAgICAgICAgICAgICAgICAgICAgICAKICAgICAgICAgICAgICAgICAgICAgICAgICAgICAgICAgICAgICAgICAgICAgICAgICAgICAgICAgICAgICAgICAgICAgICAgICAgICAgICAgICAgICAgICAgICAgICAgICAgIAogICAgICAgICAgICAgICAgICAgICAgICAgICAgICAgICAgICAgICAgICAgICAgICAgICAgICAgICAgICAgICAgICAgICAgICAgICAgICAgICAgICAgICAgICAgICAgICAgICAgCiAgICAgICAgICAgICAgICAgICAgICAgICAgICAgICAgICAgICAgICAgICAgICAgICAgICAgICAgICAgICAgICAgICAgICAgICAgICAgICAgICAgICAgICAgICAgICAgICAgICAKICAgICAgICAgICAgICAgICAgICAgICAgICAgICAgICAgICAgICAgICAgICAgICAgICAgICAgICAgICAgICAgICAgICAgICAgICAgICAgICAgICAgICAgICAgICAgICAgICAgIAogICAgICAgICAgICAgICAgICAgICAgICAgICAgICAgICAgICAgICAgICAgICAgICAgICAgICAgICAgICAgICAgICAgICAgICAgICAgICAgICAgICAgICAgICAgICAgICAgICAgCiAgICAgICAgICAgICAgICAgICAgICAgICAgICA8P3hwYWNrZXQgZW5kPSd3Jz8+/9sAQwAHBQUGBQQHBgUGCAcHCAoRCwoJCQoVDxAMERgVGhkYFRgXGx4nIRsdJR0XGCIuIiUoKSssKxogLzMvKjInKisq/9sAQwEHCAgKCQoUCwsUKhwYHCoqKioqKioqKioqKioqKioqKioqKioqKioqKioqKioqKioqKioqKioqKioqKioqKioq/8AAEQgBGgMNAwEiAAIRAQMRAf/EAB8AAAEFAQEBAQEBAAAAAAAAAAABAgMEBQYHCAkKC//EALUQAAIBAwMCBAMFBQQEAAABfQECAwAEEQUSITFBBhNRYQcicRQygZGhCCNCscEVUtHwJDNicoIJChYXGBkaJSYnKCkqNDU2Nzg5OkNERUZHSElKU1RVVldYWVpjZGVmZ2hpanN0dXZ3eHl6g4SFhoeIiYqSk5SVlpeYmZqio6Slpqeoqaqys7S1tre4ubrCw8TFxsfIycrS09TV1tfY2drh4uPk5ebn6Onq8fLz9PX29/j5+v/EAB8BAAMBAQEBAQEBAQEAAAAAAAABAgMEBQYHCAkKC//EALURAAIBAgQEAwQHBQQEAAECdwABAgMRBAUhMQYSQVEHYXETIjKBCBRCkaGxwQkjM1LwFWJy0QoWJDThJfEXGBkaJicoKSo1Njc4OTpDREVGR0hJSlNUVVZXWFlaY2RlZmdoaWpzdHV2d3h5eoKDhIWGh4iJipKTlJWWl5iZmqKjpKWmp6ipqrKztLW2t7i5usLDxMXGx8jJytLT1NXW19jZ2uLj5OXm5+jp6vLz9PX29/j5+v/aAAwDAQACEQMRAD8A+kaKKKACiiigAooooAKKK5qH4heHJ7hYlurmNXm8hbibT7iKBn3bNomZBGctwPm5PSgDpaK5af4i+H7bUPsU39qi5w5EY0S8YsEIDMuIvmALKMjI+Yeorp4pFmhSRAwV1DDcpU4PqDyD7GgB1FFFABRRRQAUUUUAFFFFABRRRQAUUUUAFFFFABRRRQAUUUUAFFFFABRRRQAUUUUAFFFFABRRRQAUUUUAFFFFABRRRQAUUUUAFFFFABRRRQAUUUUAFFFFABRRRQAUUUUAFFFFABRRRQAUUUUAFFFFABRRRQAUUUUAFFFFABRRRQAUUUUAFFFFABRRRQAUUUUAFFFFABRRRQAUUUUAFFFFABRRRQAUUUUAFFFFABRRRQAUUUUAFFFYmq+MvD+iXZttV1SG2mXllfPy8A84HHBFAG3RUNneW2oWcV3YXEVzbTKHjmhcOjqe4I4IqagAPSvDTe+b4HTTYdeF9dJflm8OLbqZJ9t2W8oso3rnGd3Qd+M17lVXUNRs9Kszd6lcR21uHRDJIcKGZgqj8WYD8aAMa9Vj8TtEYKdo0fUATjgEzWWP5H8q6OjFVbrUrKxgaa7uYoollSFnZuA7sFVT7kso/EUAWqKKKACiiigAooooAKKKKACiiigAooooAKKKKACiiigAooooAKKKKACiiigAooooAKKKKACiiigAooooAKKKKACikDqzMFIJU4I9KWgAooooAKKKKACiiigAooooAKKKKACiiigAooooAKKKKACiiigAooooAKKKKACiiigAooooAKKKKACiiigAooooAKKKKACiiigAooooAKKKKACiiigAooooAKKx/DGsya54ch1K5RInd5VKoTgBJGQdfZayb34haU+haxc6PK8t5YabNfxQ3NrNAsyIpO5S6rvTOAWUkcjnkUAddRXP6b430HU/OEN6Yzb25upGuIJIUMI6yozqA6D++pI5HPIqhqXxAsBoNze6IzTXFvJbBoLu3lgYxzTLGHCuqkqQWww4JHWgDr6KKKACiiigAooooAKKKKACuKttY03SPiH4hbVdQtLFZI4NhuZ1jDYjGcbiM4yK7WopLW3lkDywRu46MyAkUAeSjUb+0heTS51sdB1nxHMYrhpjboIPs+flk2N5ayTo5DAc7uCN4NW7vVNUTR7JrnxTp00EUt0WS01dIpriNSvl4nKAO0eWDDCg5Uk8HPqUkaSxlJUV0YYKsMgj6Ux7W3kiWJ4I2jQgqhQELjpgUAecW/iCHVtUL6r4mvdDs49Ms7uwE0kVtJP5isXkcMu12BAUqBtB7fMKi1K+1eHQdd1gazeebb69HZW8IKiOKI3kKkYxySCwySeDgV6c8EUrI0kaOyHKFlBKn1HpS+VGVKlFwTuIx365oA8muvENzGuu3aeJ5xq9jrbW1jpfmJtlTzFCxeVjLhgWG7qOcEbTT7N30WfxQLbVrn7b/wAJNZIbeWYFvKkls1L7cZwysy7umOK9H03Q7LS3uHt0LPPcyXLPJglXkOWwew9qvNBE0nmNGhfGNxUZxnPX680AeXr4gvy6Xv8AbUp11vEH2FtE3rtFt9q8vHlYz/qP3vmfjnbxU9hd6rHb6RrMmtXs0t1r89lJbuy+SYPtEyBdu3qAqkNnPHXHFekeRD53neUnm7du/aN2PTPpTvKjwBsXAOQMd+uaAPPfCWtTHxcljf6w2qXF1FPKstnfRT2zKrjG6MKGhIDAADIzkEk16JUaQQxSPJHEiPIcuyqAW+p71JQAUUUUAFFFFABRRRQAUUUUAFFFFABRRRQAUUUUAFFFFABRRRQAUUUUAFFFFABRRRQAUUUUAFULq7lluDZWH+uxmSUjKwj39W9B+J46pdXctxM1lpxxIOJp+CIPb3bByB26nsDatbWKzgEUC4UEkknJYnqSe5PrWiSjqzJtzdlt/X9f1pSbSBbKsunNsulHzO5z5/chz3z69R24yDZsr5LyNvlaOWM7ZIn+8h9Pp6HoatVSvbJpXW4tGEV1GMKx6MP7reoP6dRRzc2kg5eTWH3F2iqtlfLdKyOhinj4khY/Mvv7g9j3/OrVQ007M0TUldBRRRSGFFFFABRRRQAUUUUAFFFFABRRRQAUUUUAFFFFABRRRQAUUUUAFFFFABRRRQAUUUUAFFFFABRRRQAUUUUAFFFFABRRRQAUUUUAFFFZviHWBoOg3WoeS1xJEoWG3U4M0rELHGD2LOyr+NAGlRWHpvii1m8LDWNYaLTPJLRXqSyjbbzK+x03cZ+YYB75GOtK3jLw6unJfHV7b7O8pgVt/JkAyU29dwHOMZxz0oAzfD2m+JdE0tNJa20w26STEXiXshkAeRnDeUYcEjd034461zZ+HfiC7857+9haaTQLzS2kk1C4ufNmmEf77EgxGpKElEHHHLcY7iPxNp0kkk4v9POmpYre/ahdDhCWG4jGAmF+9u65GOM1Hb+NvDV1DPLBrVmyW0YlnJkx5SE4DMD0GcdfUUAc9q/gnWPFNq1prc1lZRw6VcWEMlkzuZHlCAyMpVdijyx8gLdfvcVDN4E1G+sbkTxWtvdyLboszapdXpZY7hJWGZR8gOzhQDyetdTb+MvDl1aXV1BrVm8FmU+0SeaAIg5wpbPQHsehqFfHvhV9mNescvJ5QBlAIbjqOw+ZeTx8w9aAOhorLn8TaLbauulz6nbpfMVXyC/zAt90H0LdgeT2qGPxl4dl1IafHrNo135rweUJBkSKSGQ+jAq3HXg0AbVFYHhnxlpPitr1dJnDtZzvC656hTgOPY9q36ACiiigAooooAKKKKAMzxJq39heHL3UhGJGt49yoehbOBn2yRXJaf4Z8T6zp8Oo3vi+6tZLpBL5NtHhEDDIHBHY+lbXxF/5J9qv/XNf/Q1rW0D/AJFzTf8Ar0i/9AFAHMf8ILr3/Q8al/3wf/iqP+EF17/oeNS/74P/AMVXb0UAcFeeE/EWm2U95F42vnaCNpNssO5TgZxgsfSoPCnxFuZhZ2/iuBbb7YubW9UYjm5IIbsDkf8A1hXa67/yL2o/9esv/oBrlfCuhWPiL4VadY6lHvjZGKsPvI29sMp7GgDuc56UV59pGu3/AIL1GLQPFjmSxb5bHUz90jsrntjp7fTmvQQcjI5FABRRRQAUUUUAFUZ72Z7k22nxrJImPMeQkJHn6dW77R+JGRm8eKo6MgGlQy9XuB57k+r/ADH8s4HsBVxsk2zOV21FC+RqR63sA/3bY4/VjR9n1H/n/j/8B/8A7KrtFHO/6SH7Nef3spfZ9R/5/wCP/wAB/wD7Kj7PqP8Az/x/+A//ANlV2ijnf9JC9mvP72Uvs+o/8/8AH/4D/wD2VH2fUf8An/j/APAf/wCyq7RRzv8ApIPZrz+9lL7PqP8Az/x/+A//ANlR9n1H/n/j/wDAf/7KrtFHO/6SD2a8/vZS+z6j/wA/8f8A4D//AGVH2fUf+f8Aj/8AAf8A+yq7RRzv+kg9mvP72UvJ1Jfu3sDH0e3P9Gp1petLI1vdR+RdINxQNlWH95T3H4AjuOmbdUNTjCta3Q4khuEUH1DsEI+nzZ+oFNPmdmKS5FzIv0UUVmahRRRQAUUUUAFFFFABWdcXMt3M1np7bSvE1xjIi9h6v+g6nsCTXMt7M1rp7bEQ7Zrkfw+qr6t79B7nirltbRWlukMCBEQYAH+evvWluXV7mV3PRbBbW0VpbrDAu1F9Tkk9ySeST6mpaKKhtvVmiSSsgooopDKl7ZG4KTW7+VdRf6uTHBHdWHdT6fiORRZXv2ndFMnk3MWBLETnHuD3U9j/ACIIq3VS9sftWyWJ/JuYs+VMFzjPUEd1PGR7diARaaatIzcWnzR/r/gluiqllemdmguE8m6j+/HnOR2ZT3U+v4HBq3UtNOzLjJSV0FFFFIYUVFc3CWlpNcS52Qoztgc4AyazovEmnzWem3SOwh1GRo42ZdvlssbyMHB+7gROD6EYoA1qKx7PxHHd3Nuj2F5axXf/AB63E6oEn+UtwAxZcqCcOF6evFbFABSFgoJYgAdSaWsmGJNakkmuv3ltFM8cdufukoxUsw7ncpwDwOD1qoxvq9iJStotyx/a9u77LRZbtvWBNy/99/d/DNNa61J/+PfTo1H/AE83AQ/+Oh6vgBRgDApafNFbL+vwFyye8vu/4NygDq7dUsk9t7t/QUpOqgcCzc/Vl/oavUUc3kg5PNlAXOpo376wiZf+mFxuP5Mqj9aDq0MTBbyGe1z/ABSp8n4uMqPxNX6CM9aOaL3QcsltL+vwGo6SIHjZXVhkMpyCKdWTfwJpEM+pWf7lYwZbiJfuSKOWOOzYycjr3zWsOlKUUldbDjJt2e4UUUVJYUUUUAFUZ72Vrk2thGssq48x3OEiz0z3J74H4kZFXjVDRQG0xJ8fNcEzN9WOf0GB+FXG1m2ZybbUUO8jUj1vYB/u2x/qxo+z6j/z/wAf/gP/APZVdoo53/SQezXn97KX2fUf+f8Aj/8AAf8A+yo+z6j/AM/8f/gP/wDZVdoo53/SQezXn97KX2fUf+f+P/wH/wDsqPs+o/8AP/H/AOA//wBlV2ijnf8ASQezXn97KX2fUf8An/j/APAf/wCyprjVIF3JJb3QHWMoY2I9myRn2x+Iq/RRzv8ApB7NdG/vZDaXcd5B5kW4YJVlYYZWHUEetTVQiXydemCn5Z4FkK/7SnBP4gqP+Air9KSSeg4NtahRRRUlhRRRQAVzPinw7f8AiPVNKjh1GbTbOxdrtp7YRtI04AWMbZEZSoDO3IPIXHIzXTVDdXKWlq88gJVB0UZLHsAO5J4ppXdkJtJXZwdx4J1K1XV7ZpJvENrqTwXjNdXSWk0dzGyjejQxqAdqRsDgfNHyfmpj+HvEU+k251GC5uru3vJJLSePU1iu7WMoqgM6xhJSTvyCMY253EZrtY7e+uV8y6u3ti3IhgC/IPQsQST7jA/nT/7Of/oIXf8A30v/AMTVcq7kczeyOA1Pw1rb6Pc3viC7tBcjSbVJZ2BMbTw3LTEOEUfIflDEKOrHHasl7bUPHniHxBNbQ6awl0W2tA9ndfaIS4uGfaZtqhmxk7QOAVz1r1T+zX/6CF3/AN9L/wDE0f2a4/5iF3/30v8A8TRyx7hzS7HK+KfCV/rGuajcW6QtBdWFlbgO2NzRXbSvkY6bGp2s+E76+XxqbdId+tWcUNqWbBLLEy/Nxxya6n+zn/6CF3/30v8A8TR/Zz/9BC7/AO+l/wDiaOWPcOaXY4afwZqSeINU3W0l9Y6lqKXodNUe3RBhMiSMKclSmQRnI2g7cZqeHwbqMWgvahIBO/is6uSH6w/bvOznH3vL7fhXZf2c/wD0ELv/AL6X/wCJqOWK+s182C4e8VeXhlVQzD/ZYAc/XOfbrRyp7MOdrdGd4Y02/wBIvtYt7qBDbXN/LeQXCSZ3CQglSuMgg5HcHj6V0VR288d1bxzwNvjkUMrDuDUlRsWndXQUUUUDCiiigAooooA5n4i/8k+1X/rmv/oa1oaYk8ng+zSzlWG4axQRyMu4I3ljBI781n/EX/kn2q/9c1/9DWtDTLj7J4Ps7gRSTGKxjfy4hlnxGDgDuaAOf/sX4gf9DVZ/+Aa//E0f2L8QP+hqs/8AwDX/AOJpf+FiTf8AQp69/wCApo/4WJN/0Kevf+ApoA39FsdUi0qS38R3sWozSMwLpEEGwjG3A69/zrm4fBniTRA1t4Y8SLb6fuLRwXMAkMeTnAJB4/Kpf+FiTf8AQp69/wCApo/4WJN/0Kevf+ApoApap4O8Ya3YtZat4isp7ZyCVNmuRjuCACD+Nafw31C5ufDs1hftvuNLuHtGbOdwXp/h+Fb+i6o2saYl41ldWJYkeTdJscYPXHpXM/Dr/j68Tf8AYWloA7aiiigAorJ1/XP7BghuZrWSa0Mm2eWPnyF7MR3Ga0re4iurdJreRZYpBuV0OQw9QatwkoqVtGQqkXJwT1RIelUtH/5Adj/17x/+girp6VS0f/kB2P8A17x/+gihfA/l+oP416P9C7RXCalrGoWWu3w1vV9Q0W3E6iwmjsklsmi2rzLJsYqS+4HcycYx6m5B4xcXUlnZ2N9qdy097tDNDGEW3kRGGePl/eAL1Pr61BZ19FcO3xCgvdEa7W0v7CK40+PUbSYeUzywMyrnB3BT868EdG9ej4PGVxYaZeXF+i3TJql3BGXuIbcLHHIQq5YjccDjAOcckUAdrRXC6j8RIZ9H1S4020vxbWekpqUl9EYgY45ImkTar5y/y9CpA7+80PjW9tte1uDVtNdNPsL63tUuY2U+WJUjwzjOcbpMkjoDz0NAHaUVkDWJtRsNXOiQiS4s3kt4GlOI5plQHGfQOdh91b0rjR4n1HTdEvp5dS1KXWrXTZbiTS9Uso4FZ1UFnidUUOqnrtdxj35oA9JorktS8dDRLK2n1jTzb74hLMDdw7kUtt+VN25z3wB0PBJ4qS48bLBdfLpN1JZf2kmmfaw6BfOaQRk7c7toY4zjqDxjmgDqap6p/wAekf8A18Qf+jUrE0Xx1Ya5qyWdtGQk/mCCXzkYv5ZwdyKSyA4JGeoHODgVt6p/x6R/9fEH/o1KuHxIip8D9C5RRRUFhRQenFc/o/iVrnVJ9J1iAWWpRElUzlJk7Mh78df/ANeLjTlJNroZzqxhJRl1OgoooqDQKzZZ5dRme2sZDHCjFZrheuR1RPf1PboOejZZZNUma3tXaO1UlZp0OCx/uIf5sOnQc5I0YYY7eFYoUVEUYVVGABWnwb7mV+fRbCQQR20CwwIERRgKO1SUVi+JjqgtLX+yRcFftH+lC0MXnGLY33PM+XO/Znvt3Y5xWe5qlbRG1RXCx+MBZKvkSX+pssLAx3KxwPv+0pDtcbBhlL4zwCB3yGqwPGWo73iv9IjtVWeazeWC98xlmSBpsqDGAUKL944O7jbjmgDsqK4DT/Gd8kOpPiO8f7ZBFaQ3M3lsEaxgmYfu42Zzudjwnc9AKnn8cy3libmxsZYrNYLKd7jz1WQfaCu1QhRgevzZxx056AHcUVxWl+NL2Bpn8UW1taWn2+5tUuobgusRj3MA+UXA2o3zZ5IAwMiup0m+fUtItr2W2e1NxGJBDJ95AeQG9DjGR2PFADr2yW7VXV2injyYpl6qf6g45Hf8qbZXrSu1tdIIrqMZZQeGHZl9R/LpVyq15ZJdqp3NFNGcxyp95D7e3qDwatNNWZnKLT5o/wDDlmiqVlevI5tbxRHdoMsB92Qf3l9vbqO/Ym7UtNOzKjJSV0VtRt3u9LuraMgPNC8alugJUjmuZv8AwXJdXVh5U6x2h3m/hyfmY2skG+Pjhj5gznrtB6g56+ikUc9Bp+s3M2nQ6pFZRwWEgkM0E7M07KhVfkKDYDu3H5jjGOc5roaxNf12bQZba4mtWk01mK3M6ctAf4TjuvXJrYhnjuIUmgkWSNxuV1OQR6g1bpyUVJ7MzjUjKTgt0PrA0qG6tobi4stsqSXlwZIHbHImcZU9jjseDjtyTv1n6J/yD5P+vu5/9HvVRdoP5fqTOPNUXo/0Aa1aIwS8ZrKTptuRsBPoG+6fwJq+rKyhlIIPIIPWhlDKQwyD1Bqo2k6exJ+xwhj/ABKgU/mOan3H5Fe+vP8AAuUVQ/sW07Ndr7LezAfkGpBolpnl7xvZr6Yj8i9Fod393/BC9Tsvv/4BfJABJIAHWqLa1ZeYY4JftUoODHbjzCD744X8cU5dG04dbKFz6yLvP5nJq2iLGoVFCqOgAxij3F5/18w999l+P+Rg67FeX3h/UGugLa3S3kcQq2XkwpI3EcAZ7DOcdcZFdAOlZ+v/APIt6l/16S/+gGtAdKqUrwXq/wBCYRtUfov1CiiisjYKKwdb8Qy6Dqdu17bf8SqYbHu05MMmeNw/u471uRyLLGrxsGVhkMpyCKuVOUYqT2ZnGpGUnFbodVDQ/wDkA2X/AFxX+VX6oaH/AMgGy/64r/KhfA/VfqD/AIi9H+hfoqn/AGxpn277F/aNr9rzj7P56+Zn025zVj7RCbb7R50fkbN/m7ht24znPTGO9QaElFMjmjlBMUiuFJUlTnBHUUJPFJD5sciNHjO9WBGPrQA+iq1nqVjqKs2n3lvdKhwxglVwp9Dg8VZoAKKKKAKR/wCQ8n/Xsf8A0IVdqkf+Q8n/AF7H/wBCFXauXQzh19QoopG3bDsALY4B9ag0ForB0DxIdRnm0/U4PsWq2/8Arbcnhh/eQ91req6lOVOXLIzp1I1Y80QqlqnMNup6NcxZ/Bgf5irtUtT/ANXbf9fMf86IfEgqfAyLxDI8WgXTxOyOqjDKcEcitKsvxL/yLt3/ALg/mK1Kb/hr1f6DXxv0X6jRIpkKBhuAyRnmnVUgSzkvZbiDa06jy5CD09qdbzyXImEkDw7XKjd/EPUVyxqX0fW9ra7Gzj2LNFQWlsLK1EQkdwpJ3SNk03LXf3SVg7t0L/T0Hv3/AFrSLbinJWZLtfQsggjIORRSKoRQqgADoB2paoRn6MNtpMg6LdTgew8xj/WtCqGkf8e9x/19zf8Aow1fq6nxszpfAgoooqDQKKKKACiiigDmfiL/AMk+1X/rmv8A6Gta2g/8i5pv/XpF/wCgCsn4i/8AJPtV/wCua/8Aoa1oabax33g60tZiwjmsUjYo2DgxgHB7UAa1FcR/wqfQP+e+of8AgT/9aj/hU+gf899Q/wDAn/61AHb0VxH/AAqfQP8AnvqH/gT/APWo/wCFT6B/z31D/wACf/rUAdvXE/Dr/j68Tf8AYWlrptE0W20DS0sLJpWiRiwMr7myTnrXM/Dr/j68Tf8AYWloA6rVH1FLEnR4reW5yMLcMVXHfpWH9p8b/wDPho//AH/euooraFVQVuVP1MKlFzd+Zr0/4Y5SWbxm8TLNp2jNGwIYNM+CO+axfh3JqY1i/hgSH+xVY48l2aJJOMiMnkj17f167xFo9zrlpFZw3ptLZ3/0rYPnkT+6D2z3/wAg6FnZW+n2cdrZRLDBGMIijgV0/WIKi48qvL108/Xscf1WbxEZ8ztHvbXy9O5OelUtH/5Adj/17x/+girp6VS0f/kB2P8A17x/+giuNfA/l+p6D+Nej/QztR8IWWqyzC9u9Qe0uDmexN0xgl9iDyFPdQQp7jk1NZ+G9NsdRN1bh/PP2knL5/4+HR5OPdo1x6c1sVxOt2utt4k1C80u1vEhnhs7QzQSRq+IzcuzANklcyxj+E5JOcA5gs1B4G0YaZa2GybyLTTk02IeZz5KlCAT65jXmifwRpU0qyo91bzCW4k82CcqxE7BpUz/AHWKr7jAwRWFZjxlLp7Saj/aEeomCDCW/wBn8oKYo/Oxu/5ah/Nx2yF/hzUlyPFK6jajTV1Q26IMtdNAd4Jk3bgoGCv7vBySeOMh8gGungbRIdFvdLCTC1vtPi02YGXkwxxmNQD2O1jzT9U8OW1z/bJs5Qt3q1m8MsEsn7mVtmxXZevAAGR2FYDaZ4nkfT4b+bULpUbT5iQYfLLLOrz+ZwDkYGAvGAMZ+arXiHR5rzVNZ8vRmuri7s4orK82x4gkHmfNuYgrtLK2Rz6ZNAHR6ZodppvhuLRoGkNvHCYmcSMsjk/ecuCDuJJJYHOST1qkngzT2kdr+4vtSBgkt0W8uS4ijkGHA6ckDG45b35NZAtPEa6tGo+1R2sl3cBltxFGFRpmxIWwckJg4IBPrms3TbTxfp2laDZwpf77XT44boyyROrSBHV89+GCYOTkbf8AayAb9z8PtMvI3S5vNRk822W1nY3ODcRIzNGrkDnaXbBGCc4Oap6h4Kub7xBHNGsVtZrqUWoOyX0x3OjBv9RjYGYqAW3dycZ5qM2viq3aKCa61Ke0ZYpJ5oPI88OY33KuQAFDhD07/wB3NaWgx+IB4hum1aa4NriULHJHHsxvHlEMpznZnIx1J6YGQDR0zw3a6RdGSyubxYMsY7RpyYYixy21fqTgEkDPAFW9U/49I/8Ar4g/9GpVyqeqf8ekf/XxB/6NSrh8SIqfA/QuVzl7a+L3vpWsNQ02O2Lfu0khYsB7mujop06jg7pJ+quTUpqorNtejscr9j8cf9BTSf8Avw1ct4vh8RNLY213eWFzqTShrRLOJlmQ92B7DjnP9OPUz0rE0Xw1FpV5dX9xO97f3TEyXMgwQvZVHYCuyjilB87Sutlbf/gHBiME6iVOMnZ7tt6fLv2+80tOW6TTLddRdJLoRgTMgwC2OcVV1l3VIhIzR2RY/aZEPKrjjJ7L6kcj6ZI06CMjB6VxKVpcx6DheHLcjgSKOBEt1VYlUBAgwAO2PapKyijaMxeMF9PJyyKMm39wB/B7dvp000dZI1eNgysMgg5BFKStqOMr6PRjqp6jpVnq0UaX0W/yn8yNldkeNsEZVlIKnBIyD0Jq5RUlmVH4Z0eKNEjsYwIxgZyT/rBJknOSS6hiTyTUeqw6Bpls11rMlnZwNOZTLcyiNTK8ZjJySBkoSv0qt4ht9YkvoZPD32hLsJjzJZlFmRk8SIcsT3ygBPALAVW8YLep/YtzGZ0Nrcs811aWb3TRExOvEKhmIbcRnBx+tADL5fAlpb27397pNrHdEXFvI96sXnARLFuVtw3L5YVTg4IwDV6K18LK0ulQvYb0ghaS1WVdyxRYMZK5yFX5cHp0rkFstR03R7G8il1uz1AW1zHD9k0sTfaWacuplQo3lb+GKnYF3Y3Lin+I/DGrzNI1nvae6invp4UgyqyeTGrQ+Zn5g7Iq7cZ2s5zwtAHXXvhrStZ0+RY1Q2t/PDdzhfnjuNjK4O0naN21ckDkVvVi+GLi8udPnN49zLGk5W2mu7b7PLLHtXlo9q4+YuB8oyFBxzk7VABRRUF3eR2cIeTcxY7URBlnY9AB/n1PFNJt2Qm0ldlfV1tvsoe5Zo3Vv3Lx/wCsD9Bt9T7d+/FWLJrhrGE3qqk5QeYEPGf8/X6mq9paSPP9tv8ABuCMJGDlYR6D1Pqe/wBKv1UmkuUzim5c2xnaymsPboNCltI5t3zm6ViNvtjvWP8AZ/HX/P5ov/fuSupoq4VnBW5U/VEToKcr8zXozj7yPxjHZTPfXugi3CHzTJHJt245z7VQ+GMWqrFeSSlBpDuTbKAQC2eSgPIT6/4102u+Hhr09ot1dOtjC2+W1UcTnjbuPoPTvWuiLHGqRqFVRhVAwAK6ZYlewcEleXla1v1OWOEl9YVRt2jtd3vf9PzY6s/RP+QfJ/193P8A6PetCs/Rf+QfJ/193P8A6PeuNfA/Vfqdz/iL0f6GhXC3UOqnVvFF+qzyQ2rsbb/iZXKYxZxMFWFcIRvJ5yDknuKtR+MtQtdQv4tc0u2gt7K4itt9lcyXMkssiqyBU8peu8AnPB9uaszeOtMW4a2i8xLhZ4oylzE8WQ86Qkj5SeGcYyADkchTuqDQ5R/EHiDTZriZLiVgyOI4bhGZV/0za0mSeiRsDjoAATxmpD4u8XNY3F3HHbGO2trdjttXIk826miabcWACrFGshAyOc7tuDXQP8R9G+w298rSpaSJ57PPDJGxgNvNOsiLtO4FYH4OOh74Bs3HjzR7WCV51vVeESPLD9kcyRpGqO7suMhQssZ/4GO+aAOZPifX71tNhnuI7RXntGR4oHJvwb0o4VgflCxIjNjIIkJ+7g16XXOeK/E1x4eNp5Frbuk6yM9xeTtBDGV24VpAjBS244LYHynntVa++Imj2cd2qmSa6tYHkaGMbgzrD5xjDjIJ2c5GR15yMUAbmv8A/It6l/16S/8AoBrQHSs3Wn8zwrqD7WXdZyHawwR8h61pDpVv4F6v9DNfxH6L9TL1qHW5Vi/sG5tYCCfM+0oWz0xjH41k/Y/HH/QU0n/vw1dVRWkKzgrWX3Iznh1OXNzNejaOJ1WLxVbaXcSatquiizCES+bAxUj0x3z6Uvw0t9Wh0NzqJxZuwazjbO5V5yeeinjArb1Xw3FrOsWt1f3DyWlqNy2WPkaTP329eO3/ANetoDAwOlb1MSnR9mkrvV6Wt/wfM5qeFksR7Vt2Wiu73/4Hl8wqhon/ACALP/riv8qv1Q0P/kA2X/XFf5VyL4H6r9Ttf8Rej/Q82s9R0vRreLT4L/w34itvtarHZBBHqG8y5yVy2+VSSTlUPykkjnGg8Trfy/D1TIIZrr7YrbTtGms29489MeZmDHUI616N5SCTfsXf/exzS4G7OOelQaHmen2msWdzrK6J9oMeu6ldQPKnIsJlmZTPz0zFn23RIP4iavaXp9i3wTGn3N0bGy+zSQmcqXESiRgCw7r03Z4Izkgc132ABgUABRxxQB5DrGpx6louppa3mlGeztoJpta8PbCvlCZcxyBlfYAMuBuPCk8Drd1LxlLZ+JrK203xFcXire2Fq0czWoju452RWkUIm9+HJ3qVUMuAOCD6gsaIpCKFB7AYpBFGMYReBgcdKAPK4vFusLrekhNblutQur+7ivdCMMSiAJb3DxRg7N65Macsx39RxkVsfD3X9T1i5T7drNtf+bZLNcW4mjMltNkZURogKLywKuSwKDkndXSweFdPg1pNTMl5PNE7yQJcXckscDOCGZFYkKSCR7AkDAOK2VRVJKqAWOTgdaAKZ/5Dyf8AXsf/AEIVdPSqR/5Dyf8AXsf/AEIVdq5dDOHX1OZuLTxm1zKbbUtLWEufLVoWyFzwD71H9j8cf9BTSf8Avw1dVSMCVIU4JHB9K2WIa+yvuRg8KnrzS/8AAmeWeJoPEkut6dbm8sZ9XV90P2OJlkiXuWboF9jXp9sJltYhdMrTBB5jIMKWxyQPTNZfh/w3DoazSvM95fXLbp7uUfM/t7D2rZq8TXVRRhHaPW1r/wDAM8Jh5UnKpJu8ul72/wCD3CqWp/6u2/6+Y/51dqlqf+rtv+vmP+dc0PiR11PgZB4l/wCRdu/9wfzFalZfiX/kXbv/AHB/MVfuZ/s1s83lvJtH3UGSaU5KNJSeyv8AkhxTdRpeX6kNvLaC7nht9omX5pQFxknvnvTreeUxzPeRLAEY4O7OV9aeJo1hE7KU3AEgj5vYY9famrE88gkuBhQcpH6e59/5frXPCD0d++ystdjZtCBGuzmUbYOyHq/1Hp7fn6VDJc3663Dbx2atYtGWkuPMAKt2G38vz9qnvop5rGaOzmEE7IRHIVztPrioJHvrLQsoov76KIZAITzW7n2rRjgl5a6f8Ev0VFaySy2kT3MXkysgLx5zsOORnvUtUQ9HYoaR/wAe9x/19zf+jDV+qGkf8e9x/wBfc3/ow1fq6nxsypfAgoooqDQKKKKACiiigDmfiL/yT7Vf+ua/+hrWhpjXC+D7NrJEe4FjGYlkOFLeWMAn0zWf8Rf+Sfar/wBc1/8AQ1rW0D/kXNN/69Iv/QBQBzP2/wCI3/QH0j/v6f8A4qj7f8Rv+gPpH/f0/wDxVdtRQBxP2/4jf9AfSP8Av6f/AIqj7f8AEb/oD6R/39P/AMVXbUUAZ+iyapLpaNr0EEF5k7kt2LKBnjrXM/Dr/j68Tf8AYWlrtq4n4df8fXib/sLS0AdtRRRQAUUUUAB6VS0f/kB2P/XvH/6CKunkVQ0dsactuwxJanyGB/2eAfxXDfQ1a+F/13Ifxr5/oX6KKKgsKKKKACiiigAooooAKKKKACqeqf8AHpH/ANfEH/o1KuVn6jKJLi0s05eSZZGx/CiEMW/MKP8AgVXD4kZ1PgZoUUUVBoFFFFABRRRQAVluj6O7S26NJYsS0kSjJhJPLKO69yv4j0rUoqoysTKPN6jY5EljWSJg6MMqynII9adWZJFJpcpntFMlozZlgUEmPPV0H81/Ec8HQilSeFZYXDo4DKynIIPeiUbarYUZX0e4+iiipLCiiigAooqte3qWcYJVpJXO2OJPvSN6D/HoKaTbshNpK7Fvb2OyhDuCzsdscajLSN6Af5x1PFQ2lm5n+2XxV7kqVUDlYlPO1f0ye+PTAC2dm6ym6vWEl04x8v3Y1/ur7ccnqfyAu1TairIhJyd5BRRRUGgUUUUAFFFFABWfon/IPk/6+7n/ANHvWhWXZyrp08lldHYJJ3kgkbhZN7Fyuf7wJIx3AB9caR1i0jKWk035/oJL4dsJrqe4cSeZPdQ3b/N/y0iChfwwo4rNj8AaPHN5mbg4m85FLgBW+0JcdgCf3kanJySOM109FZmpy9z8PtDu9Mt7CZZ/It7NbJAJcHy1gmgHPrsuJOfXB7VX8UeCJNZmnl026FnLeRzw3MpLbtsscUZ24OMYhX5cZJAIZec9hRQBmanocepXEVwLu7s5443i8y1kClkbBKkEEfwjBxkdiMmstPAGiwpPFbi4gtp4mje3jkwnMPkk5xu+4MYztz82N3NdPRQBm60hj8K6gjO0hWykBd8Zb5DycYGfpWkOlZeqTJewzaVbHzJp0MUu3nyUYYLN6cZwO59skalaS0gk/P8AQyjrNteX6hRRRWZqFFFFABVDQ/8AkA2X/XFf5Vfqho7Klj9lz89q5hZT1AB+X81Kn8atfA/l+pm/jXz/AEL9FFFQaBRRRQAUUUUAFFFFAFI/8h5P+vY/+hCrtZ8LefrtxIvMcESxbvVySzD8Bs/OtCrn0RnDq/MKKKKg0CiiigAqlqf+rtv+vmP+dXao6sQtrFIxwsdxExPoN4BP4ZzVw+JGdT4GQ+Jf+Rdu/wDcH8xWhNMsKAtkk8Ko6sfQVU1y2mvNFuYLZQ8rphFJwCc+tV4rjUFYySaVI8hGCfOTAHoOelVbmgku7/QL2m2/L9TQigJkEtxgyD7oHRPp7+9SyMyRM0a72AJVc4yfSqH27UP+gTJ/3/T/ABo+3ah/0CZP+/6f41PI/L70PnX9Jkul3F1d6bHNqFr9kuGzuh3btvPHP05pulaVFpFrJDbySyq8jSkytuOT2+lM+3ah/wBAmT/v+n+NH27UP+gTJ/3/AE/xpezfl96LdbdLRPpZj9Jur27tXk1Gy+xyiRlEe8NlR0ORV6s77dqH/QJk/wC/6f41fjZmhVnXYxGSuc4PpScXFag5qTbSt9/6lLSP+Pe4/wCvub/0Yav1n6I3mWDzD7s08siH1UyMVP0IwfxrQqqnxszpfw0FFFFQaBRRRQAUUUUAU9W0yDWdIudPu8+VcRlGK9R7j3B5rjbbSPiDpNsljYajpdzawDZE9wrB9o6A4Hp9a76igDhvK+Jf/Pxon5N/hR5XxL/5+NE/Jv8ACu5ooA4byviX/wA/Gifk3+FHlfEv/n40T8m/wruaKAOGNv8AEt1K/a9FjzxuUNke/wB2t3wn4cXw1pLW7Ttc3M8hmuZ2/jkPU/StyigAooooAKKKKACqdxYGSf7RazG3uNu0uFDBx2DDuPyPXBGTVyimm1sJxUlZmcDrK8FbGX/a3Omfww2Pzo36z/zwsv8Av+//AMRWjRV8/kiPZv8AmZnb9Z/54WX/AH/f/wCIo36z/wA8LL/v+/8A8RWjRRzrsg5H/MzO36z/AM8LL/v+/wD8RRv1n/nhZf8Af9//AIitGijnXZByP+Zmdv1n/nhZf9/3/wDiKN+s/wDPCy/7/v8A/EVo0Uc67IOR/wAzM7frP/PCy/7/AL//ABFG/Wf+eFl/3/f/AOIrRoo512Qcj/mZmn+2X4/0KD/aG+T9Pl/nVm0sVtWeRpHmmkxvlkPJx0HHAA9B6nuTVmik5NqyGoJO71CiiioLCiiigAooooAKKKKACsyaGXTZmubNS9uxLT26jkf7ae/qO/Uc9dOiqjKxMo8wyGaO4hWWB1eNxlWU5Bp9Zs8EthO11YqXic7p7cfxHu6+jeo7/Xret7iK6gWaBw8bDgihx6rYUZXdnuSUUVUvb4W22KJPOuZf9XEDgt6knsozyf5kgFJNuyKbUVdi3t6toqqqmWeQ4iiXq5/oB3PamWVk8bm5vGEl3IMMw6IP7q+g/U9TS2NiYC09y4mupB88mMDHZVHZR6ficmrlU2krIhJyfNL7v66hRRRUGgUUUUAFFFFABRRRQAUyWKOeMxzIsiMMFWGQfwp9FAblBdLEJP2K6ntlP8CsHUfQMDgewxSFdXiPyy2lwOwZGiP55b+VaFFXzvrqZ+zj00/r7igJ9WH3rC1/4Ddsf5xikNxqx+7p9qP968YfyjNaFFHMv5V+P+Yckv5n+H+RmgazL1aytforzf8AxFPOmPMoF5fXEy9SisIlP/fODj2JNX6KOd9NA9muuv8AX3EcFvDbRiO3iSJB0VFAFSUUVG5olbRBRRRQAUUUUAFVLqx82YXFtK1vchdu9RkMPRl7j8iOcEZNW6KabT0E4qSszOB1leNtlL/tbnTP4YP86N+s/wDPCy/7/v8A/EVo0VfP5Ij2b7szt+s/88LL/v8Av/8AEUb9Z/54WX/f9/8A4itGijnXZByP+Zmdv1n/AJ4WX/f9/wD4ijfrP/PCy/7/AL//ABFaNFHOuyDkf8zM7frP/PCy/wC/z/8AxFHk6pcfLPcQ20fcW6lnP0ZuB/3yfwrRopc/ZIPZ92yK2torS3WGBdqL0Gc5Pck9yeue9S0UVF76stJJWQUUUUDCiiigApssaTRNHKodHBVlYZBB7GnUUAZqw6jY4jtfKu7dRhBNIUdB6bsHd+OD6k0/7Tqf/QPh/wDAr/7Cr9FXz33RnyNbNlD7Tqf/AED4f/Ar/wCwo+06n/0D4f8AwK/+wq/RRzL+Vfj/AJhyS/mf4f5FD7Tqf/QPh/8AAr/7Cj7Tqf8A0D4f/Ar/AOwq/RRzL+Vfj/mHJL+Z/h/kUPtOp/8AQPh/8Cv/ALCmNBqF/mO88q1tyMMkMhd5B6biBtH0BPuK0qKOe2yD2be7bERQiKqAKqjAAGABS0UVBoFFFFABRRRQAUUUUAFFFFABRRRQAUUUUAFFFFABRRRQAUUUUAFFFFABRRRQAUUUUAFFFFABRRRQAUUUUAFFFFABRRRQAUUUUAFFFFABRRRQAUUUUAFZs1vLYTvdWKl4nOZrZe/q6/7XqO/166VFVGViZRUihNqsX2eFrP8A0iW4H7lFON3qT/dA7k9OnXAp9jYm3Z57h/OuZPvyEYAH91R2Uen4nJqWKzt4J5ZooUSSU5dguC1T03JJWiSotu8goooqDQKKKKACiiigAooooAKKKKACiiigAooooAKKKKACiiigAooooAKKKKACiiigAooooAKKKKACiiigAooooAKKKKACiiigAooooAKKKKACiiigAooooAKKKKACiiigAooooAKKKKACiiigAooooAKKKKACiiigAooooAKKKKACiiigAooooAKKKKACiiigAooooAKKKKACiiigAooooAKKKKACiiigAooooAKKKKACiiigAooooAKKKKACiiigCpb6naXeoXVlby77i0KidMEbNwyOeh49KmuLmG0h825kWKPcFLMcAEkAfqRXL+HP+SgeKv8Aetv/AEBq6qeGO4t5IZ0WSKRSrowyGBGCCK2rU1Tlyrsn96TMMPUdWHM+7X3Nr9Cre6zp+nyCO7uo45CAdnVuSQPlHPOD+R9DUMniPSoY43luwnmhiisjBiF4ZtuM4GRk4wMiuZ/se8tNDtXZb43MerO8kyATT+SjSJEfmB3fu/LHQnkk8kmr0+7dDeRHXVuWiMRuEtoy0gDEhHjK4GCThtq8H73NYm51EM0dxAk0EiyRSKGR0OVYHkEEdRT6raabptLtTqCJHdmFDOifdV8DcByeM571ZoAKKKKACiiigAooooAKKKKACiiigAooooAKKKKACiiigAooooAKKKKACiiigAooooAKKKKACiiigAooooAKKKKACiiigAooooAKKKKACiiigAooooAKKKKACiiigAooooAKKKKACiiigAooooAKKKKACiiigAooooAKKKKACiiigAooooAKKKKACiiigAooooAKKKKACiiigAooooAKKKKACiiigAooooAKKKKACiiigAooooAKyp/ENpaeIItJuhJDLOm6GV1xHIc/dDf3vatWs7W9EtNd05rW9U4zuSReGjbsynsRWlPk5vf2MqvtOW9Pf8/IwNBmjg8d+LZZnVI0+zszscBQEbkmt3RNbg161lubOKZYFkMaSSJtEoH8S+o/writN8D67c67fLr14W06ZozM8bANehBhQccgY6+/516LDDHbwJDAixxxqFRFGAoHQCuvF+yT918zsttlZJff+Rw4L2zXvR5VeW+7u2/u/P03fRRRXAemFFFFABRRRQAUUUUAFFFFABRRRQAUUUUAFFFFABRRRQAUUUUAFFFFABRRRQAUUUUAFFFFABRRRQAUUUUAFFFFABRRRQAUUUUAFFFFABRRRQAUUUUAFFFFABRRRQAUUUUAFFFFABRRRQAUUUUAFFFFABRRRQAUUUUAFFFFABRRRQAUUUUAFFFFABRRRQAUUUUAFFFFABRRRQAUUUUAFFFFABRRRQAUUUUAFFFFABRRRQAUUUUAFFFB5FAHOa1470TQtQWyvJ3abjeIk3eX/vf4da3ra5hvLaO4tZFlhkXcjqchhXz74q0i+0fxDdRagGZpZGkSU9JVJzuz/OtTwT42n8N3S210zS6bI3zp1MRP8S/1HevoKmUxdBVKDu/z9D5ilnUo4l08RGyv93qe51m65r+n+HrH7VqU2xScIqjLOfQCq2s+KtN0fQhqbzrNHKuYFRsmY44A/wAe1eG67r174h1JrzUJMnpHGPuxr6CuTA5fLEyvPSKO7MczhhY8sNZP8PNnu+geJdN8SWrTabKWKHDxuNrp9R/WtavI/hNpF82sSarho7JYmi3HpKxxwPXGM165XPjaEKFdwg7r+tDqy/EVMTh1UqKz/PzCiiiuI7wooooAKKKKACiiigAooooAKKKKACiiigAooooAKKKKACiiigAooooAKKKKACiiigAooooAKKKKACiiigAooooAKKKKACiiigAooooAKKKKACiiigAooooAKKKKACiiigAooooAKKKKACiiigAooooAKKKKACiiigAooooAKKKKACiiigAooooAKKKKACiiigAooooAKKKKACiiigAooooAKKKKACiiigAooooAKKKKACiiigDK8Q+HrPxHpj2l6mD1jlA+aNvUf4d68H17Qbzw9qb2d+mD1SQfdkX1Fe7+IfEVl4c01rq+fk5EcQPzSt6D/HtXhGva9eeItUe9vm56Rxj7sa9gK+kyb2+v8n6+X6nymffV9P8An5+nn+hntLI8aRu7MiZ2KTkLnrgdq6rwR4Jm8S3QuboNFpsTfO/Qyn+6v9TXKtDKkSSPG6xyZ2OVIDY64Peur8EeNpvDV0La63S6bK3zr1MR/vL/AFFezi/a+xfsN/628zwcH7H6xH6z8P8AVr+R7bbW0NnbJb2sSxRRjaqIMACpaitbqC9tY7i0lWaGQbkdDkEVLXwbvfU/SI2tpsFFFFIYUUUUAFFFFABRRRQAUUUUAFFFFABRRRQAUUUUAFFFFABRRRQAUUUUAFFFFABRRRQAUUUUAFFFFABRRRQAUUUUAFFFFABRRRQAUUUUAFFFFABRRRQAUUUUAFFFFABRRRQAUUUUAFFFFABRRRQAUUUUAFFFFABRRRQAUUUUAFFFFABRRRQAUUUUAFFFFABRRRQAUUUUAFFFFABRRRQAUUUUAFFFFABRRRQAUUUUAFFFFABQeBRRQB88eKtXvtY8QXMmoFg0UjRpEekQBxtArV8E+CJvEtyLm7DRabG3zv0MpH8K/wBTXqGseBdC1vUBeXtuwmP3zE+zzPrj+fWt22toLO2jt7WNYoY12oijAAr6Cpm0VQVOgrP8vQ+ZpZLKWJdTES5le/r6mTrHhTTNX0JdMeBYYolxA0a4MJ9R/nmvDdf0C98O6k1nfpz1jkH3ZF9R/hX0bWbregad4gs/s2pweYoOVYHDIfUGuTA5hLDStPWLO3Mcrhio80NJL+rM81+E2r3w1iTStzSWTRNLtPSJhjkfXNeuVlaF4b0zw5bvFpkGzecu7HczfU/0rVrnxteFes6kFZHVl+HqYbDqnUd3+XkFFFFcR3hRRRQAUUUUAFFFFABRRRQAUUUUAFFFFABRRRQAUUUUAFFFFABRRRQAUUUUAFFFFABRRRQAUUUUAFFFFABRRRQAUUUUAFFFFABRRRQAUUUUAFFFFABRRRQAUUUUAFFFFABRRRQAUUUUAFFFFABRRRQAUUUUAFFFFABRRRQAUUUUAFFFFABRRRQAUUUUAFFFFABRRRQAUUUUAFFFFABRRRQAUUUUAFFFFABRRRQAUUUUAFFFFAGL4yuJrXwLr1xayPFPDptw8ciMVZGETEEEdCD3qp51/potoba08qe+ufIU3d9JcKoEUj7uTn+DoMZ9R1rYt7vT9bsD5JS7tbiFWIZMpJHIuRwRyCp6e9OttK06ybNnY21ud2791Cq84IzwOuCR+JoA5K98T6za/ab7bamGz068le2+YeZLBIUyG7AlfTgHua17jXb2wvE067hhkv7kIbRYiQsuWxJ15xGMMx7gjAzxWvNpljcY8+zt5Au/G+JTjf8Af7fxZ59e9Q3VvZnXLG7uJCLlElit0P3SWAZj064Tr6E+tAGgOlFFRW9zFdRGS3cOgdkyPVWKkfgQRQBLRRRQAUUUUAFFFFABRRRQAUUUUAFFFFABRRRQAUUUUAFFFFABRRRQAUUUUAFFFFABRRRQAUUUUAFFFFABRRRQAUUUUAFFFFABRRRQAUUUUAFFFFABRRRQAUUUUAFFFFABRRRQAUUUUAFFFFABRRRQAUUUUAFFFFABRRRQAUUUUAFFFFABRRRQAUUUUAFFFFABRRRQAUUUUAFFFFABRRRQAUUUUAFFFFABRRRQAUUUUAFFFFABWB4isbq71CxYW1xeWEcc3m29tOIn807PLfJZcgASDrwWU44yN+igDzqy8N67D4V06xuILkS28FmrRRyo6Fo7bY6uPNjyu/8AusPmCnkCtWHT9RE8093pN5LdmJPsrLqP7uEfZwDGzeYGP7wPltpJ3KcnHHYUUAee6b4d1yXUI4b+3uINM+1xSui3GzK+ROHyBPIcFzCCN3PXHU0s2g64wV7Szu4dSWO78y9lvFaN5GR1jZV8zIGSNvC7RxxXoNFAHCW+iaqnlLdWV5NY/aN8tlFKsX/LMgMM3D5G7GQXHzYYA8k9J4Ws7iw8Ow293DJDKJJWMcsokdQ0rMNzAnJwRk5Na9FABRRRQAUUUUAFFFFABRRRQAUUUUAFFFFABRRRQAUUUUAFFFFABRRRQAUUUUAFFFFABRRRQAUUUUAFFFFABRRRQAUUUUAFFFFABRRRQAUUUUAFFFFABRRRQAUUUUAFFFFABRRRQAUUUUAFFFFABRRXIeMvFd3oGs6VZ21xp9pDeiUyXF9G7Km0Aj7rDrnFXTg6kuWJnUqRpwc5bf8ABsdfRXAN491JRc20drazXzav/ZtoBuSP7oO9+Se/bFaH/CT6lb6lo9jcS6Vcy3V7JbXLWZZgm1N2OW+Vs9Qc1r9Xn/Xpcz+sU/69bfodfRXl+pfErVrNIG/4lkCyXF5EXnikYYhPyDh+rdPqa0bTxxqdz4nsdNum07S1ntbeZobqNzK7yHmNSGAB9Miq+q1LXM/rlK7j/X9anf0VzfjLW9U8PaWdR0+Oykghx5sdwW3yEsAFTHGee+fpXRROXiR2UoWUEqe3tWDi1FS6HTzrmcOo6ivM/F3xB1bR/inZ+GLS/wBB061nsUuRNqkUjPLI0pTy0KuoyQOOD3qt4Z+KzWvhKzbXotQ1vVpmvZmSxt4t628EzKZGGUXAAA45Poahaq5o007en46nqtFect8cfCgmt0CX5FzfRWUbCJMfvEV1lPz8R4deevtW7L8QtJg8EQ+KJYbwWdxIIreERqZp2ZyiBVDY+Y8jJHBycU7NC3OporyDw58QtY1HxDDHqt3e2iSeIb60SwazgZvKitw6xSMG+UqcncpYk8E45ratPjb4bvY7kW9rqD3UF1DaLaJ5DvLJLu2BWWUx/wALZ3OMY5oton6P7/8Ahwej/rpf/I9Forz3RfjJo2u31pa2Wja4JLq0kvAWtoyscSM6kuyyEL80ZAz1JHrUNv8AG/w9d2hltdP1SeUahHp5t4FglfzJEZlIKSlCCFI4YkHggUv6/G35ht/Xlf8AI9IorjPCPxQ0fxjqUNlYWWpWslxaNdwteQqiyIr+W4GGPKtwc/gTRe/E/R7PxBLpf2LUZlhvEsJb6OJPIS5ddyxElw248DO3bkjJoaa/r5fnp6gdnRXmXgrxvrt58Ltd8WaxDcXU9vLdyW9q8UMYVIiQEUoeQNuCWOchsZGM42mfGS8g15bzxHY6hHpVzpFjceRBbxMtrJNIyGRmDbtjfLjJJwegORTSbdvT8b/5A9Fd+f4O36ns1FcPD8W/DM/xCPg6J7htQEzQebhPK80LuKfe39BjO3bnjOal1r4naVoviS90T7BqF7d2Fobu4FqsXypsL8B5FZjhf4QQCRkil0uOzvY7OivPLj41eG4baKeG3v7hJpIIojGIVV5JYvNCbnkVQQuM5I5IAyaqX/xmtdD8Qa/b6/pV1bafpa2ohmXy98sky5CHLgAnqOwCsSRxTaadmJaq6PTqK8zf47+GRp9vewafq91BNayXbtBBG/kIknlvv/ediQcjII6E11GgeN7HxFY6tPaWN/BJpUhjntriNVlJ2BxtAYg7lIxkjrzik9E2HWx0lFebQ/HTwrPKsUNvqTyPp8d8iiKPLB2VREPn/wBZlxkdPeszTfifqj6taaRHDd6iL2XUs30lvDC1v5DlVUIHIKpxljkkYOCSQB6fj+Af8D8T1yivO/hX8RT4s0mw07Vo70a0NMjvZp54EjjuVZiu9Np6ZGOg9qU/E5tN1DxcdbtUey0O+htoPsxSN2V4g5LtLIqdT6j6E05Lldn/AFrb8xJ3tb+tL/keh0Vwtj8WtE1ZtNXRrDVNRe+tReOtvAn+iQlym+Us4AAYHhSx4OAaRfizpb+HZ9eTSNWGlRsBDeSrBDHcgsRuQySrgfL/ABbc8YzSem41rsd3RXnsHxp8NXDWZjttUMFzpram1yLUGO3hUuGMhDEqQUI6EEkAE5p3grxtf+KvH2swvb3llpcWn2lxaWt5DGj/ALwvmT5SThgFwCeMdBTs72/rr/kxXVr/ANdP80egUV5nqvxTstR0y+OhTX9j9g1SCzlvBbwTB2M4jZBGZNyg9MsFODkA1NcfGrRbfUrmy/sTXZZIJ7qANFbRlZXtxmUKfM7L83OOPfil0v8A10/zKtrb+uv+R6NRXjur/Em9utZil8PaxcraXF3o5S3ksogqwXJbcN5yxLDrkDbgYPJro734x+HtP1jWNNura+FxpNtNcyhPJfzEi+9tCyEqecgOFyKbTW/n+CTf5i/4H47Hf0V4/rPxeu7CW91LTrHUpY/slm8WlXtlHD5ImnaPzS2/eSwAwpwPunucdfoPxL0vX9Yi0mCw1K21Bri4t5ba5jjDW5hVSzPtcjad6gEE5Jos/wCvIV0djRXmnjv4lSWGoLo/hxLz7Xa6pZW9/erDG0EKyyLmIlzncyn+FTjPUVS1P4/aAbHXF8O21xfX2mW8k0avsEc4RwrEYfcAM5+YAkcjNJaq6/rZ/qVbW39anrFFedH41+GrbxDY6DqiXVpqNysImVxHtt5JFDKjYcnuOVDAZGSKqan8ZT9j0u88P+F9Xu7HUNRitIr2aOKOKdWYqTFmQMWO07dwUdyadne3nYm+l/meoUVw1v8AFnQ7i9aJbPUkt2+0rb3rxIIbp7cEypGd+7IwcbgAcHBrf8J+J7fxh4ct9asbK+s7a4GYkvoRG7L2YAE/Kexzz9KW+o3obVFFFABRRRQAUUUUAFFFFABRRRQAUUUUAFFFFABRRRQAUUUUAFFFFABRRRQAUUUUAFFFFABRRRQAUUUUAFFFFABRRRQAUUUUAFFFFABRRRQAUUUUAFFFFABRRRQAUUUUAFFFFABRRRQAVm3mh217r2n6tK8on08SCJVI2tvGDuGM/kRWlRTUnF3RMoqSs/66nNXHgTSbmC8jle63XV99vEqyhXglwBlCBx075qKL4faZFZLEl5qH2hLtrxb3zh5wlIAJztxyB0xXVUVoq1RK1zN0abd2v6/pnLSfDzRZYrWNzcsluk64aQHzTMMOzEjk85GMc0kXgK1g1S11CDWNYimt4Y4DsuFUTInQOAvze9dVRT9vU7ieHpP7P9af5IwfEvhO38UfZftWoaharav5ka2kqp8/ZiSpOR2rQ03S/wCzXuG+3Xt357K2LqbeI8DGF44B6n3q9RUe0ly8t9C/Zx5ue2pi/wDCLWX/AAnJ8VebcfbjYfYPL3L5Xl79+cYzuz3zjHauab4P6ILG2gtNT1ezkgS5i+0QTRiSSK4cvJG2YyNuTxgAj1rv6Kjpb+v61Nbv+vI841X4F+EdVuLqWT7bALjTo9O8uGVAsaRlNrrlCd+EUZJIx2rotS8B6TqXguz8Ms9zBaWIh+yzQOFlhaLGxwSCN3HcY68V0tFO7EcEnwg0Lb/pV/ql2xu7m8keaaMNK9xD5UmdqDjbyMYwfyrmfE3wZWz8MzWmgS6pq/2yazjvI5pbbzRbwbtoiDKke4ZGQ5wQDXsdFL/gfhsO/wCv4nm3hf4aSXHh/wAzxlJL/aN1pL6RNBAYo0S2MjMgxGuBIFIBKnb7HrVnTvg7omn3EVx/aerXM0d9bXoeaSLl4IzGinbGBt2tyOvA5FegUU223f8Are/5k20t/W1vy0OR8N/DfSPC+oWF5p9zfSSWNpNaRieRCCks3msThRzu4HTjsetMn+GWjz+Jn1drvUFSW9TUJdPWVPs0lyi4WUjbuzwDgNjIHFdjRRf+vnf89RvW9+pz2k+C9N0fwfc+G4ZbmaxufP8AMMzjfiZmZwCAAPvHHFc+Pg5oh02azm1PV50ms7ayLySxbljgk8yMDEYGc8dOg9ea9BooTad/60B67nN2Pgm00vxPdaxp2pajbLeTfaLmwSVPs80u3bvIK7gcY4DAZHSodV8Babqvi638SX895cz2Ssbe0JiESkoVODsD8gn5S+3POK6qip6WA8r8MfCK3b4VW/hzWWvNMM80txd29u8MhO8kLGzMrqdqBRuXBGOCK2r74R6De3lxcC71K2M0dsoSGdQI3txiGVSVJ3qOOSQcnINd1RVX1uH9fqcTqfwu03Wlc6tq+r3c0mmy6bJPJLFvaORw5biMAMCoAwAMdq3NC8K2Ph681S5s5biR9UmSaYTMpClY1jAXAGBhR1zzW1RRfS39b3/MNzzWy+BHhGxvrG6ie/aSx1NtSiDyoRvbb+7Pyf6sbBgdfetSD4WaPa3dpc21/qUU1rcXc6sssfzi5bdKjZT7uemMEetdtRS6W/r+tA3d/wCv61OV8NfD3SvC1/aXen3F7LJaaWuloJ3QgxK5cE4UfNk9emO1Zkvwi0WdJ3k1LVmvZ9RGpNfGdDKJQhQDlNu0KSMFc++ea72ih66v+tb/AJhb+vlb8tDgtO+EWjaP/Z50rU9XtJLO2+ySSRToDdw+YX8uX5MEZY8qFOD1qP8A4U5pC2NtZRa3rsdpY3AnsIBcxlLI/NkIGjOQQxHzbiB0Ir0GijcDhNM+EPh3TLN7QTX9zBJpLaQ6Tyod0LSNIT8qg7sseemMcd60vCngKz8J6hcXsGp6lqE89rDaFr6SNtscWdgGxF6BsZOa6mind/18/wDNit/X3f5L7jgp/hDod3qV7f3l/qc91eSwyPKzxKVEUolVRtjGRuABLbmwMZqb/hVOh/bTc/a9Q3/ar26x5iY33SbJB9zoB930PUmu3opdLFX1v/X9anBQfB/QLfyNl5qR8j7BtzLHz9jz5Wfk75+b17Yqsfgn4eMl4f7R1byrqC6gEPnRbYVuGDSbf3ec5GQWJ/GvRqKbbbu/6vuL/gfhscXq/wALtF1lrtrm61BHurO2tC0UiAoLd98brlD827rnIPpUHhXwU+lfE7xL4iuLaRBdw29tbzyyIzXG1B5kuF+7uIUEEDlc45ru6KLu9/61FZWt/WhxOq/CzSNV8QXOqtqGp232u6t7y5tLeWMQzTQEbHIZCwPABwRn9aVPhdpUek6ppCanqo0jUklU6cJk8qAyNuZo/k3ZzyNzMBk8V2tFLpYfW5yFl8ObLT9XGo2us6uksscUd6nmx7L/AMsbVMo8vrjg7NuR1qgnwj0qLSodNh1rXI7K0uo7qwhFxGVsXRiw8vMZ4yx4fdx0xXfUU7u9w8jhbX4S6Ha3jSi91OSBftLW9nJMhitXuARK8Y2ZycnG4sBk4Fb3hzwtD4Zt4bez1HUJ7aCzhtIre5lVkRYxgMAFHzEdT0OBwK3KKL2Vv6/rUNwooopAFFFFABRRRQAUUUUAFFFFABRRRQAUUUUAFFFFABRRRQAUUUUAFFFFABRRRQAUUUUAFFFFABRRRQAUUUUAFFFFABRRRQAUUUUAFFFFABRRRQAUUUUAFFFFABRRRQAUUUUAf//Z)fig"
      ]
    },
    {
      "cell_type": "code",
      "metadata": {
        "id": "i8RaV7fLVYzC"
      },
      "source": [
        "# checking simillarity to reduce training data\n",
        "def simillarity_detect(Tokens_final,labels):\n",
        "  index = []\n",
        "  Tokens_unique = []\n",
        "  for i in range(len(Tokens_final)):\n",
        "    if labels[i]== 'Bank charges':\n",
        "      list1 = Tokens_final[0]\n",
        "      list2 = Tokens_final[i]\n",
        "      simillarity_score = jaccard_similarity(list1,list2)\n",
        "      if simillarity_score<0.85:\n",
        "        index.append(i)\n",
        "        Tokens_unique.append(Tokens_final[i])\n",
        "    elif labels[i]== 'Sales':\n",
        "      list1 = Tokens_final[2]\n",
        "      list2 = Tokens_final[i]\n",
        "      simillarity_score = jaccard_similarity(list1,list2)\n",
        "      if simillarity_score<0.85:\n",
        "        index.append(i)\n",
        "        Tokens_unique.append(Tokens_final[i])\n",
        "    elif labels[i]== 'Supermarket':\n",
        "      list1 = Tokens_final[48]\n",
        "      list2 = Tokens_final[i]\n",
        "      simillarity_score = jaccard_similarity(list1,list2)\n",
        "      if simillarity_score<0.85:\n",
        "        index.append(i)\n",
        "        Tokens_unique.append(Tokens_final[i])\n",
        "    elif labels[i]== 'e-commerce':\n",
        "      list1 = Tokens_final[445]\n",
        "      list2 = Tokens_final[i]\n",
        "      simillarity_score = jaccard_similarity(list1,list2)\n",
        "      if simillarity_score<0.85:\n",
        "        index.append(i)\n",
        "        Tokens_unique.append(Tokens_final[i])\n",
        "    elif labels[i]== 'Household charges':\n",
        "      list1 = Tokens_final[129]\n",
        "      list2 = Tokens_final[i]\n",
        "      simillarity_score = jaccard_similarity(list1,list2)\n",
        "      if simillarity_score<0.85:\n",
        "        index.append(i)\n",
        "        Tokens_unique.append(Tokens_final[i])\n",
        "    elif labels[i]== 'Assurances':\n",
        "      list1 = Tokens_final[92]\n",
        "      list2 = Tokens_final[i]\n",
        "      simillarity_score = jaccard_similarity(list1,list2)\n",
        "      if simillarity_score<0.85:\n",
        "        index.append(i)\n",
        "        Tokens_unique.append(Tokens_final[i])\n",
        "    elif labels[i]== 'Payables':\n",
        "      list1 = Tokens_final[76]\n",
        "      list2 = Tokens_final[i]\n",
        "      simillarity_score = jaccard_similarity(list1,list2)\n",
        "      if simillarity_score<0.85:\n",
        "        index.append(i)\n",
        "        Tokens_unique.append(Tokens_final[i])\n",
        "    elif labels[i]== 'Rentals':\n",
        "      list1 = Tokens_final[593]\n",
        "      list2 = Tokens_final[i]\n",
        "      simillarity_score = jaccard_similarity(list1,list2)\n",
        "      if simillarity_score<0.85:\n",
        "        index.append(i)\n",
        "        Tokens_unique.append(Tokens_final[i])\n",
        "    elif labels[i]== 'Payroll':\n",
        "      list1 = Tokens_final[39]\n",
        "      list2 = Tokens_final[i]\n",
        "      simillarity_score = jaccard_similarity(list1,list2)\n",
        "      if simillarity_score<0.85:\n",
        "        index.append(i)\n",
        "        Tokens_unique.append(Tokens_final[i])\n",
        "    \n",
        "  return index, Tokens_unique\n",
        "  \n",
        "\n"
      ],
      "execution_count": null,
      "outputs": []
    },
    {
      "cell_type": "code",
      "metadata": {
        "id": "KvsSm2xkTZgc"
      },
      "source": [
        "index ,Tokens_unique = simillarity_detect(Tokens_final_punctuate,labels)"
      ],
      "execution_count": null,
      "outputs": []
    },
    {
      "cell_type": "code",
      "metadata": {
        "colab": {
          "base_uri": "https://localhost:8080/"
        },
        "id": "o_H4PjbXT-mT",
        "outputId": "d3c03f67-8cfa-4882-80e0-10320297256c"
      },
      "source": [
        "len(Tokens_unique)"
      ],
      "execution_count": null,
      "outputs": [
        {
          "output_type": "execute_result",
          "data": {
            "text/plain": [
              "0"
            ]
          },
          "metadata": {
            "tags": []
          },
          "execution_count": 41
        }
      ]
    },
    {
      "cell_type": "code",
      "metadata": {
        "id": "af-U-8JYfsf-"
      },
      "source": [
        "## extracting labels and unique stemmed tokens \n",
        "\n",
        "Tokens_unique_stem =[]\n",
        "for i in index:\n",
        "  token=Tokens_stemmed[i]\n",
        "  Tokens_unique_stem.append(token)\n",
        "\n",
        "labels_unique =[]\n",
        "for i in index:\n",
        "  labels_unique.append(labels[i])"
      ],
      "execution_count": null,
      "outputs": []
    },
    {
      "cell_type": "code",
      "metadata": {
        "id": "VW6h_9TN1D-f"
      },
      "source": [
        "import collections\n",
        "\n",
        "count_list=collections.Counter(labels_unique)"
      ],
      "execution_count": null,
      "outputs": []
    },
    {
      "cell_type": "code",
      "metadata": {
        "colab": {
          "base_uri": "https://localhost:8080/",
          "height": 557
        },
        "id": "Xeo-b0RD2Fee",
        "outputId": "5e5282ac-c2de-413c-e3d7-a848292b58b1"
      },
      "source": [
        "count_list\n",
        "names = list(count_list.keys())\n",
        "values = list(count_list.values())\n",
        "\n",
        "fig, axs = plt.subplots(figsize=(12, 8))\n",
        "axs.bar(names, values)\n",
        "fig.suptitle('Labels Plot')"
      ],
      "execution_count": null,
      "outputs": [
        {
          "output_type": "execute_result",
          "data": {
            "text/plain": [
              "Text(0.5, 0.98, 'Labels Plot')"
            ]
          },
          "metadata": {
            "tags": []
          },
          "execution_count": 111
        },
        {
          "output_type": "display_data",
          "data": {
            "image/png": "[encoded data removed]",
            "text/plain": [
              "<Figure size 864x576 with 1 Axes>"
            ]
          },
          "metadata": {
            "tags": [],
            "needs_background": "light"
          }
        }
      ]
    },
    {
      "cell_type": "markdown",
      "metadata": {
        "id": "X4C_iyrzzFZH"
      },
      "source": [
        "##**Stage 2:** Linguistic feature extraction and Model building\n",
        "\n",
        "![stage 2.JPG](data:image/jpeg;base64,/9j/4AAQSkZJRgABAQEAYABgAAD/4REGRXhpZgAATU0AKgAAAAgABAE7AAIAAAAUAAAISodpAAQAAAABAAAIXpydAAEAAAAoAAAQ1uocAAcAAAgMAAAAPgAAAAAc6gAAAAgAAAAAAAAAAAAAAAAAAAAAAAAAAAAAAAAAAAAAAAAAAAAAAAAAAAAAAAAAAAAAAAAAAAAAAAAAAAAAAAAAAAAAAAAAAAAAAAAAAAAAAAAAAAAAAAAAAAAAAAAAAAAAAAAAAAAAAAAAAAAAAAAAAAAAAAAAAAAAAAAAAAAAAAAAAAAAAAAAAAAAAAAAAAAAAAAAAAAAAAAAAAAAAAAAAAAAAAAAAAAAAAAAAAAAAAAAAAAAAAAAAAAAAAAAAAAAAAAAAAAAAAAAAAAAAAAAAAAAAAAAAAAAAAAAAAAAAAAAAAAAAAAAAAAAAAAAAAAAAAAAAAAAAAAAAAAAAAAAAAAAAAAAAAAAAAAAAAAAAAAAAAAAAAAAAAAAAAAAAAAAAAAAAAAAAAAAAAAAAAAAAAAAAAAAAAAAAAAAAAAAAAAAAAAAAAAAAAAAAAAAAAAAAAAAAAAAAAAAAAAAAAAAAAAAAAAAAAAAAAAAAAAAAAAAAAAAAAAAAAAAAAAAAAAAAAAAAAAAAAAAAAAAAAAAAAAAAAAAAAAAAAAAAAAAAAAAAAAAAAAAAAAAAAAAAAAAAAAAAAAAAAAAAAAAAAAAAAAAAAAAAAAAAAAAAAAAAAAAAAAAAAAAAAAAAAAAAAAAAAAAAAAAAAAAAAAAAAAAAAAAAAAAAAAAAAAAAAAAAAAAAAAAAAAAAAAAAAAAAAAAAAAAAAAAAAAAAAAAAAAAAAAAAAAAAAAAAAAAAAAAAAAAAAAAAAAAAAAAAAAAAAAAAAAAAAAAAAAAAAAAAAAAAAAAAAAAAAAAAAAAAAAAAAAAAAAAAAAAAAAAAAAAAAAAAAAAAAAAAAAAAAAAAAAAAAAAAAAAAAAAAAAAAAAAAAAAAAAAAAAAAAAAAAAAAAAAAAAAAAAAAAAAAAAAAAAAAAAAAAAAAAAAAAAAAAAAAAAAAAAAAAAAAAAAAAAAAAAAAAAAAAAAAAAAAAAAAAAAAAAAAAAAAAAAAAAAAAAAAAAAAAAAAAAAAAAAAAAAAAAAAAAAAAAAAAAAAAAAAAAAAAAAAAAAAAAAAAAAAAAAAAAAAAAAAAAAAAAAAAAAAAAAAAAAAAAAAAAAAAAAAAAAAAAAAAAAAAAAAAAAAAAAAAAAAAAAAAAAAAAAAAAAAAAAAAAAAAAAAAAAAAAAAAAAAAAAAAAAAAAAAAAAAAAAAAAAAAAAAAAAAAAAAAAAAAAAAAAAAAAAAAAAAAAAAAAAAAAAAAAAAAAAAAAAAAAAAAAAAAAAAAAAAAAAAAAAAAAAAAAAAAAAAAAAAAAAAAAAAAAAAAAAAAAAAAAAAAAAAAAAAAAAAAAAAAAAAAAAAAAAAAAAAAAAAAAAAAAAAAAAAAAAAAAAAAAAAAAAAAAAAAAAAAAAAAAAAAAAAAAAAAAAAAAAAAAAAAAAAAAAAAAAAAAAAAAAAAAAAAAAAAAAAAAAAAAAAAAAAAAAAAAAAAAAAAAAAAAAAAAAAAAAAAAAAAAAAAAAAAAAAAAAAAAAAAAAAAAAAAAAAAAAAAAAAAAAAAAAAAAAAAAAAAAAAAAAAAAAAAAAAAAAAAAAAAAAAAAAAAAAAAAAAAAAAAAAAAAAAAAAAAAAAAAAAAAAAAAAAAAAAAAAAAAAAAAAAAAAAAAAAAAAAAAAAAAAAAAAAAAAAAAAAAAAAAAAAAAAAAAAAAAAAAAAAAAAAAAAAAAAAAAAAAAAAAAAAAAAAAAAAAAAAAAAAAAAAAAAAAAAAAAAAAAAAAAAAAAAAAAAAAAAAAAAAAAAAAAAAAAAAAAAAAAAAAAAAAAAAAAAAAAAAAAAAAAAAAAAAAAAAAAAAAAAAAAAAAAAAAAAAAAAAAAAAAAAAAAAAAAAAAAAAAAAAAAAAAAAAAAAAAAAAAAAAAAAAAAAAAAAAAAAAAAAAAAAAAAAAAAAAAAAAAAAAAAAAAAAAAAAAAAAAAAAAAAAAAAAAAAAAAAAAAAAAAAAAAAAAAAAAAAAAAAAAAAAAAAAAAAAAAAAAAAAAAAAAAAAAAAAAAAAAAAAAAAAAAAAAAAAAAAAAAAAAAAAAAAAAAAAAAAAAAAAAAAAAAAAAAAAAAAAAAAAAAAAAAAAAAAAAAAAAAAAAAAAAAAAAAAAAAAAAAAAAAAAAAAAAAAAAAAAAAAAAAAAAAAAAAAAAAAAAAAAAAAAAAAAAAAAAAAAAAAAAAAAAAAAAAAAAAAAAAAAAAAAAAAAAAAAAAAAAAAAAAAAAAAAAAAAAAAAAAAAAAAAAAAAAAAAAAAAAAAAAAAAAAAAAAAAAAAAAAAAAAAAAAAAAAAAAAAAAAAAAAAAAAAAAAAAAAAAAAAAAAAAAAAAAAAAAAAAAAAAAAAAAAAAAAAAAAAAAAAAAAAAAAAAAAAAAAAAAAAAAAAAAAAAAAAAAAAAAAAAAAAAAAAAAAAAAAAAAAAAAAAAAAAAAAAAAAAAAAAAAAAAAAAAAAAAAAAAAAAAAAAAAAAAAAAAAAAAAAAAAAAAAAAAAAAAAAAAAAAAAAAAAAAAAAAAAAAAAAAAAAAAAAAAAAAAAAAAAAAAAAAAAAAAAAAAAAAAAAAAAAAAAAAAAAAAAAAAAAAAAAAAAAAAAAAAAAAAAAAAAAAAAAAAAAAAAAAAAAAAAAAAAAAAAAAAAAAAAAAAAAAAAAAAAAAAAAAAAAAAAAAAAAAAAAAAAAAAAAAAAAAAAAAAAAAAAAAAAAAAAAAAAAAAAAAAAAAAAAAAAAAAAAAAAHlhc3dhbnRoIGdvdGhpcmVkZHkAAAWQAwACAAAAFAAAEKyQBAACAAAAFAAAEMCSkQACAAAAAzI4AACSkgACAAAAAzI4AADqHAAHAAAIDAAACKAAAAAAHOoAAAAIAAAAAAAAAAAAAAAAAAAAAAAAAAAAAAAAAAAAAAAAAAAAAAAAAAAAAAAAAAAAAAAAAAAAAAAAAAAAAAAAAAAAAAAAAAAAAAAAAAAAAAAAAAAAAAAAAAAAAAAAAAAAAAAAAAAAAAAAAAAAAAAAAAAAAAAAAAAAAAAAAAAAAAAAAAAAAAAAAAAAAAAAAAAAAAAAAAAAAAAAAAAAAAAAAAAAAAAAAAAAAAAAAAAAAAAAAAAAAAAAAAAAAAAAAAAAAAAAAAAAAAAAAAAAAAAAAAAAAAAAAAAAAAAAAAAAAAAAAAAAAAAAAAAAAAAAAAAAAAAAAAAAAAAAAAAAAAAAAAAAAAAAAAAAAAAAAAAAAAAAAAAAAAAAAAAAAAAAAAAAAAAAAAAAAAAAAAAAAAAAAAAAAAAAAAAAAAAAAAAAAAAAAAAAAAAAAAAAAAAAAAAAAAAAAAAAAAAAAAAAAAAAAAAAAAAAAAAAAAAAAAAAAAAAAAAAAAAAAAAAAAAAAAAAAAAAAAAAAAAAAAAAAAAAAAAAAAAAAAAAAAAAAAAAAAAAAAAAAAAAAAAAAAAAAAAAAAAAAAAAAAAAAAAAAAAAAAAAAAAAAAAAAAAAAAAAAAAAAAAAAAAAAAAAAAAAAAAAAAAAAAAAAAAAAAAAAAAAAAAAAAAAAAAAAAAAAAAAAAAAAAAAAAAAAAAAAAAAAAAAAAAAAAAAAAAAAAAAAAAAAAAAAAAAAAAAAAAAAAAAAAAAAAAAAAAAAAAAAAAAAAAAAAAAAAAAAAAAAAAAAAAAAAAAAAAAAAAAAAAAAAAAAAAAAAAAAAAAAAAAAAAAAAAAAAAAAAAAAAAAAAAAAAAAAAAAAAAAAAAAAAAAAAAAAAAAAAAAAAAAAAAAAAAAAAAAAAAAAAAAAAAAAAAAAAAAAAAAAAAAAAAAAAAAAAAAAAAAAAAAAAAAAAAAAAAAAAAAAAAAAAAAAAAAAAAAAAAAAAAAAAAAAAAAAAAAAAAAAAAAAAAAAAAAAAAAAAAAAAAAAAAAAAAAAAAAAAAAAAAAAAAAAAAAAAAAAAAAAAAAAAAAAAAAAAAAAAAAAAAAAAAAAAAAAAAAAAAAAAAAAAAAAAAAAAAAAAAAAAAAAAAAAAAAAAAAAAAAAAAAAAAAAAAAAAAAAAAAAAAAAAAAAAAAAAAAAAAAAAAAAAAAAAAAAAAAAAAAAAAAAAAAAAAAAAAAAAAAAAAAAAAAAAAAAAAAAAAAAAAAAAAAAAAAAAAAAAAAAAAAAAAAAAAAAAAAAAAAAAAAAAAAAAAAAAAAAAAAAAAAAAAAAAAAAAAAAAAAAAAAAAAAAAAAAAAAAAAAAAAAAAAAAAAAAAAAAAAAAAAAAAAAAAAAAAAAAAAAAAAAAAAAAAAAAAAAAAAAAAAAAAAAAAAAAAAAAAAAAAAAAAAAAAAAAAAAAAAAAAAAAAAAAAAAAAAAAAAAAAAAAAAAAAAAAAAAAAAAAAAAAAAAAAAAAAAAAAAAAAAAAAAAAAAAAAAAAAAAAAAAAAAAAAAAAAAAAAAAAAAAAAAAAAAAAAAAAAAAAAAAAAAAAAAAAAAAAAAAAAAAAAAAAAAAAAAAAAAAAAAAAAAAAAAAAAAAAAAAAAAAAAAAAAAAAAAAAAAAAAAAAAAAAAAAAAAAAAAAAAAAAAAAAAAAAAAAAAAAAAAAAAAAAAAAAAAAAAAAAAAAAAAAAAAAAAAAAAAAAAAAAAAAAAAAAAAAAAAAAAAAAAAAAAAAAAAAAAAAAAAAAAAAAAAAAAAAAAAAAAAAAAAAAAAAAAAAAAAAAAAAAAAAAAAAAAAAAAAAAAAAAAAAAAAAAAAAAAAAAAAAAAAAAAAAAAAAAAAAAAAAAAAAAAAAAAAAAAAAAAAAAAAAAAAAAAAAAAAAAAAAAAAAAAAAAAAAAAAAAAAAAAAAAAAAAAAAAAAAAAAAAAAAAAAAAAAAAAAAAAAAAAAAAAAAAAAAAAAAAAAAAAAAAAAAAAAAAAAAAAAAAAAAAAAAAAAAAAAAAAAAAAAAAAAAAAAAAAAAAAAAAAAAAAAAAAAAAAAAAAAAAAAAAAAAAAAAAAAAAAAAAAAAAAAAAAAAAAAAAAAAAAAAAAAAAAAAAAAAAAAAAAAAAAAAAAAAAAAAAAAAAAAAAAAAAAAAAAAAAAAAAAAAAAAAAAAAAAAAAAAAAAAAAAAAAAAAAAAAAAAAAAAAAAAAAAAAAAAAAAAAAAAAAAAAAAAAAAAAAAAAAAAAAAAAAAAAAAAAAAAAAAAAAAAAAAAAAAAAAAAAAAAAAAAAAAAAAAAAAAAAAAAAAAAAAAAAAAAAAAAAAAAAAAAAAAAAAAAAAAAAAAAAAAAAAAAAAAAAAAAAAAAAAAAAAAAAAAAAAAAAAAAAAAAAAAAAAAAAAAAAAAAAAAAAAAAAAAAAAAAAAAAAAAAAAAAAAAAAAAAAAAAAAAAAAAAAAAAAAAAAAAAAAAAAAAAAAAAAAAAAAAAAAAAAAAAAAAAAAAAAAAAAAAAAAAAAAAAAAAAAAAAAAAAAAAAAAAAAAAAAAAAAAAAAAAAAAAAAAAAAAAAAAAAAAAAAAAAAAAAAAAAAAAAAAAAAAAAAAAAAAAAAAAAAAAAAAAAAAAAAAAAAAAAAAAAAAAAAAAAAAAAAAAAAAAAAAAAAAAAAAAAAAAAAAAAAAAAAAAAAAAAAAAAAAAAAAAAAAAAAAAAAAAAAAAAAAAAAAAAAAAAAAAAAAAAAAAAAAAAyMDIxOjAxOjE3IDE3OjI5OjQ3ADIwMjE6MDE6MTcgMTc6Mjk6NDcAAAB5AGEAcwB3AGEAbgB0AGgAIABnAG8AdABoAGkAcgBlAGQAZAB5AAAA/+ELJmh0dHA6Ly9ucy5hZG9iZS5jb20veGFwLzEuMC8APD94cGFja2V0IGJlZ2luPSfvu78nIGlkPSdXNU0wTXBDZWhpSHpyZVN6TlRjemtjOWQnPz4NCjx4OnhtcG1ldGEgeG1sbnM6eD0iYWRvYmU6bnM6bWV0YS8iPjxyZGY6UkRGIHhtbG5zOnJkZj0iaHR0cDovL3d3dy53My5vcmcvMTk5OS8wMi8yMi1yZGYtc3ludGF4LW5zIyI+PHJkZjpEZXNjcmlwdGlvbiByZGY6YWJvdXQ9InV1aWQ6ZmFmNWJkZDUtYmEzZC0xMWRhLWFkMzEtZDMzZDc1MTgyZjFiIiB4bWxuczpkYz0iaHR0cDovL3B1cmwub3JnL2RjL2VsZW1lbnRzLzEuMS8iLz48cmRmOkRlc2NyaXB0aW9uIHJkZjphYm91dD0idXVpZDpmYWY1YmRkNS1iYTNkLTExZGEtYWQzMS1kMzNkNzUxODJmMWIiIHhtbG5zOnhtcD0iaHR0cDovL25zLmFkb2JlLmNvbS94YXAvMS4wLyI+PHhtcDpDcmVhdGVEYXRlPjIwMjEtMDEtMTdUMTc6Mjk6NDcuMjgwPC94bXA6Q3JlYXRlRGF0ZT48L3JkZjpEZXNjcmlwdGlvbj48cmRmOkRlc2NyaXB0aW9uIHJkZjphYm91dD0idXVpZDpmYWY1YmRkNS1iYTNkLTExZGEtYWQzMS1kMzNkNzUxODJmMWIiIHhtbG5zOmRjPSJodHRwOi8vcHVybC5vcmcvZGMvZWxlbWVudHMvMS4xLyI+PGRjOmNyZWF0b3I+PHJkZjpTZXEgeG1sbnM6cmRmPSJodHRwOi8vd3d3LnczLm9yZy8xOTk5LzAyLzIyLXJkZi1zeW50YXgtbnMjIj48cmRmOmxpPnlhc3dhbnRoIGdvdGhpcmVkZHk8L3JkZjpsaT48L3JkZjpTZXE+DQoJCQk8L2RjOmNyZWF0b3I+PC9yZGY6RGVzY3JpcHRpb24+PC9yZGY6UkRGPjwveDp4bXBtZXRhPg0KICAgICAgICAgICAgICAgICAgICAgICAgICAgICAgICAgICAgICAgICAgICAgICAgICAgICAgICAgICAgICAgICAgICAgICAgICAgICAgICAgICAgICAgICAgICAgICAgICAgIAogICAgICAgICAgICAgICAgICAgICAgICAgICAgICAgICAgICAgICAgICAgICAgICAgICAgICAgICAgICAgICAgICAgICAgICAgICAgICAgICAgICAgICAgICAgICAgICAgICAgCiAgICAgICAgICAgICAgICAgICAgICAgICAgICAgICAgICAgICAgICAgICAgICAgICAgICAgICAgICAgICAgICAgICAgICAgICAgICAgICAgICAgICAgICAgICAgICAgICAgICAKICAgICAgICAgICAgICAgICAgICAgICAgICAgICAgICAgICAgICAgICAgICAgICAgICAgICAgICAgICAgICAgICAgICAgICAgICAgICAgICAgICAgICAgICAgICAgICAgICAgIAogICAgICAgICAgICAgICAgICAgICAgICAgICAgICAgICAgICAgICAgICAgICAgICAgICAgICAgICAgICAgICAgICAgICAgICAgICAgICAgICAgICAgICAgICAgICAgICAgICAgCiAgICAgICAgICAgICAgICAgICAgICAgICAgICAgICAgICAgICAgICAgICAgICAgICAgICAgICAgICAgICAgICAgICAgICAgICAgICAgICAgICAgICAgICAgICAgICAgICAgICAKICAgICAgICAgICAgICAgICAgICAgICAgICAgICAgICAgICAgICAgICAgICAgICAgICAgICAgICAgICAgICAgICAgICAgICAgICAgICAgICAgICAgICAgICAgICAgICAgICAgIAogICAgICAgICAgICAgICAgICAgICAgICAgICAgICAgICAgICAgICAgICAgICAgICAgICAgICAgICAgICAgICAgICAgICAgICAgICAgICAgICAgICAgICAgICAgICAgICAgICAgCiAgICAgICAgICAgICAgICAgICAgICAgICAgICAgICAgICAgICAgICAgICAgICAgICAgICAgICAgICAgICAgICAgICAgICAgICAgICAgICAgICAgICAgICAgICAgICAgICAgICAKICAgICAgICAgICAgICAgICAgICAgICAgICAgICAgICAgICAgICAgICAgICAgICAgICAgICAgICAgICAgICAgICAgICAgICAgICAgICAgICAgICAgICAgICAgICAgICAgICAgIAogICAgICAgICAgICAgICAgICAgICAgICAgICAgICAgICAgICAgICAgICAgICAgICAgICAgICAgICAgICAgICAgICAgICAgICAgICAgICAgICAgICAgICAgICAgICAgICAgICAgCiAgICAgICAgICAgICAgICAgICAgICAgICAgICAgICAgICAgICAgICAgICAgICAgICAgICAgICAgICAgICAgICAgICAgICAgICAgICAgICAgICAgICAgICAgICAgICAgICAgICAKICAgICAgICAgICAgICAgICAgICAgICAgICAgICAgICAgICAgICAgICAgICAgICAgICAgICAgICAgICAgICAgICAgICAgICAgICAgICAgICAgICAgICAgICAgICAgICAgICAgIAogICAgICAgICAgICAgICAgICAgICAgICAgICAgICAgICAgICAgICAgICAgICAgICAgICAgICAgICAgICAgICAgICAgICAgICAgICAgICAgICAgICAgICAgICAgICAgICAgICAgCiAgICAgICAgICAgICAgICAgICAgICAgICAgICAgICAgICAgICAgICAgICAgICAgICAgICAgICAgICAgICAgICAgICAgICAgICAgICAgICAgICAgICAgICAgICAgICAgICAgICAKICAgICAgICAgICAgICAgICAgICAgICAgICAgICAgICAgICAgICAgICAgICAgICAgICAgICAgICAgICAgICAgICAgICAgICAgICAgICAgICAgICAgICAgICAgICAgICAgICAgIAogICAgICAgICAgICAgICAgICAgICAgICAgICAgICAgICAgICAgICAgICAgICAgICAgICAgICAgICAgICAgICAgICAgICAgICAgICAgICAgICAgICAgICAgICAgICAgICAgICAgCiAgICAgICAgICAgICAgICAgICAgICAgICAgICAgICAgICAgICAgICAgICAgICAgICAgICAgICAgICAgICAgICAgICAgICAgICAgICAgICAgICAgICAgICAgICAgICAgICAgICAKICAgICAgICAgICAgICAgICAgICAgICAgICAgICAgICAgICAgICAgICAgICAgICAgICAgICAgICAgICAgICAgICAgICAgICAgICAgICAgICAgICAgICAgICAgICAgICAgICAgIAogICAgICAgICAgICAgICAgICAgICAgICAgICAgICAgICAgICAgICAgICAgICAgICAgICAgICAgICAgICAgICAgICAgICAgICAgICAgICAgICAgICAgICAgICAgICAgICAgICAgCiAgICAgICAgICAgICAgICAgICAgICAgICAgICA8P3hwYWNrZXQgZW5kPSd3Jz8+/9sAQwAHBQUGBQQHBgUGCAcHCAoRCwoJCQoVDxAMERgVGhkYFRgXGx4nIRsdJR0XGCIuIiUoKSssKxogLzMvKjInKisq/9sAQwEHCAgKCQoUCwsUKhwYHCoqKioqKioqKioqKioqKioqKioqKioqKioqKioqKioqKioqKioqKioqKioqKioqKioq/8AAEQgA/gF2AwEiAAIRAQMRAf/EAB8AAAEFAQEBAQEBAAAAAAAAAAABAgMEBQYHCAkKC//EALUQAAIBAwMCBAMFBQQEAAABfQECAwAEEQUSITFBBhNRYQcicRQygZGhCCNCscEVUtHwJDNicoIJChYXGBkaJSYnKCkqNDU2Nzg5OkNERUZHSElKU1RVVldYWVpjZGVmZ2hpanN0dXZ3eHl6g4SFhoeIiYqSk5SVlpeYmZqio6Slpqeoqaqys7S1tre4ubrCw8TFxsfIycrS09TV1tfY2drh4uPk5ebn6Onq8fLz9PX29/j5+v/EAB8BAAMBAQEBAQEBAQEAAAAAAAABAgMEBQYHCAkKC//EALURAAIBAgQEAwQHBQQEAAECdwABAgMRBAUhMQYSQVEHYXETIjKBCBRCkaGxwQkjM1LwFWJy0QoWJDThJfEXGBkaJicoKSo1Njc4OTpDREVGR0hJSlNUVVZXWFlaY2RlZmdoaWpzdHV2d3h5eoKDhIWGh4iJipKTlJWWl5iZmqKjpKWmp6ipqrKztLW2t7i5usLDxMXGx8jJytLT1NXW19jZ2uLj5OXm5+jp6vLz9PX29/j5+v/aAAwDAQACEQMRAD8A+kaKKKACiiigAooooAKKKKACiiigAooooAKKKKACiiigAooooAKKKKACiiigAooooAKKKKACuQm/5LBb/wDYLP8A6Gak1XxHqHhzxDu1iFW0O4wsVzEpzA3o/wCtVnuYX+K1tcpKhgOkFxIG+XbuJzn0r0KNKUE5PZxf9ep5mIrQm4xW6krr9fQ7SiuUsfE194g8SLFoMSf2RbMRc3cqnEp/up/n/wCv1dclSlKk0pb/ANbnbSrQrJuG3fv6BRRRWRsFFFFABRRRQAUUUUAFFFFABRRRQAUUUUAFFFFABRRRQAUUUUAFFFFABRRRQAUUUUAFFFFABRRRQAUUUUAFFFQi8tiARcREEZB3jmnZsV0TUVF9qt/+e8f/AH2KejpIuY2Vh6qc0WYXQ6iiikMKKKKACiiigAooooAiurWC9tZLa7iWWGRdrowyCK85k+Ft0dcCR6nIukmMr94+YqZz5fpjPf8ASvS6K6aGKq0Lqm9zkxGDo4mzqLb+vuK9jY2+m2MVpZRLFDEu1VUf55qxRRXO227s6klFWQUUUUhhRRRQAUUUUAFFFFABRRRQAUUUUAFFFFABRRRQAUUUUAFFFFABRRRQAUUUUAFFFFABRRRQAUUUUAFFFFABUFj/AMg62/65L/IVPUFj/wAg62/65L/IVXQXUnoooqRkEkztMYbcLvUZZ2GVT0GO59v/AK2UFvMfvXkme+1UA/UH+dOtgAjt3aRiT64OP5AVNVN20RNr6sg+zy/8/k35J/8AE0fZ5f8An8m/JP8A4mp6KOZjsiD7PL/z+Tfkn/xNH2eX/n8m/JP/AImp6KOZhZEH2eX/AJ/JvyT/AOJo+zy/8/k35J/8TU9FHMwsiD7PL/z+Tfkn/wATR9nl/wCfyb8k/wDianoo5mFkQfZ5f+fyb8k/+Jo+zy/8/k35J/8AE1PRRzMLIg+zy/8AP5N+Sf8AxNH2eX/n8m/JP/ianoo5mFkQfZ5f+fyb8k/+Jo+zy/8AP5N+Sf8AxNT0UczCyIPs8v8Az+Tfkn/xNH2eX/n8m/JP/ianoo5mFkViLmAFg32lQM7SAr/gRwfpgfWrCOskauhyrDIPqKWoLL/j3I7LI6j2AcgUbq4tnYnoooqSgooooAKKKKACiiigAooooAKKKKACiiigAooooAKKKKACiiigAooooAKKKKACoLH/AJB1t/1yX+QqeoLH/kHW3/XJf5Cq6C6k9FFFSMit/wDVH/ro/wD6EalqK3/1R/66P/6EalpvcS2KeryPFol9JExR0t5GVlOCCFODXMaVqs4+EfhvULuWee4ntdMMsvnFXdpGhBYt1OSxJ9eQetdhNClxBJDMu6ORSjL6gjBFYtl4N0awtYrW3juzbQrGsVvLqFxJFGI2VkCozlRtKLjA7Y6UhnL3HxMvdNibUtU0iAaObrUbVHguS0+6zE7FihUDDLbOMbuCR2PFmbx1rWmXUttrWkWUcqwWlwn2W8aRds9ysO0koOVyTnocdu3Q3nhPS7jTPskVtHEUkuZ4GdTIsc06yCRyrHDZ86TKnj5jWBoHw6W2uL2fxBJBd/abOGyWG3aYKscTs4YM7syncQQFICbRjnmgBNU8YTp4yGnW9hNPJZXksEccNyU+0EWH2gBlxg5LbQD0OGrJm8ea9qcGnpZpZ2lyutWlvdREzxP5cm47WSWJXXJUjOMEDg9RXZr4I8PKzu2n+a8jvJI800kjSM8XksWLMS2Y/l57U8+ENGdCJYJ5m8yKQSzXk0kgaIkx4kZywClmIAOPmPqaAOX0Lxjqt/plvb6Fp8V1PDaNe3P9o37AlDPLGqLJtOWPlPy2AuFHfIu+PPFv/CJ32jX8q3UtsyXBkggyVYhAQXI4VV5JY8KMmth/BPh+S0S2+wlIUiaApFPIm+NmLMj7WG9SSTtbI5Pqa07nSrG7khe5tY5DAjxxhh8oV12sMdCCOMGgDjdS8eaxp19fq2k2UtrpLWYvpFu2DN5+0HyhswdpbPzEZGOmeLU/i7WgzXFtpNnLZ3F1c2NkPtTCZ54vMClxswFZ4mHBJAKn1A2l8I6GtlcWosQYblYUlVpHO8Q4EeSTnjaPy5p9t4e0hL9dQt4mMgmedALiRokkfId1j3bAx3NkgZ+ZvU0AclpfxT/trVI7PT9LJF59lNg7yY+0K4Vrg4xx5SvyO5BHFZGlfE3UrXSbO0ttJvdZns7CGe9kW3uZ5JmfJCIY4nXdtGcyMoJIHqR6Ha+FNDsrixntNNhik0953tWXP7ozHMuOf4j/APWxVZ/A3h2SIRHTtsXkLbPGk8iLNEpJCSAMBIo3Nw2epHc0Ac/q3irVbm6t7qzgS30a31lbSWUTutw2zIfMe3G0tlcZzwD3wK0vxO1OysrLUNQ0KD7HqemS6lZLb3TSSkAxBI3UJwx85Mld2OQAcc9jL4V0eXUBevat5yzi5AE8gjEoGBJ5e7ZuxxnGa5bRPhitvqKy69JZ3ltBYS6fFbwRSIjpIyMzFWdhH9wYSMBQSxHYAA3PCPiS/wBea8i1PTJbN7by2WX7Ncwxyht3A8+KNiVK84BGGU55wOlqhp2i2WlSTSWizGWcKsks9xJM7Bc7RudicDc2BnHJ9TV+gAqCz/1Df9dZP/Q2qeoLP/UN/wBdZP8A0NqroLqT0UUVIwooooAKKKKACiiigAooooAKKKKACiiigAooooAKKKKACiiigAooooAKKKKACoLH/kHW3/XJf5Cp6gsf+Qdbf9cl/kKroLqT0UUVIyK3/wBUf+uj/wDoRqWorY/u29pHz/30alpvcS2CiiikMKKKKAOH+I+valo0+hwWc7WdneXEi3V0s0UJXamUj8yUFE3HPUZO3A61zP8AwmXiX+zNCk/tFHju4D/al1FCriytxcFY7zIULl0DKeNucuBtRs+uSRpNGY5UV0bqrDIP4UeWhz8i/MMHjqPSgDyPRGv5fFF5o1n4nvbZrjxBe/a1iMLSxose+PG5Dt3YHJHIXioY/HusC8upNIvbjU5W0/UJobW4e3YvLGN0QWGLLx4IK4dtxGcjd09hEUYkMgjUOerBeT+NIlvDG7NHFGrM24lVAJPr9aAPJdU1C2m1Tw40PjyXU7SPV7Vppf3IWBntrnrKqhPnIXCHlc/7S4rL4p1C30u8E2vroRstMNzpkEcMKrfzmaYEbSvz4KxpsTB+fPVlNexi2gWMxrDGELbioQYJznOPWlMMTbN0aHYcplR8p9R6UAecWGsa/LeJqd5qdzH/AMT6KwbTDHH5SRvGu5T8u8sGcnO7sB659Kpuxf7q9c9O/rTqACiiigAooooAKgs/9Q3/AF1k/wDQ2qeoLP8A49z7yyEf99mq6C6k9FFFSMKKKKACiiigAooooAKKKKACiiigAooooAKKKKACiiigAooooAKKKKACiiigAqCx/wCQdbf9cl/kKnqCx/5B1t/1yX+QqugupPRRRUjKzrJbztLEpkSQ5kQdQcAbh+A5H5e8n2lD/DL/AN+m/wAKlop3vuK3Yi+0J/dk/wC/Tf4UfaE/uyf9+m/wqWijQNSL7Qn92T/v03+FH2hP7sn/AH6b/CpaKNA1IvtCf3ZP+/Tf4UfaE/uyf9+m/wAKloo0DUi+0J/dk/79N/hR9oT+7J/36b/CpaZ5sfnCHzF80ruCbvmx0zj0o0DUb9oT+7J/36b/AAo+0J/dk/79N/hUtFGgakX2hP7sn/fpv8KPtCf3ZP8Av03+FS0UaBqRfaE/uyf9+m/wo+0J/dk/79N/hUtFGgakX2hP7sn/AH6b/Cj7Qn92T/v03+FS0UaBqV5J5HGy1jbcf45FKqnvzyfoP0qaOMRRLGucKABmnUUX6BYKKKKQwooooAKKKKACiiigAooooAKKKKACiiigAooooAKKKKACiiigAooooAKKKKACoLH/AJB1t/1yX+QqeoLH/kHW3/XJf5Cq6C6k9FFFSMKKKKACiiigAooooAKKKKACsF/+SiQ/9gp//RqVoatLqEFj5ukwRXEyMGaGRiu9e4U9m9M8Vyp8W6UfEserPPsiXS5EeNh+8WTzU/d7f73tXXh6U5JuKvo0cWJrQg1GTtqmdxRWfo1xqF3Zm41O3S1MjbooQSWROwf/AGvpWhXNKLi7M64yUoqSCiiipKCiiigAooooAKKKKACiiigAooooAKKKKACiiigAooooAKKKKACiivKtM+JesyfDPVNTv7e2/tuOTy7FI0IjlEg/dORnOFw+7n/lk1AHqtFcoPHljBaNLdW908VoIE1C7hjUw20kqIwDZbccCRCSqkAMM98V7nx6n9raUYbaaDSbia6E19cIoR0gikZmTDbh8ydWUZAOPWgDs6K4bU/iLGdPiOmQSQXUlxYlFugjCSCa6ihZhsc4IEnRsEEjIqCz+In2eO3m1gvIZYFItrW1yzO94bdCGL9yVG3HvntQB6BRXOReNLSaQ20On3z6gt09q1gBGJVdI1kYkl9m3Y6HO7+IDrxWro2rQa5pMOoWiSxxTbgEmTa6lWKkEdjkGgC9RRRQAUUUUAFQWP8AyDrb/rkv8hU9QWP/ACDrb/rkv8hVdBdSeiiipGFFQSzOZfJtwpkwGZmHyoD0Pv0PFILeY/evJM99iIB+oP8AOqt3FcsUVB9nl/5/JvyT/wCJo+zy/wDP5N+Sf/E0WXcLvsT0VB9nl/5/JvyT/wCJo+zy/wDP5N+Sf/E0WXcLvsT0VB9nl/5/JvyT/wCJo+zy/wDP5N+Sf/E0WXcLvsT1mt4d0p9aXVmsYjequBJt/XHTPv1q39nl/wCfyb8k/wDiaPs8v/P5N+Sf/E1UW4/DKxEoxnbmjexPRUH2eX/n8m/JP/iaPs8v/P5N+Sf/ABNTZdy7vsT0VB9nl/5/JvyT/wCJo+zy/wDP5N+Sf/E0WXcLvsT0VB9nl/5/JvyT/wCJo+zy/wDP5N+Sf/E0WXcLvsT0VB9nl/5/JvyT/wCJo+zy/wDP5N+Sf/E0WXcLvsT0VWIuYDkN9pTuCArj6EcH6cfWrCOskauhyrAEH1FJqwJi0UUUhhRRRQAUUUUAFFFFABRRRQAUUUUAFcZb/DTTII7NPtd062ljLaKGK4Yt5gEhGPvKs0yjtiQ12dFAHH3Pw8tp/Pt01O6h029aF7+yRU23TRoiAliNyhljQMFIyF4xk5B8PIGuYo7rVLu40qBrgw6c6oERZ0dHUuAGIAkbbzkDjJo8VeKtS0TVZI7SOzWztLRLu4luY5WBUu4YF4wRCAqE7nBByf7prG0jxL4lK38JurCad9YvY4Wkt5pTHDE2MCOP5mGWQZyAM85JFAGhZfC6xtbcxPfM+JLVo2itIISBBOky7tiDcWKKGJ7DgCp/+Fb6f51pJ9tuc2phKjC8+XeC6GeO7Db9PesW5+JOrz+HrjU9KstPQ6focerXaXbuol3+YAkZ4wB5Lckc5UcckXLX4hX11rbBLKMabHqiaU6mGXzS5KqZPMx5YAZh8nJK85yQKALmseFbi1v5NT0U3rXlxqD3TzWrweZAGgjiZVWUbGUiJCckEHBGcYra8H6Zd6P4TsrLUWLXSB3lJcOdzOznLAAE/NyQMZraooAKKKKACimyKXTCyNGf7y4z+oNRfZ5f+fyb8k/+Jp2FcnqCx/5B1t/1yX+Qo+zy/wDP5N+Sf/E0WP8AyDrb/rkv8hT6C6k9FFFSUV7Yf6Rd/wDXUf8AoC1YqC3/ANfdf9dR/wCgLU9VLcS2Cuf8c6jd6V4OvLvT55be4V4UWWGISuoaVFO1GBDHDHAwea6Cqmp6bBq1ibS7DGIukh2nByjhx+qipGcXF4tj8LaG+o67rGq3q3V2lpbrrVpDp4SQqzfe8uMBSASWOfu4HPBmf4p6WdDi1KBIGieSWJnl1C3jiDxkZVZC+JCdwK7Qc99p4rqdY0a31q2ijuHlhkt5hPb3EDbZIZACAykgjOGYYIIIJBFZEvgSxlura6bUNT+2QxSQvcm53STRyMGdSWB2gkD7gUjoMUAZ8PxB33oujZSNpN1baVJaPlQ+68maMFhnjGVyO209cirU3j2MeIX0Wz0u5urtb2W0yJERQY4YZmcknptmHvkfjUp+H+kfYIbNZbxIYbK1s4wswBUWz74JAcffRuc9D3BqbTPBGl6Zqo1KOS7nu/PluGluJt5eSSKOJyeO6xLwMAc444oAwdM+MWgaqGezU3CtazXVvDbTxzXEqxqXKmFW3IxUEqD9DtPFdH4V8UQeKtPku7VIhGjhQ8N1HOjcZ6oSQRnBDAEH161FYeC7HTrdrS2vtTWxWBoILNbxkjtkbghCuG4HAJY7f4cVZ0Pw1ZaBdXl1FNPc3moMn2i5uWUvLsBCj5QBwCe2TnkmgDnI/izo/wDZF/qVzGIoLNo0ZBdQmVHeQRqkqFgYmyRnd8oGSW4psPxN07UY4bm1uY44LK8dNSMEqXEZiFnPOCsiZBGYx0wcqR066r/D/Sbh5X1C4vr52jWKGSefMluqyLIuxwAxIeNGDMWOVHPJzcXwlYyWwh1K4vNT/etK7Xk+/eWheErtAChdjsMKBzyecmgDm7D4w6HqD+TbRGe6lSKS2t7W6hmaTzJUiVWKviNg0iZDHABJBODiXxB4x1jT7yzhk0yXT45LW+luW3xyOvkxBlaM9GHzZ5HJ4I4OddfAun/YWtbi+1S5iVY1txNeMfsvlsHjKYx8ysqnc25jjBJGRTbnwHpt7DGLy71CeZTN5lw9x88oljEbq3G0AqqjCgY2jHfIBHB4z/dJILC4msYZLe3ub4uilZZVjI+QHkDzU3EYxk4BxSaP48j1bUbCA6Xc21vqMtzDa3DuhDvAWDgqDlQdjEHvjtxm3/whenC5RkuLxLbfDLJZiUeTNJEFCOwxnI8tOAQDtGQealsvCOmWB0w24l/4lk081vufOGm378+v32x6UAblFFFABVeyGLdh6SyY/wC+2qxUFn/qG/66yf8AobVX2RdSeiiipGFFFFABRRRQAUUUUAFFFFABRRRQAUUUUAZep+GdE1q7iutW0y2u5ogFVpUz8oOQD6gHnByM1XufBfhu7uJp7jRrR5ZpjNI+zBdyMEnHqOD6981uUUAcZ4j+Gml+IIIbP9xa2Eds1qLdbKJjEjE7vKcjMZOfcDCkAEZrdHhbQxrKat/Zdt9vTGLjyxuyF2hj6sF4z1xxWtRQAUUUUAFFFFABRRRQAVBY/wDIOtv+uS/yFT1BY/8AIOtv+uS/yFV0F1J6KKKkZBb/AOvuv+uo/wDQFqeoLf8A191/11H/AKAtT1UtxLYKKKKkYUUVHPPHbW8k87bIokLux7ADJNAElFFVLfVbC60dNVgu4m0+SH7Qtzuwhjxnfk9sc5oAt1478VtRt5fFkH2xEWy0OKCW9Z5FFwUmlBElorfxq0IBYHJDFQM4r2Kq8+n2V1dQXNzaQTT25JhlkiVmiP8AskjI/CgBmlahHq2j2eowDEV3Ak6DcGwGUHGRwevardVbK6sp/PtrCSM/YZPs8scYwIX2K2zHb5XU/QirVABRUVvcw3cRktpFkRZHjLL2ZGKsPwZSPwqN9Rs0mkhNzH5sTRrJGGyyFzhMgcjJ6ZoAs0UUUAFFFFABUFn/AKhv+usn/obVPUFn/qG/66yf+htVdBdSeiiipGFFFFABRRRQAUUUUAFFFFABRRRQAUUUUAFFFFABRRRQAUUUUAFFFFABRRRQAVBY/wDIOtv+uS/yFT1BY/8AIOtv+uS/yFV0F1J6KKKkZXtj+/u/+uo/9AWrFV5I5IpmngXfvADxggZx3GeM9ufQelH26MfejuFPceQ5x+IBFW03sSnbcsVV1OxGp6ReWDSyQi6geEyxMVdNykblI6EZyDTvt0X9y4/8B5P/AImj7dF/cuP/AAHk/wDiaXLLsPmXc8q0SXxnd69YHUrPUI49XeKK6Lq4jsmsdpZvZZ2Dgf3lIrP0mz8SJpV2ZZdZOsto18NTjFhcKslwU+T968pRm3/6swr93j5RivZft0X9y4/8B5P/AImj7dF/cuP/AAHk/wDiaOWXYOZdzybVJ5ovF0LXh1f+1X8VQxJPC8v2U2e4bY9wPl429U+9uDEjGTVDTfCV/Y+ANNsorHVc33g28W/gdpm/0lVgMKFSflcZkCqMcZGMCvVBpHh9dcOsro8Y1I8m6+wt5mcbc529dvGeuOOlan26L+5cf+A8n/xNHLLsHMu5yni1Wn8M6GbCLUW0b7XCb+K3SYXBtPLbAKj979/yty43bQ2R1ri9fgurnS2tbLT/ABBHbx2Ny+ltcxXU0jSGVwiqIypiYAIVaU5VGUY4avX/ALdF/cuP/AeT/wCJo+3Rf3Lj/wAB5P8A4mjll2DmXc8qtbO5F9eTeJbLVjpNxq7TXCwQT5kc6faqjssY3sm5ZR0IDgZ6VDd3Or2el6xZWtl4kLX0Fg2liWGaWRUV8Sb5AMIwUZYMQ2CM5Net/bov7lx/4Dyf/E0fbov7lx/4Dyf/ABNHLLsHMu55Zr9rfSLFYz2GpCBn1WaN4oLiRGla8YxjZCVIcqdyu7BQCSPUV/DFjqkV4bq9s9WTVr620KaaaSGcbwrRC4DHG0MCDuU8gbjjGa9b+3Rf3Lj/AMB5P/iaPt0X9y4/8B5P/iaOWXYOZdzxS7tvEQ8Mv/Ztv4gHiP8Asu/GuOyz7JZfKby/KJ+Rm83aY/KzhMjgV6R4a0qTRfGGt2duLz+zDa2csLXEskqvMTMJSHcnLYWItg9wT1ro/t0X9y4/8B5P/iaPt0X9y4/8B5P/AImjll2DmXcsUVX+3Rf3Lj/wHk/+Jo+3Rf3Lj/wHk/8AiaOWXYOZdyxVeyOYG/66yf8AobUn2iWbi2hYDvJKpUD8Dyf0HvU0UYhhWNeQoxk9T70bKzFux9FFFSUFFFFABRRRQAUUUUAFFFFABRRRQAUUUUAFFFFABRRRQAUUUUAFFFFABRRRQAVBY/8AIOtv+uS/yFT1BY/8g62/65L/ACFV0F1J6KKKkYUUUUAFFFFABRRRQAUUUUAFM86MTiHzF80rvCZ+YrnGcemTT6wX/wCSiQ/9gp//AEalaQhzX8kZ1J8lvNpG9RRRWZoFFFFABRRRQAUUUUAFFFFABRRRQAUUUUAFFFFABRRRQAUUUUAFFFFABRRRQAUUUUAFFFFABRRRQAUUUUAFFFFABUFj/wAg62/65L/IVPUFj/yDrb/rkv8AIVXQXUnoooqRhRRRQAUUUUAFFFFABRRRQBQ1iTU4bES6NDDPOjgtDKSPMTuFPZvTPFcqfF2k/wDCUx6nJMyImmvE8LL+8WTzU/d7eu6u5rNbw9pL6yNVaxhN6BxLjv646Z9+tdVGpSimqi+448RSrTadOXbfy6r+vuF0afUrm1efVoIrZpH3QwoSWSPsHP8Ae+laNFFc8nzO9rHVCPLGzdwoooqSgooooAKKKKACiiigAooooAKKKKACiiigAooooAKKKKACiiigAooooAKKKKACiiigAooooAKKKKACiiigAqCx/wCQdbf9cl/kKnqCx/5B1t/1yX+QqugupPRRRUjK5klmmZISEjQ4ZyMlj6D/AB/Cn+U//PxJ+S/4UW/+qP8A10f/ANCNS1TdtCUiLyn/AOfiT8l/wo8p/wDn4k/Jf8KlopXHYi8p/wDn4k/Jf8KPKf8A5+JPyX/CpGYIpZyFUDJJOABUX2u2+yi5+0ReQQCJd42kHpz0ouFhfKf/AJ+JPyX/AAo8p/8An4k/Jf8ACpaaZEEoiLr5hUsEzyQOpx6cj86LhYZ5T/8APxJ+S/4UeU//AD8Sfkv+FPeRIygkdVLttUMcbjjOB6nAP5U6i4WIvKf/AJ+JPyX/AAo8p/8An4k/Jf8ACpaKLhYi8p/+fiT8l/wo8p/+fiT8l/wp7yJHjzHVdxCjccZJ6CnUXCxF5T/8/En5L/hR5T/8/En5L/hUtFFwsReU/wDz8Sfkv+FHlP8A8/En5L/hUtFFwsQPHcKMwz7mH8MqjB/LGPrz9KkhkE0KuBjI5Hoe4p9QWf8AqG/66yf+htT3QtmT0UUVJQUUUUAFFFFABRRRQAUUUUAFFFFABRRRQAUUUUAFFFFABRRRQAUUUUAFFFFABUFj/wAg62/65L/IVPUFj/yDrb/rkv8AIVXQXUnoooqRkVv/AKo/9dH/APQjUtRW/wDqj/10f/0I1LTe4lsFFFFIZm+JP+RV1b/rym/9ANeLSQk/DUeDomf7LYWR1eQc/wCpMSSxJn0+0Stj2tyK97IyMGk2Lz8o5GDx2oA8xuvGOswzTTQaisuorr76eug+VH81uJCofGPMz5YEu7dtwemKx5PEl9HNaa5Zayusan/wi000ke2IC0dp7XecKo2hcscPkjYcnrXsvlp5nmbF3427sc49M0ixRozMkaqzHLELgk+/5UAeTQa3quqeKtGt9RuYrm2t9at2hYXEM0iO1rd7lZoVVMYCEDGeTngiun8S69cWniW9s7jXh4fs7bSo7uCcwxv58rPIHBVwS4QJH8iYY+Z15FdlHDFEgSKNEVTkKqgAGleNJGUuisUOVJGdp9RQB5RN4q8SR6dbXv8Aakjx3uv3tg2Vt7dLeKGSdY1V3QhWby1GXznGANxzRe+ONYTS7WI6k0d60F5MHhltQjpHLsRnmdSrEfdKxocnJ4GAfV2iR42R0Vkb7ykZB/Ck8mPCDy1/d/c+UfL249KAPG9A1y6vdcXUbq8Sa61J9Fma2eOMriSEFnQFcrhiQCDxn1p+o+PdetfCFnqdnrK3GpXek3d1e2RhiP8AZsiQlwdoUMoWQCMiQtnPrXsPlRhgwjXIGAdvQelAhjBciNAZPvkKPm+vrQBz2g3eoR+LdZ0e+v5L+K0trS4ilmjjVwZTKGX5FUY/dAjjPJ5rpKMDJOOT1NFABRRRQAVBZ/6hv+usn/obVPUFn/qG/wCusn/obVXQXUnoooqRhRRRQAUUUUAFFFFABRRRQAUUUUAFFFFABRRRQAUUUUAFFFFABRRRQAUUUUAFUrO6SOxgR0nDLGoIMD8HH0q7RTTVrMTTuQfbIv7s3/fh/wDCpY5FlXcoYDOPmQqfyNOoo06BqV2imikd7fY4kOWR2K4OMZBAPp0xS77v/nhD/wB/j/8AE1PRTv3CxBvu/wDnhD/3+P8A8TRvu/8AnhD/AN/j/wDE1PRRddgs+5Bvu/8AnhD/AN/j/wDE0b7v/nhD/wB/j/8AE1PRRddgs+5Bvu/+eEP/AH+P/wATRvu/+eEP/f4//E1PRRddgs+5Bvu/+eEP/f4//E0b7v8A54Q/9/j/APE1PRRddgs+5Bvu/wDnhD/3+P8A8TRvu/8AnhD/AN/j/wDE1PRRddgs+5Bvu/8AnhD/AN/j/wDE0b7v/nhD/wB/j/8AE1PRRddgs+5Bvu/+eEP/AH+P/wATRvu/+eEP/f4//E1PRRddgs+5Bvu/+eEP/f4//E0b7v8A54Q/9/j/APE1PRRddgs+5XLXh4EUC5/i8wtj8Noz+YqWKMRQrGvIUYye/vT6KTYWCiiikMKKKKACiiigAooooAKKKKAP/9k=)"
      ]
    },
    {
      "cell_type": "code",
      "metadata": {
        "id": "O-KO7Q6HfscW"
      },
      "source": [
        "###lexicon data\n",
        "## unigrams\n",
        "\n",
        "def token_unigrams(Tokens_unique_stem,labels_unique):\n",
        "\n",
        "  token_counter=[]\n",
        "  counts = dict()\n",
        "\n",
        "\n",
        "  for i in range(len(Tokens_unique_stem)):\n",
        "    if labels_unique[i]== 'Bank charges':\n",
        "      for j in Tokens_unique_stem[i]:\n",
        "          counts[j] = counts.get(j, 0) + 1\n",
        "\n",
        "    elif labels_unique[i]== 'Sales':\n",
        "      for j in Tokens_unique_stem[i]:\n",
        "          counts[j] = counts.get(j, 0) + 1\n",
        "    elif labels_unique[i]== 'Supermarket':\n",
        "      for j in Tokens_unique_stem[i]:\n",
        "          counts[j] = counts.get(j, 0) + 1\n",
        "    elif labels_unique[i]== 'e-commerce':\n",
        "      for j in Tokens_unique_stem[i]:\n",
        "          counts[j] = counts.get(j, 0) + 1\n",
        "    elif labels_unique[i]== 'Household charges':\n",
        "      for j in Tokens_unique_stem[i]:\n",
        "          counts[j] = counts.get(j, 0) + 1\n",
        "    elif labels_unique[i]== 'Assurances':\n",
        "      for j in Tokens_unique_stem[i]:\n",
        "          counts[j] = counts.get(j, 0) + 1\n",
        "    elif labels_unique[i]== 'Payables':\n",
        "      for j in Tokens_unique_stem[i]:\n",
        "          counts[j] = counts.get(j, 0) + 1\n",
        "    elif labels_unique[i]== 'Rentals':\n",
        "      for j in Tokens_unique_stem[i]:\n",
        "          counts[j] = counts.get(j, 0) + 1\n",
        "    elif labels_unique[i]== 'Payroll':\n",
        "      for j in Tokens_unique_stem[i]:\n",
        "          counts[j] = counts.get(j, 0) + 1\n",
        "\n",
        "  for key,value in counts.items():\n",
        "      if value>5:\n",
        "        token_counter.append(key)\n",
        "  \n",
        "  return token_counter\n",
        "\n"
      ],
      "execution_count": null,
      "outputs": []
    },
    {
      "cell_type": "code",
      "metadata": {
        "id": "tMvZiiGVfsZh"
      },
      "source": [
        "token_unigram_counter = token_unigrams(Tokens_unique_stem,labels_unique)"
      ],
      "execution_count": null,
      "outputs": []
    },
    {
      "cell_type": "markdown",
      "metadata": {
        "id": "_N7QuF8Jzms8"
      },
      "source": [
        "Stage 2 follows the below figure\n",
        "\n",
        "![lexicon.JPG](data:image/jpeg;base64,/9j/4AAQSkZJRgABAQEAYABgAAD/4REGRXhpZgAATU0AKgAAAAgABAE7AAIAAAAUAAAISodpAAQAAAABAAAIXpydAAEAAAAoAAAQ1uocAAcAAAgMAAAAPgAAAAAc6gAAAAgAAAAAAAAAAAAAAAAAAAAAAAAAAAAAAAAAAAAAAAAAAAAAAAAAAAAAAAAAAAAAAAAAAAAAAAAAAAAAAAAAAAAAAAAAAAAAAAAAAAAAAAAAAAAAAAAAAAAAAAAAAAAAAAAAAAAAAAAAAAAAAAAAAAAAAAAAAAAAAAAAAAAAAAAAAAAAAAAAAAAAAAAAAAAAAAAAAAAAAAAAAAAAAAAAAAAAAAAAAAAAAAAAAAAAAAAAAAAAAAAAAAAAAAAAAAAAAAAAAAAAAAAAAAAAAAAAAAAAAAAAAAAAAAAAAAAAAAAAAAAAAAAAAAAAAAAAAAAAAAAAAAAAAAAAAAAAAAAAAAAAAAAAAAAAAAAAAAAAAAAAAAAAAAAAAAAAAAAAAAAAAAAAAAAAAAAAAAAAAAAAAAAAAAAAAAAAAAAAAAAAAAAAAAAAAAAAAAAAAAAAAAAAAAAAAAAAAAAAAAAAAAAAAAAAAAAAAAAAAAAAAAAAAAAAAAAAAAAAAAAAAAAAAAAAAAAAAAAAAAAAAAAAAAAAAAAAAAAAAAAAAAAAAAAAAAAAAAAAAAAAAAAAAAAAAAAAAAAAAAAAAAAAAAAAAAAAAAAAAAAAAAAAAAAAAAAAAAAAAAAAAAAAAAAAAAAAAAAAAAAAAAAAAAAAAAAAAAAAAAAAAAAAAAAAAAAAAAAAAAAAAAAAAAAAAAAAAAAAAAAAAAAAAAAAAAAAAAAAAAAAAAAAAAAAAAAAAAAAAAAAAAAAAAAAAAAAAAAAAAAAAAAAAAAAAAAAAAAAAAAAAAAAAAAAAAAAAAAAAAAAAAAAAAAAAAAAAAAAAAAAAAAAAAAAAAAAAAAAAAAAAAAAAAAAAAAAAAAAAAAAAAAAAAAAAAAAAAAAAAAAAAAAAAAAAAAAAAAAAAAAAAAAAAAAAAAAAAAAAAAAAAAAAAAAAAAAAAAAAAAAAAAAAAAAAAAAAAAAAAAAAAAAAAAAAAAAAAAAAAAAAAAAAAAAAAAAAAAAAAAAAAAAAAAAAAAAAAAAAAAAAAAAAAAAAAAAAAAAAAAAAAAAAAAAAAAAAAAAAAAAAAAAAAAAAAAAAAAAAAAAAAAAAAAAAAAAAAAAAAAAAAAAAAAAAAAAAAAAAAAAAAAAAAAAAAAAAAAAAAAAAAAAAAAAAAAAAAAAAAAAAAAAAAAAAAAAAAAAAAAAAAAAAAAAAAAAAAAAAAAAAAAAAAAAAAAAAAAAAAAAAAAAAAAAAAAAAAAAAAAAAAAAAAAAAAAAAAAAAAAAAAAAAAAAAAAAAAAAAAAAAAAAAAAAAAAAAAAAAAAAAAAAAAAAAAAAAAAAAAAAAAAAAAAAAAAAAAAAAAAAAAAAAAAAAAAAAAAAAAAAAAAAAAAAAAAAAAAAAAAAAAAAAAAAAAAAAAAAAAAAAAAAAAAAAAAAAAAAAAAAAAAAAAAAAAAAAAAAAAAAAAAAAAAAAAAAAAAAAAAAAAAAAAAAAAAAAAAAAAAAAAAAAAAAAAAAAAAAAAAAAAAAAAAAAAAAAAAAAAAAAAAAAAAAAAAAAAAAAAAAAAAAAAAAAAAAAAAAAAAAAAAAAAAAAAAAAAAAAAAAAAAAAAAAAAAAAAAAAAAAAAAAAAAAAAAAAAAAAAAAAAAAAAAAAAAAAAAAAAAAAAAAAAAAAAAAAAAAAAAAAAAAAAAAAAAAAAAAAAAAAAAAAAAAAAAAAAAAAAAAAAAAAAAAAAAAAAAAAAAAAAAAAAAAAAAAAAAAAAAAAAAAAAAAAAAAAAAAAAAAAAAAAAAAAAAAAAAAAAAAAAAAAAAAAAAAAAAAAAAAAAAAAAAAAAAAAAAAAAAAAAAAAAAAAAAAAAAAAAAAAAAAAAAAAAAAAAAAAAAAAAAAAAAAAAAAAAAAAAAAAAAAAAAAAAAAAAAAAAAAAAAAAAAAAAAAAAAAAAAAAAAAAAAAAAAAAAAAAAAAAAAAAAAAAAAAAAAAAAAAAAAAAAAAAAAAAAAAAAAAAAAAAAAAAAAAAAAAAAAAAAAAAAAAAAAAAAAAAAAAAAAAAAAAAAAAAAAAAAAAAAAAAAAAAAAAAAAAAAAAAAAAAAAAAAAAAAAAAAAAAAAAAAAAAAAAAAAAAAAAAAAAAAAAAAAAAAAAAAAAAAAAAAAAAAAAAAAAAAAAAAAAAAAAAAAAAAAAAAAAAAAAAAAAAAAAAAAAAAAAAAAAAAAAAAAAAAAAAAAAAAAAAAAAAAAAAAAAAAAAAAAAAAAAAAAAAAAAAAAAAAAAAAAAAAAAAAAAAAAAAAAAAAAAAAAAAAAAAAAAAAAAAAAAAAAAAAAAAAAAAAAAAAAAAAAAAAAAAAAAAAAAAAAAAAAAAAAAAAAAAAAAAAAAAAAAAAAAAAAAAAAAAAAAAAAAAAAAAAAAAAAAAAAAAAAAAAAAAAAAAAAAAAAAAAAAAAAAAAAAAAAAAAAAAAAAAAAAAAAAAAAAAAAAAAAAAAAAAAAAAAAAAAAAAAAAAAAAAAAAAAAAAAAAAAAAAAAAAAAAAAAAAAAAAAAAAAAAAAAAAAAAAAAAAAAAAAAAAAAAAAAAAAAAAAAAAAAAAAAAAAAAAAAAAAAAAAAAAAAAAAAAAAAAAAAAAAAAAAAAAAAAAAAAAAAAAAAAAAAAAAAAAAAAAAAAAAAAAAAAAAAAAAAAAAAAAAAAAAAAAAAAAAAAAAAAAAAAAAAAAAAAAAAAAAAAAAAAAAAAAAAAAAAAAAAAAAAAAAAAAAAAAAAAAAAAAAAAAHlhc3dhbnRoIGdvdGhpcmVkZHkAAAWQAwACAAAAFAAAEKyQBAACAAAAFAAAEMCSkQACAAAAAzM4AACSkgACAAAAAzM4AADqHAAHAAAIDAAACKAAAAAAHOoAAAAIAAAAAAAAAAAAAAAAAAAAAAAAAAAAAAAAAAAAAAAAAAAAAAAAAAAAAAAAAAAAAAAAAAAAAAAAAAAAAAAAAAAAAAAAAAAAAAAAAAAAAAAAAAAAAAAAAAAAAAAAAAAAAAAAAAAAAAAAAAAAAAAAAAAAAAAAAAAAAAAAAAAAAAAAAAAAAAAAAAAAAAAAAAAAAAAAAAAAAAAAAAAAAAAAAAAAAAAAAAAAAAAAAAAAAAAAAAAAAAAAAAAAAAAAAAAAAAAAAAAAAAAAAAAAAAAAAAAAAAAAAAAAAAAAAAAAAAAAAAAAAAAAAAAAAAAAAAAAAAAAAAAAAAAAAAAAAAAAAAAAAAAAAAAAAAAAAAAAAAAAAAAAAAAAAAAAAAAAAAAAAAAAAAAAAAAAAAAAAAAAAAAAAAAAAAAAAAAAAAAAAAAAAAAAAAAAAAAAAAAAAAAAAAAAAAAAAAAAAAAAAAAAAAAAAAAAAAAAAAAAAAAAAAAAAAAAAAAAAAAAAAAAAAAAAAAAAAAAAAAAAAAAAAAAAAAAAAAAAAAAAAAAAAAAAAAAAAAAAAAAAAAAAAAAAAAAAAAAAAAAAAAAAAAAAAAAAAAAAAAAAAAAAAAAAAAAAAAAAAAAAAAAAAAAAAAAAAAAAAAAAAAAAAAAAAAAAAAAAAAAAAAAAAAAAAAAAAAAAAAAAAAAAAAAAAAAAAAAAAAAAAAAAAAAAAAAAAAAAAAAAAAAAAAAAAAAAAAAAAAAAAAAAAAAAAAAAAAAAAAAAAAAAAAAAAAAAAAAAAAAAAAAAAAAAAAAAAAAAAAAAAAAAAAAAAAAAAAAAAAAAAAAAAAAAAAAAAAAAAAAAAAAAAAAAAAAAAAAAAAAAAAAAAAAAAAAAAAAAAAAAAAAAAAAAAAAAAAAAAAAAAAAAAAAAAAAAAAAAAAAAAAAAAAAAAAAAAAAAAAAAAAAAAAAAAAAAAAAAAAAAAAAAAAAAAAAAAAAAAAAAAAAAAAAAAAAAAAAAAAAAAAAAAAAAAAAAAAAAAAAAAAAAAAAAAAAAAAAAAAAAAAAAAAAAAAAAAAAAAAAAAAAAAAAAAAAAAAAAAAAAAAAAAAAAAAAAAAAAAAAAAAAAAAAAAAAAAAAAAAAAAAAAAAAAAAAAAAAAAAAAAAAAAAAAAAAAAAAAAAAAAAAAAAAAAAAAAAAAAAAAAAAAAAAAAAAAAAAAAAAAAAAAAAAAAAAAAAAAAAAAAAAAAAAAAAAAAAAAAAAAAAAAAAAAAAAAAAAAAAAAAAAAAAAAAAAAAAAAAAAAAAAAAAAAAAAAAAAAAAAAAAAAAAAAAAAAAAAAAAAAAAAAAAAAAAAAAAAAAAAAAAAAAAAAAAAAAAAAAAAAAAAAAAAAAAAAAAAAAAAAAAAAAAAAAAAAAAAAAAAAAAAAAAAAAAAAAAAAAAAAAAAAAAAAAAAAAAAAAAAAAAAAAAAAAAAAAAAAAAAAAAAAAAAAAAAAAAAAAAAAAAAAAAAAAAAAAAAAAAAAAAAAAAAAAAAAAAAAAAAAAAAAAAAAAAAAAAAAAAAAAAAAAAAAAAAAAAAAAAAAAAAAAAAAAAAAAAAAAAAAAAAAAAAAAAAAAAAAAAAAAAAAAAAAAAAAAAAAAAAAAAAAAAAAAAAAAAAAAAAAAAAAAAAAAAAAAAAAAAAAAAAAAAAAAAAAAAAAAAAAAAAAAAAAAAAAAAAAAAAAAAAAAAAAAAAAAAAAAAAAAAAAAAAAAAAAAAAAAAAAAAAAAAAAAAAAAAAAAAAAAAAAAAAAAAAAAAAAAAAAAAAAAAAAAAAAAAAAAAAAAAAAAAAAAAAAAAAAAAAAAAAAAAAAAAAAAAAAAAAAAAAAAAAAAAAAAAAAAAAAAAAAAAAAAAAAAAAAAAAAAAAAAAAAAAAAAAAAAAAAAAAAAAAAAAAAAAAAAAAAAAAAAAAAAAAAAAAAAAAAAAAAAAAAAAAAAAAAAAAAAAAAAAAAAAAAAAAAAAAAAAAAAAAAAAAAAAAAAAAAAAAAAAAAAAAAAAAAAAAAAAAAAAAAAAAAAAAAAAAAAAAAAAAAAAAAAAAAAAAAAAAAAAAAAAAAAAAAAAAAAAAAAAAAAAAAAAAAAAAAAAAAAAAAAAAAAAAAAAAAAAAAAAAAAAAAAAAAAAAAAAAAAAAAAAAAAAAAAAAAAAAAAAAAAAAAAAAAAAAAAAAAAAAAAAAAAAAAAAAAAAAAAAAAAAAAAAAAAAAAAAAAAAAAAAAAAAAAAAAAAAAAAAAAAAAAAAAAAAAAAAAAAAAAAAAAAAAAAAAAAAAAAAAAAAAAAAAAAAAAAAAAAAAAAAAAAAAAAAAAAAAAAAAAAAAAAAAAAAAAAAAAAAAAAAAAAAAAAAAAAAAAAAAAAAAAAAAAAAAAAAAAAAAAAAAAAAAAAAAAAAAAAAAAAAAAAAAAAAAAAAAAAAAAAAAAAAAAAAAAAAAAAAAAAAAAAAAAAAAAAAAAAAAAAAAAAAAAAAAAAAAAAAAAAAAAAAAAAAAAAAAAAAAAAAAAAAAAAAAAAAAAAAAAAAAAAAAAAAAAAAAAAAAAAAAAAAAAAAAAAAAAAAAAAAAAAAAAAAAAAAAAAAAAAAAAAAAAAAAAAAAAAAAAAAAAAAAAAAAAAAAAAAAAAAAAAAAAAAAAAAAAAAAAAAAAAAAAAAAAAAAAAAAAAAAAAAAAAAAAAAAAAAAAAAAAAAAAAAAAAAAAAAAAAAAAAAAAAAAAAAAAAAAAAAAAAAAAAAyMDIxOjAxOjE3IDE3OjMxOjEzADIwMjE6MDE6MTcgMTc6MzE6MTMAAAB5AGEAcwB3AGEAbgB0AGgAIABnAG8AdABoAGkAcgBlAGQAZAB5AAAA/+ELJmh0dHA6Ly9ucy5hZG9iZS5jb20veGFwLzEuMC8APD94cGFja2V0IGJlZ2luPSfvu78nIGlkPSdXNU0wTXBDZWhpSHpyZVN6TlRjemtjOWQnPz4NCjx4OnhtcG1ldGEgeG1sbnM6eD0iYWRvYmU6bnM6bWV0YS8iPjxyZGY6UkRGIHhtbG5zOnJkZj0iaHR0cDovL3d3dy53My5vcmcvMTk5OS8wMi8yMi1yZGYtc3ludGF4LW5zIyI+PHJkZjpEZXNjcmlwdGlvbiByZGY6YWJvdXQ9InV1aWQ6ZmFmNWJkZDUtYmEzZC0xMWRhLWFkMzEtZDMzZDc1MTgyZjFiIiB4bWxuczpkYz0iaHR0cDovL3B1cmwub3JnL2RjL2VsZW1lbnRzLzEuMS8iLz48cmRmOkRlc2NyaXB0aW9uIHJkZjphYm91dD0idXVpZDpmYWY1YmRkNS1iYTNkLTExZGEtYWQzMS1kMzNkNzUxODJmMWIiIHhtbG5zOnhtcD0iaHR0cDovL25zLmFkb2JlLmNvbS94YXAvMS4wLyI+PHhtcDpDcmVhdGVEYXRlPjIwMjEtMDEtMTdUMTc6MzE6MTMuMzc5PC94bXA6Q3JlYXRlRGF0ZT48L3JkZjpEZXNjcmlwdGlvbj48cmRmOkRlc2NyaXB0aW9uIHJkZjphYm91dD0idXVpZDpmYWY1YmRkNS1iYTNkLTExZGEtYWQzMS1kMzNkNzUxODJmMWIiIHhtbG5zOmRjPSJodHRwOi8vcHVybC5vcmcvZGMvZWxlbWVudHMvMS4xLyI+PGRjOmNyZWF0b3I+PHJkZjpTZXEgeG1sbnM6cmRmPSJodHRwOi8vd3d3LnczLm9yZy8xOTk5LzAyLzIyLXJkZi1zeW50YXgtbnMjIj48cmRmOmxpPnlhc3dhbnRoIGdvdGhpcmVkZHk8L3JkZjpsaT48L3JkZjpTZXE+DQoJCQk8L2RjOmNyZWF0b3I+PC9yZGY6RGVzY3JpcHRpb24+PC9yZGY6UkRGPjwveDp4bXBtZXRhPg0KICAgICAgICAgICAgICAgICAgICAgICAgICAgICAgICAgICAgICAgICAgICAgICAgICAgICAgICAgICAgICAgICAgICAgICAgICAgICAgICAgICAgICAgICAgICAgICAgICAgIAogICAgICAgICAgICAgICAgICAgICAgICAgICAgICAgICAgICAgICAgICAgICAgICAgICAgICAgICAgICAgICAgICAgICAgICAgICAgICAgICAgICAgICAgICAgICAgICAgICAgCiAgICAgICAgICAgICAgICAgICAgICAgICAgICAgICAgICAgICAgICAgICAgICAgICAgICAgICAgICAgICAgICAgICAgICAgICAgICAgICAgICAgICAgICAgICAgICAgICAgICAKICAgICAgICAgICAgICAgICAgICAgICAgICAgICAgICAgICAgICAgICAgICAgICAgICAgICAgICAgICAgICAgICAgICAgICAgICAgICAgICAgICAgICAgICAgICAgICAgICAgIAogICAgICAgICAgICAgICAgICAgICAgICAgICAgICAgICAgICAgICAgICAgICAgICAgICAgICAgICAgICAgICAgICAgICAgICAgICAgICAgICAgICAgICAgICAgICAgICAgICAgCiAgICAgICAgICAgICAgICAgICAgICAgICAgICAgICAgICAgICAgICAgICAgICAgICAgICAgICAgICAgICAgICAgICAgICAgICAgICAgICAgICAgICAgICAgICAgICAgICAgICAKICAgICAgICAgICAgICAgICAgICAgICAgICAgICAgICAgICAgICAgICAgICAgICAgICAgICAgICAgICAgICAgICAgICAgICAgICAgICAgICAgICAgICAgICAgICAgICAgICAgIAogICAgICAgICAgICAgICAgICAgICAgICAgICAgICAgICAgICAgICAgICAgICAgICAgICAgICAgICAgICAgICAgICAgICAgICAgICAgICAgICAgICAgICAgICAgICAgICAgICAgCiAgICAgICAgICAgICAgICAgICAgICAgICAgICAgICAgICAgICAgICAgICAgICAgICAgICAgICAgICAgICAgICAgICAgICAgICAgICAgICAgICAgICAgICAgICAgICAgICAgICAKICAgICAgICAgICAgICAgICAgICAgICAgICAgICAgICAgICAgICAgICAgICAgICAgICAgICAgICAgICAgICAgICAgICAgICAgICAgICAgICAgICAgICAgICAgICAgICAgICAgIAogICAgICAgICAgICAgICAgICAgICAgICAgICAgICAgICAgICAgICAgICAgICAgICAgICAgICAgICAgICAgICAgICAgICAgICAgICAgICAgICAgICAgICAgICAgICAgICAgICAgCiAgICAgICAgICAgICAgICAgICAgICAgICAgICAgICAgICAgICAgICAgICAgICAgICAgICAgICAgICAgICAgICAgICAgICAgICAgICAgICAgICAgICAgICAgICAgICAgICAgICAKICAgICAgICAgICAgICAgICAgICAgICAgICAgICAgICAgICAgICAgICAgICAgICAgICAgICAgICAgICAgICAgICAgICAgICAgICAgICAgICAgICAgICAgICAgICAgICAgICAgIAogICAgICAgICAgICAgICAgICAgICAgICAgICAgICAgICAgICAgICAgICAgICAgICAgICAgICAgICAgICAgICAgICAgICAgICAgICAgICAgICAgICAgICAgICAgICAgICAgICAgCiAgICAgICAgICAgICAgICAgICAgICAgICAgICAgICAgICAgICAgICAgICAgICAgICAgICAgICAgICAgICAgICAgICAgICAgICAgICAgICAgICAgICAgICAgICAgICAgICAgICAKICAgICAgICAgICAgICAgICAgICAgICAgICAgICAgICAgICAgICAgICAgICAgICAgICAgICAgICAgICAgICAgICAgICAgICAgICAgICAgICAgICAgICAgICAgICAgICAgICAgIAogICAgICAgICAgICAgICAgICAgICAgICAgICAgICAgICAgICAgICAgICAgICAgICAgICAgICAgICAgICAgICAgICAgICAgICAgICAgICAgICAgICAgICAgICAgICAgICAgICAgCiAgICAgICAgICAgICAgICAgICAgICAgICAgICAgICAgICAgICAgICAgICAgICAgICAgICAgICAgICAgICAgICAgICAgICAgICAgICAgICAgICAgICAgICAgICAgICAgICAgICAKICAgICAgICAgICAgICAgICAgICAgICAgICAgICAgICAgICAgICAgICAgICAgICAgICAgICAgICAgICAgICAgICAgICAgICAgICAgICAgICAgICAgICAgICAgICAgICAgICAgIAogICAgICAgICAgICAgICAgICAgICAgICAgICAgICAgICAgICAgICAgICAgICAgICAgICAgICAgICAgICAgICAgICAgICAgICAgICAgICAgICAgICAgICAgICAgICAgICAgICAgCiAgICAgICAgICAgICAgICAgICAgICAgICAgICA8P3hwYWNrZXQgZW5kPSd3Jz8+/9sAQwAHBQUGBQQHBgUGCAcHCAoRCwoJCQoVDxAMERgVGhkYFRgXGx4nIRsdJR0XGCIuIiUoKSssKxogLzMvKjInKisq/9sAQwEHCAgKCQoUCwsUKhwYHCoqKioqKioqKioqKioqKioqKioqKioqKioqKioqKioqKioqKioqKioqKioqKioqKioq/8AAEQgBbwHiAwEiAAIRAQMRAf/EAB8AAAEFAQEBAQEBAAAAAAAAAAABAgMEBQYHCAkKC//EALUQAAIBAwMCBAMFBQQEAAABfQECAwAEEQUSITFBBhNRYQcicRQygZGhCCNCscEVUtHwJDNicoIJChYXGBkaJSYnKCkqNDU2Nzg5OkNERUZHSElKU1RVVldYWVpjZGVmZ2hpanN0dXZ3eHl6g4SFhoeIiYqSk5SVlpeYmZqio6Slpqeoqaqys7S1tre4ubrCw8TFxsfIycrS09TV1tfY2drh4uPk5ebn6Onq8fLz9PX29/j5+v/EAB8BAAMBAQEBAQEBAQEAAAAAAAABAgMEBQYHCAkKC//EALURAAIBAgQEAwQHBQQEAAECdwABAgMRBAUhMQYSQVEHYXETIjKBCBRCkaGxwQkjM1LwFWJy0QoWJDThJfEXGBkaJicoKSo1Njc4OTpDREVGR0hJSlNUVVZXWFlaY2RlZmdoaWpzdHV2d3h5eoKDhIWGh4iJipKTlJWWl5iZmqKjpKWmp6ipqrKztLW2t7i5usLDxMXGx8jJytLT1NXW19jZ2uLj5OXm5+jp6vLz9PX29/j5+v/aAAwDAQACEQMRAD8A+kaKKKACiiigAooooAKKKKACiiigAooooAKKKKACiiigAooooAKKKKACiiigAooooAKKKKACiiigAooooAKKKKACiiigAooooAKKKKACiiigAooooAKKKKACiiigAooooAKKKKACiiigAooooAKKKKACiiigAooooAKKKKACiiigAooooAKKxtS8Qi31ZNI0u2/tDVGi85oBIESCPOA8r4O0E8AAEnBwCASM6ay8e3UzPHrehabET8sK6ZLcso93MyZ/75FAHVUVyX9j+Pf+hw0f/wAJ9/8A5Jo/sfx7/wBDho//AIT7/wDyTQB1tFcl/Y/j3/ocNH/8J9//AJJo/sfx7/0OGj/+E+//AMk0AdbRXJf2P49/6HDR/wDwn3/+SaP7H8e/9Dho/wD4T7//ACTQB1tFcl/Y/j3/AKHDR/8Awn3/APkmj+x/Hv8A0OGj/wDhPv8A/JNAHW0VyX9j+Pf+hw0f/wAJ9/8A5Jo/sfx7/wBDho//AIT7/wDyTQB1tFcl/Y/j3/ocNH/8J9//AJJo/sfx7/0OGj/+E+//AMk0AdbRXJf2P49/6HDR/wDwn3/+SaP7H8e/9Dho/wD4T7//ACTQB1tFcl/Y/j3/AKHDR/8Awn3/APkmk/srx/HyvivQ5T/dfQpFB/EXNAHXUVzU/iS/0GOFvFljDFbO6xNqFjI0kMbMcAyKwDRqTxn5gO5FdLQAUUUUAFFFFABRRRQAUVzPim91tdX0bTPD99a2El80xknubQ3AARA2AodOueuag/sfx7/0OGj/APhPv/8AJNAHW0VyX9j+Pf8AocNH/wDCff8A+SaP7H8e/wDQ4aP/AOE+/wD8k0AdbRXJf2P49/6HDR//AAn3/wDkmj+x/Hv/AEOGj/8AhPv/APJNAHW0VyX9j+Pf+hw0f/wn3/8Akmj+x/Hv/Q4aP/4T7/8AyTQB1tFcl/Y/j3/ocNH/APCff/5Jo/sfx7/0OGj/APhPv/8AJNAHW0VyX9j+Pf8AocNH/wDCff8A+SaP7H8e/wDQ4aP/AOE+/wD8k0AdbRXM+Fr3W21fWdM8QX1rfyWLQmOe2tDbgh0LYKl36Y65rpqACiiigAooooAKKKKACijp1rl59bvvEck1l4RdYYIpfLuNYkj3Rrj7ywA8SP23fcU/3iCtAE+seIbj+0H0Tw1DHeavtBlaT/U2CsCVeYgg89kHzN7DLCtba1qXhudLPxlPHcW0rYg1qKLyo9xIAjmUZEbZOA2drdOCQDuaRo9loWnJZabD5USncxJLPIx6u7HlmPUseTVq4t4bu3kt7qGOaGRSrxyKGVweoIPBFAElFcmi6h4KVxtl1Lw7GAYwgL3Onr3XHWWIdsfOoGMMOR09rdW97ax3NnPHcQSqGjlicMrg9wRwRQBLRRRQAUUUUAFFFFABRRRQAUUUUAcx4BtJR4dbV71vMvdbmbUJXPXY/wDqk+ixCNcexrp6xPBX/Ig+H/8AsGW3/opa5WS4vNUHie7km1m8u7HUGs4LHSrtbdrONUUq+1nRHJDeYS5YYIAGBigD0WivM7f4j6vf21tLoGj3WowjTrS7YzQosk/nZ6sJFWM4U9FcFsjjHPS+CtT1LU7LV5dUuI5zBq93bQ7ItmxI5WQDqc9P/wBdAHT0V5/H401xdF0u9mXTZX1bSVv4UjidRCxkt1KklzvGLjqNv3e+eGSeOPEQ1/UdPtNIW9XSry3tJ5I4dizb0jd3DNL+7wJOF2vnb154APQ6K881rxzrWk+HLrWwmnzQrNqcEVuInDK1qlyyMz78EH7NgqFH3uDxy+68Za5bjVU/4lqyaToserzNJC4WcP5pEa/P8oURYLndktnaMYoA9Aorhx401CTS9Q1oJZW9lYuYzZXAZZ5SIFlwr7sbiWAC7Tkc554p2/jPxdPp8ksXh9ZpHtYp4HZUhVmaRQyKDMfMOxiyncm4rjjIoA9Eorz+TxvrMkETWFtFcLDJNHqTrZOZbN1VGUPbGQPjD5LKz/w4B3cS23jbWNR12SPTdKafTob+G1aUQjayOsZaXzDIMYEm4L5ZyAOfm4AO7orz/Tdf1bVtf8I3lzdQR2uppdyi0tg67QEG1XJYhyM88DB7VDqPjHXNL8Ra9bxCO8RNVtLC0hWDJiEluspb767z1GMrkkc9qAPRqK8+vPHeuaXoqX2paQkTm6ltPJcbHcBN63GA7bI1AbzASSACwPGD0fh651O41fxBFqN1BPFa3yQwLFAY9im3hk6ljnlz+OfUAAG9RXmfgXWtfu7OGwN9DJd3Mmo3b3d5FLKu2O7MKxqvmjAHXg4A2jBJLVteB/FupeLby+lnitbayto7UrEiM0jNNawz8vuxhTIR93njpjkA664t4ru1lt7mNZYZkMciMMhlIwQfwrC8EQtZeGE0ySWSU6ZPNZI8jZYxxyMsWT3Pl7Mn1roaxPDn/HxrY7DU3x/37joA26KKKACiiigAooqC7vrSwSN766htllkWJGmkCBnY4VQT1JPAHegDC1v/AJHvwv8A9vf/AKKFdJXN63/yPfhf/t7/APRQrpKACiuctfiH4OvtQisbPxPpU93NIIo4I7tC7uTgKBnk5ro6ACikDqZCgYF1AJXPIBzg4/A/lWVqfirQNFv4bHV9ZsbK6nAMcNxcKjMCcA4J6E8fWgDWoqKG6guJbiOGRXe2kEUyj+Biqvg/8BdT+NS0AFFFRWt1De2sdxbNvikGVbBGR9DzQBLRRRQBzeif8j34o/7dP/RRrpK5vRP+R78Uf9un/oo10lABRRRQAUUVDbXlteCU2lxFP5MjRSeW4bY6nDKcdCO4oAmqOeeG1t3nuZUhhjUs8kjBVUDqSTwBVTWNastDsxcahKVDuI4YkUtJPIeiIo5ZjjoPfsKx4tGvfEksF74qjWGzUCSHRVbcqtkFWnYcSMMDCY2Kf75AYAEQW88bnMnm2Phs8qqkpNqS4I5IOY4Txx95x12rw3UW9vDaW0VvawxwQQoEjijUKqKBgAAcAAdq5bTNSuR4o8aRXl04gs3ge3WRvlijNspJHoCwc/UGue0DxX4hT4f2948lvM+n+GbTVbh7uN3luWdZSy7gw2kiHhsHlulAHp1Fee6L4v1G+vL2ztVtLUW0+pSyS3bSSK6QXRiCgl/kz1J5C8ALjgOsPHeqXmm3l9Kllbw22nWU6r5MkjSTXMYKqAGzgMQAMEncBkYyQD0CuavNIv8AQ7yTUvCyCWOVy95pLPtjmJbLSRE8JJyTjhXPXBO6sTRvG+tavcNp5tbezvI9aOmvJcQnhfsbXG4xrKcNkBcbzxzweBP4b8Y6vqOraFb6nFZeXrFndzYt43UwvbyRoeSx3BvMJxgYxjJ60AdZpGr2mt6cl5Ys+xiVaOVCkkTjqjqeVYHqDV2sHUvD0v8Aav8AbOgXC2OpNgXAZcw3qgYCygc5HZx8w9xlTLofiOLVppbK6gfT9Wtl3XFhMwLquSA6kcPGSDhh9CAcgAGzRRRQAUUUUAFFFFABRRRQBieCv+RA8P8A/YMtv/RS1ZvvDmianc/aNS0ixu58BTJPbI7EDoCSOR7VW8Ff8iB4f/7Blt/6KWtugChPoWk3U8E1zplnLLbqFhd4FJjAOQAccAHkDsamt9Ps7OS4ks7WG3e5cyTvFGFMjf3mI6n3NWaoa5pp1nw7qOmLM1ub21ltxMvWPehXcPpnNAHL+HG8B6Z4a/0K80W4isLeC2u7tFjy+MBC2P7zDI65PTJq1LrHgm/8S6YrjTru/v7Z7y1uvLRwY4SPm3+oySPTa3TFUrnw94purC0t1TSLNbdbaKU200gmnjjD7gJvLzGMlCuFJGG+YbuMuP4da40C28s9mqNp2r2Dy/apZHUXkwlR8smWK4KnJyeue1AGrpP/AAgI0jUNQ+1aLqEJmnN3dvHG3y3UrNsY85DCQIP7wx9Kv6lqngS6sba/1WfRbi3yYLeWYRuDgbii+oAwcDgdawrrw7d6Jb/23dRM1xbzWmVfUbi9DojtkH91lVXzCQQpxyTgUzwZpesNIfENrYWoMl9qRW2uGktgY55YmWRcxlusPdV3Bt3HQgHR3Go+CB4gt3uZtGbVbhI3gdhGZXV1IRgepBAIB9OKnXSfC0FtqVraaVpjC3VTd20dvHxgb0Vhjj+8B2zkVy1n4Ik8PaTrkurXKSW9xoVtYq9sjySxyR+cWKqFzgGVNgGT8vQYFdF4V0i+j8Izy6tBHb61rG+6vlDZCSuu0Ln/AGUCJ/wGgCLQIPCniTQtLmj0XTkN1Yx6glo8CM0KTKDk8dyME/xbT1xUL674Ihki1XWG0SyvA8gjlkeJnAido9wbHbYR/s4I7Gm/DjwbqHgjSY9OuriC7ia0t/MlDEyJOkao6A7Rui+UbScFRxjGMUdF+H+o6fBeJcy2Tmex1C2UqzHBuLuSZc5XptdQfcHr1oA6WWz8K+Hl/tmS00vT8tkXghjQlpD2YDOWJ7dc1S1HUvArmO51SfRHOqxqyyTCMm5RSArEnqASoBPQ4p2p+Gp7zwhpWltFDPPZeSS4u5Ldo3RMb45UUsGz7YIJB61hXfgTWb2V5b6dbs3Gn/Yp0TUpbYECWZhu8uPEuUmAY4XJUnHzcAHQ6NP4Vvr/AFOx0qzsxNojtaXIW3UeX5iq7qDj7rd/Uqc9KteGrrQdXsBrXh2K38u7VVaaKIKzBRtAbHoAB7ACq3hjQLvQtX8QSTNE9rqF7Hc27LIzSAC3iiKuCOuYs5BOc9qt+FNOu9H8L2Om6gIfOtIxDuhkLq4HAblRjPp29TQBNP4c0S5to7e40ewkgjZ2SJrZCqlzucgYwNxJJ9c81btrC0s3leztYIHmKmVoowpkKqFUtjrhVVRnoAB2qeigArhLODxhJrGutoGo6Jb2f9othL2wmmk3eXHn5lmQY/Cu7rE8N8z62ex1OTH/AHwg/pQBm/ZPiL/0GfC//gouP/kmj7J8Rf8AoM+F/wDwUXH/AMk11tFAHJfZPiL/ANBnwv8A+Ci4/wDkmj7J8Rf+gz4X/wDBRcf/ACTXW0UAcl9k+Iv/AEGfC/8A4KLj/wCSa8/+NHh/4ha38PWsZH0vVvMu4dttpWmTpMTk87mmcBR3yPxFe20UAeFfDDwl468LeIPDUfjbWBPbyLcm3095POktT5QyDJ+XygkDt3r3Wub1v/ke/C//AG9/+ihXSUAea+KrLXV8QeM7rQ7e8WabQbOK2nhjYF2WW43rGwxlwrZwDkEr6is+DT/FFtpt1/wjl3cSXTXcB0+J7a5jggcI4maQ3BLMjJ26BwpHzGvWqKAOE8I6db2/ihbw2usRPPo1qqNqJmZ96vP5okJ+TeMpn1zleDUVo0eh3/i+DXNDvb9tRvTcQiKya5W/hMKKseQCowVZdrkAdehzXoFFAHlXiGx1p9TYW9rc2emTav5lwgimKbRp8CoGEBDFA6svykruUZ6VmazB4nGhW1ov9qXV5Yaa89rerBdqZnMrlIwisCJERI8tKWLA/dOWz7RRQB5f9g1d9UuNZhTWDP8A8JTbrbhjMqixZYhJ+6PGzDSZJHBHbbxlrpXiKXwPLeSrrg1Wx0K0ktIw86sboTTlsoPvvgR5BB4I4wa9kooA8jZtQtvFGlS6i2rQ6nc+KpopSzSrbyWmJjCoz+7I2LGQF5zuz/FXrlZa+GdHXW/7XFhH9u3FxISSFcjaXC52hiOCwGSOM1qUAcCYfE8vxC8Rnw3faTbRBbXzRf2Us7FvLOMFJUwPqDWj9k+Iv/QZ8L/+Ci4/+Sas6J/yPfij/t0/9FGukoA5L7J8Rf8AoM+F/wDwUXH/AMk0fZPiL/0GfC//AIKLj/5JrraKAOS+yfEX/oM+F/8AwUXH/wAk14XpPw6+Kt38Xtb1fSLz+w1N/K8upFWit7g7j92FixdTzgHI96+oaKAOF8GRyPrUp8YyNL4vhjYESLthEAbG+1XJGw5G5vv5IDY+UDuqzta0Kz160SG8DpJE4kt7mFts1u46Ojfwnt6EZBBBIrKtdevdEuLfTfGBTdO5jttVhTbBOf4VkH/LKQjsflY/dOTtABrah4f0fVp1m1TSrK8lRdqvcW6uwXrjJHTJzisDxVr40K8W3fwddarBqIjsfPha1CTFt22FhJIrEct1G35j6muvrF8SaPcawNK+zPGv2PUobuTzCRlEzkDAPPP/ANegDifEMl1qt8dP0DwfcLPYnzbopbafIIpbhRI+PMlX95k5LLlSck7uDXW6Pb+GJbabw9bxWk01tbxW95ZzopmMaKFTzFIywwOG5U9jVGf4fWep+KtX1XV3uit2YfIWz1O5tyoSMKdyxuoJyODzxV6bwq+qarDea5eidbO6E1jBbwiMRBTlNznLs3HOGVT0K4oAqeFprO/vDNZeC20u1YmaLUWW2CysoMasAjlwSjMASo+UkcZxXSRaXp8EkEkFjbRvbK6QMkKgxK5BcKQPlDEAkDrgZrltI8JXln4ssNTFlpOlw2ltPDONNZgb1nKFSy7QAF2k8liC2AepPZ0AFcx42/sqOztZr1rhNUWQ/wBlmwx9rebGdsQPDZA+ZW+THLcDIu6n4g8jUBpOkW41DVmTeYRIFjt17PM/OwHsACzc4BAJBonh77BcPqWp3B1DWbhAs12y4VAP+WcSdI0z2HJ6sWPNAFvQ21RtCsz4gSBNSMQ+0i3JKb++M/y5x6nrV+iigAooooAKKKKACiiigDl/A1zJBpk/h++ZFvtElNsYw3LW/WCTHoY9oz/eVh1BrqKxNd8NJq1xDf2N5NpWqwLsjv7ZVLGPOTG4YEOhPO09DyCDzRt8VRcebo91/teXLB+m5/50AbdFYnmeKv8An30f/wACJf8A4ijzPFX/AD76P/4ES/8AxFAG3RWJ5nir/n30f/wIl/8AiKPM8Vf8++j/APgRL/8AEUAbdFYnmeKv+ffR/wDwIl/+Io8zxV/z76P/AOBEv/xFAG3RWJ5nir/n30f/AMCJf/iKPM8Vf8++j/8AgRL/APEUAbdFYnmeKv8An30f/wACJf8A4ijzPFX/AD76P/4ES/8AxFAG3RWJ5nir/n30f/wIl/8AiKPM8Vf8++j/APgRL/8AEUAbdFYnmeKv+ffR/wDwIl/+Io8zxV/z76P/AOBEv/xFAG3RWJ5nir/n30f/AMCJf/iKTd4qbjy9Hj/2vMlfH4bR/OgDVvr2303T572+lWG3t4zJLIxwFUDJNZPgwXD+GYry9tpLW41CWW9eCUYeISyM6Iw7MqFVI9RVZvCdxqmpR3finVP7ShhKvDp0UAhtVdSCJGQlmdgRxuYqOoXODXTUAFFFFABRRRQAUUUUAc3rf/I9+F/+3v8A9FCukrC13StQu9Y0nUtKa1MlgZd0dyzKHDrt6qD0xTvM8Vf8++j/APgRL/8AEUAbdFYnmeKv+ffR/wDwIl/+Io8zxV/z76P/AOBEv/xFAG3RWJ5nir/n30f/AMCJf/iKPM8Vf8++j/8AgRL/APEUAbdFcodZ8TjxGukfYtJ3taG6En2iXGA4XH3OvNaHmeKv+ffR/wDwIl/+IoA26KxPM8Vf8++j/wDgRL/8RR5nir/n30f/AMCJf/iKANuisTzPFX/Pvo//AIES/wDxFHmeKv8An30f/wACJf8A4igCton/ACPfij/t0/8ARRrpKwtC0rULTWNW1LVWtRJfmLbHbMzBAi7erAdc1u0AFFFFABRRRQAVBe2VrqVjNZahbx3NtOhSWGVQyup6gg9RU9FAHIfbLzwO4i1NpL3w5nEV7gtLYZOFSXqXiAOBJ1UD5s8vXWxyJNEskLrJG4DK6nIYHoQacQGBBGQeCD3rk20i/wDB4luPC0BvdK+8+iAhTDzybZjwvXPlH5SfulehAOsoqnpWrWOt6dHfaVcpc20mQHQ9CDgqR1BBBBB5BGDVqSRIYmkldUjQFmZjgKB1JNADq5y+1q71W+m0nwsV82Ftl5qTruitOD8qjP7yX/ZHC9WPRWrLdaj40B/s6SbS9B3jF6hxPqCdf3X/ADzjPTf95h93bkNXSWGn2mlafDY6dbx21rAoSKGJcKg9AKAINH0i20Ww+zWpkkZmMk08zbpJ5CBl3buxwPYAAAAACr9FFABRRRQAUUUUAFFFFABRRRQAUUUUAFFFFABRRRQAUUUUAFFFFABRRRQAUUUUAFFFFABRRRQAUUUUAFFFFABRRRQAUUUUAFFFFABRRRQAUUUUAYEy7fiPZt/f0mcflND/APFVv181/ETUPilpfxvsdE0fxBIU1TcmlXDWkIWOGRlMiMRHzsMYyeTgA/xV9H2kUlvZQQzTNcSRxqrzOADIQMFjjjJ60AS0UUUAFFFFABRRRQAUUUUAFFFFABRRRQAUUUUAc1qnh26tNUfXPCjx2+oSEfa7SUkW9+o7NjOyT0kAJ7EMMYz9Lt7vx/a2ura9CbTRXCy22j7wxmIJ+e4YHDDoRGPl6Fsnhe1rn/An/Ih6P/16rQBvqoVQqgAAYAA6UteY6ZfeLbv4hv4QurzZZaTM2oz6ijjzbu1cn7PARjg7t4c4GRGMYzmsv4Y3PiTxDpWlavqt34omWSeRpLhbuzFmypM4wUP73bhQp4z1xxzQB7FRXkWi65r2neJdEk8Ta1fSf2rey2yXFm1vc6ZefeKIgUiSEgAc4OSpyTXrtABRRRQAUUUUAFFFFABRRRQAUUUUAFFFch4Z0C21PwlpF/e3mryXN1YwzTONYu13O0YLHAkAHJPAGKAOvorE/wCES07/AJ+dY/8AB3ef/HaP+ES07/n51j/wd3n/AMdoA26KxP8AhEtO/wCfnWP/AAd3n/x2j/hEtO/5+dY/8Hd5/wDHaANuisT/AIRLTv8An51j/wAHd5/8do/4RLTv+fnWP/B3ef8Ax2gDborE/wCES07/AJ+dY/8AB3ef/HaP+ES07/n51j/wd3n/AMdoA26KxP8AhEtO/wCfnWP/AAd3n/x2j/hEtO/5+dY/8Hd5/wDHaANuisT/AIRLTv8An51j/wAHd5/8do/4RLTv+fnWP/B3ef8Ax2gDborlfh7cTz6Dfrc3E9x9n1nULaN55WkcRx3MiIpZiScKAOSTxXVUAFFFFABRRRQAUUUUAFFFFABRRRQAUUUUAFZ2ta5aaFZrNdb5JJXEVvbQgNLcSHoiKSMnv6AAkkAE0zXdeg0O3jzHJdXtySlpZQcy3LgZwo7ADkseFHJNV9I0W6TUpNY16eO41KRfLijjGYrKM4zHGSATkgFnIBYgcAAAAGHN4N1TV7u18S6lepb+JLNjJp8Skva2SspVoSP494OHfg9NuAMHodC19NWEttdQmy1W0wt3YyMC0ZI4ZT/FGf4XHXBHBBA16x9d0N9Se3vNPuvsGqWhP2e6CBgVJBaJx/FG2BkZB4BBBANAGxRWNoniD+0LmbTtRg+wavbDdNaFtwdM4EsbEDfGfXAIPBAPFbNABRRRQAUUUUAFFFFABRRRQAUUUUAFFFFABXP+BP8AkQ9H/wCvVa6Cuf8AAn/Ih6P/ANeq0Aasel2UWrTanHbIt7PEkMs4HzOiklVPsCx/OubtvhP4FtNQivrbwzYx3UMomjlVTlXByG69c8119FAHOWPw98Jabrg1iw8P2MF+rs6zJFjYzdSo6KT6gCujoooAKKKKACiiigAooooAKKKKACiiigArE8Ff8iB4f/7Blt/6KWtuuT0PWrbRPhz4Xe5WWWS6s7S2t4YgC8sjRDCjJAHAJySBgdaAOsorIh8SWQimbVA+jtDKIWXUWSPcxTeNrBirfLk/Kxxg5xg1FP4u02O+jtoX+0CW3S5SeKWPymR5REMOzAE7mHHfoMnAIBuUVlQeJNLvdFu9T0+6hu7e080SNFKgAMZIYbmIUfdPJIGMHOOanGt6X9sjtH1G0S7kIC27XCeYSRuA25yTg547UAXqKxrPxf4fvtMj1CLV7NbWWV4o5JZ1QMyMQwGT7Z+hB71qyzwwbPOlSPzHCJvYDcx6Aep9qAJKKoXOu6RZf8fmqWVvyy/vbhF5XG4cntuXPpketI+t6fCZ2uru3t4YdmZpZ4wh3jK/xZGffGe2aANCiqK65pL+Rs1Ozb7Q5jhxcIfNcHBVeeSCcYHekTXtHkgmmTVbFooGVJZBcoVjZjhQxzwSeBnqaAL9FULfXtHu5oorXVbGeSbPlJHcozPjOcAHnGD09DUllq2nak0g06/tbsx43iCZX2Z6ZweOlAHO/Dn/AJAur/8AYwap/wClktdbXF+Bb2107w3rV1qFzDa28ev6oXmnkCIo+2S9SeBXW2V7b6jp9vfWMqz21zEs0MqdHRhlWHsQQaAJ6KKKACiiigAooooAKKKKAOJi+KeiSzeLIPKuFuPC8cstzCwUNOkaks0fPI4A5xgsuetJqnxOtbK+ubbS9C1bWzYQpNqDafGjC0DruVTuYbm284XPFcvr3wi1m+03xHPpd3p8Gs6jql5LbTSO/ltZ3MKRSRS4XOfl3DAOCq88mtq28JeLPDWq67ceFX0m4TW0hcm+mkjNnOkQjLAKjeapwDglfSgDutK1Sz1vSLXU9MmWe0u4llhkX+JSMj6fSqmva5/Y8MMdtavfahdNstbOMgNIeMsSeFRcgsx6D1JAOFo6Q/D/AML6J4Q0tG1XVI7fZFCrbQSOXlkbB8uPcTyQeoADHitjQfD7adLLqOqTi+1m6UC5u9u1VUdI41/gjHp1J5Yk80AV/Dumw29/PeapqNtqPiCZdtxJGwxAo/5ZRISSiA9upPLZPTfhniuIy9vKkqB2QsjAgMrFWHHcMCCOxBFeLvHKusR8Wd5LD4nlmTT7TTpI77m+ch2ucsNgB3n5VBQbdwzk6viPWtTstF1ae41O/sJLa21ObTzApAlmS6mVQwxhgqCPAPGCW7ZAB6vRXna3upLo2r6leX+okCW0tYUSURJEkkNqXl3bGIG533Pg7Ruxg5NVNJvNU1iRtLbUtRhghvZ0DxzsZWh+zo8Z8xkVmUyF9rYGQMZIHIB3OvaBDrcMTrK9pf2reZaXsP8ArIH/APZlPRkPDDrVbQvEE1xePo2vRR2mtwJuaNTiO7QYBmhyclMkAg8qeD2J5rwDf67Ne6I+r3V5cf2p4eW9vBcLhY7kNGMKMAJw7ZUYzjPWuy1vRYtatUUyva3UDiW1vIgPMt5B/EMjBB6FTwwJB60AaVFYGka/P/aC6J4iiS11cRb0ePPkXqjgvET37sh5XPcYY79ABRRRQAUUUUAFFFFABRRRQAUUUUAFc/4E/wCRD0f/AK9VroK5/wACf8iHo/8A16rQB0FFFFABRRRQAUUUUAFFFFABRRRQAUUUUAFFFFABXEW2nzan8KPDltHpVpq0JsrNp7S5fYWQRKd0bdA4O0jOOh5HWu3rE8Ff8iB4f/7Blt/6KWgDz/WdN1uw1fw/NPazvZt4kgex0y5vTcSRBbO43t5rE4ycFV3EAqORnie98B67eWyMtvbwvI6TNCJgRETqouymcc7Y8jI4JFeqUUAcbe6Dqd58N/FGgrbql3erqSWrNINsv2h5XjOe3+sAOehB+tKnha7W0vx5MImn1jT7xW3DJSFbRXOfXEMgA/xrsaKAPNLDwtr+m6cinTo7uRbPULDyTcKFHnT+YkgJ/hYYDD7w2jANbl/4d1G18IeHLGyP9o3OizWbSF3CNcLEu1yCeNxGTgn8a6+igDz3RfCWrr42sta1O0t4oo5tUlZBKHKC4Nv5fbk7Y3Bx0981hyeG9R8MzaBqup/Z/LsJ7APG82FdksZIG+YjapDPkFiAcdQSM+vUUAeY/DnR72W3g1hLW3gCy615GeUUz3iNGV4BKERtyMZGPWs+XwJ4lu7I21xaApJa6bA4luYyoa3u45ZMIoCqm3eEVR25AzgevUUAcAfB2pDUdTuEhg/0nxNFqSEvjdAtvHGc+h3K/Hv71d8G6Hq+latO13HJFpws4oYIbqWKaWB1JykciqGMIGMbyTnsOc9lRQB8v+Kvg/4r8b2Op6loOtNexRa9qQXR7mTy0RhdSAvGfu7m75C/XtXsPg/wNd2/gbQobzXvEFlcx6bbpNbJdKohcRqGQDacAHIx7VpfDn/kC6v/ANjBqn/pZLXW0Acx/wAIXL28V+Ih/wBvaf8Axuk/4Quft4v8Rj/t5i/+N11FFAHLf8IVc9vGXiQf9vEP/wAapv8AwhN528a+Jh/22t//AIzXV0UAcn/whN928c+Jh/20tv8A4xSHwRqHbx54oH/A7T/5HrraKAOS/wCEI1Lt4+8T/ibP/wCR6T/hCtV7eP8AxL+Is/8A5HrrqKAOR/4QvV+3xA8R/ill/wDI9H/CG612+IHiH8YrL/5HrrqKAOH0KNvBetTWWvyNdtq04MGvzAb7l+dsE2BhCo4TGEI4ADcN3FV9Q0+01XT57HUreO5tbhCksMq5V1PYiudgvbnwdLDZ65eG60eWTy7bUp2/eW7MwCQzHGCDnasncgBuSCwBreI7nULLQ7m90ua2jktYXmZbiBpQ4VSdo2uuOnXn6Vwmu3balb+Hx4lvdHt49as5WkmmSaGJYyiMYWUXCiQEt/EccdOTXo2o2a6jpd1ZOxRbmF4SwHKhlIz+tZ0HhuGC40OUTuTo9s9vGCB+8DIq5Pp9z9aAJtNvWk0Bbm3ntdXKg7G00KkcgBxtXdIwBHTlsZHas1/Ff9oR3Fto/l2mpWjKbyHVkaI2sOTulK8eYuAcFW2k/wAVdDc24urZ4HeSNXGC0TlGA9mHI+o5rGk8KW1rZsvh6U6PdPOs8l1Egkedh2lLZMgI4OTn0IxQA/wnrc2v6I15N5LgXMsMc9uCI7hEcqJFBJIBx0JPsSMGtusnw9oI0G3uw1y91cX1295cSsoUNIwA+VR90AKoxz0ySSTWdqOsXWtajcaD4YmMUkQKX2qoFZbFsA7FB4aYg5x0Xq3ZWAKni518TXH/AAjOkRrJfxMk02ocgaSedsqsOs391Aehy3ynDdfBG0VvHG8rTMihTI4G5yB1OMDJ9qqaPo9loWmrZabF5cQYuxJy0jscs7MeWYnkk8k1eoAKKKKACiiigAooooAKKKKACiiigArn/An/ACIej/8AXqtdBXP+BP8AkQ9H/wCvVaAOgooooAKKKKACiiigAooooAKKKKACiiigAooooAKxPBX/ACIHh/8A7Blt/wCilrbrnbLwpdadp9vZWfinWI7e2iWGJPLtDtRRgDJgyeB3oA6KisT+wdR/6GzWP+/Vn/8AI9H9g6j/ANDZrH/fqz/+R6ANuisT+wdR/wChs1j/AL9Wf/yPR/YOo/8AQ2ax/wB+rP8A+R6ANuisT+wdR/6GzWP+/Vn/API9ZepWer2etaPZxeKtUMd9NJHIWhtMgLEzjH7j1UevFAHX0Vif2DqP/Q2ax/36s/8A5Ho/sHUf+hs1j/v1Z/8AyPQBt0Vif2DqP/Q2ax/36s//AJHo/sHUf+hs1j/v1Z//ACPQBt0Vif2DqP8A0Nmsf9+rP/5Ho/sHUf8AobNY/wC/Vn/8j0AZvw5/5Aur/wDYwap/6WS11tZfh7QYfDmmyWlvc3F1511NdSTXJTe0ksjSOflVQBuY8AVqUAFFFFABRRRQAUUUUAFFFFABRRRQAVHcW8N3bSW91Ek0MqlJI5FDK6nggg9RUlFAHIxzTeBXW3vpJLjw0Tthu5CXfTvRJSclo89HP3ejcfNXXU2SNJY2jlRXRwVZWGQwPUEVyo3+BA2fMm8NZG3GC2l5Y59zByPUx4/ufcAOsopsciSxrJE6ujgMrKchgehBrl7m+n8YSy6fodxLb6THI0V7qcLAGbAw0MB65ycNIOmCFO7JQAW/1O88SahNo3huZre1gcx6jqqj/VkHDQQ56y+rchPduBvaXpdno2mw2GmwCC2hXaiAkn3JJ5JJ5JOSScmpLGxtdNsYbPT7eO2toFCRxRLtVB6AVPQAUUUUAFFFFABRRRQAUUUUAFFFFABRRRQAVz/gT/kQ9H/69VroK5/wJ/yIej/9eq0AdBRRRQAUUUUAFFFFABRRRQAUUUUAFFFFABRRRQAUUUUAFFFFABRRRQAVz+uf8jV4Y/6+p/8A0nkroK5/XP8AkavDH/X1P/6TyUAdBRRRQAUUUUAFFFFABRRRQAUUUUAFFFFABRRRQAUUUUAFFFFABRRRQAUUUUAcJd+HHtNeg8P2epyWfhy9t5ruayQYMYjaNWijkzmON/OyQOm3ClQxrtII7WxtIbe3EUFvFGEijXCqqKOAB6ACsXV7O31DxhYWd9Ck9tcaRfxSxSDKujSWoII9CDXldpol4miePYtV1R9Qt/CmlXmk6UjpgxxvAZS7HPL7Gjjz6J7mgD3CO6glbbFPG7eiuCadHPFMWEUqOUOGCsDtPvXz/wCAJPB8nh5oLC40BNUl0GSN20WzkOooTD855OGYckgdSOK0vhVLoNl410/T/DlrpGqt/Zjxz6xpEM1s8SrtwLmIkqXc9yc5B4FAHuNFFFABRRRQAUUUUAFFFFABRRRQAUUUUAFc/wCBP+RD0f8A69VroK5/wJ/yIej/APXqtAHQUUUUAFFFFABRRRQAUUUUAFFFFABRRRQAUUUUAFFFFABRRRQAUUUUAFc/rn/I1eGP+vqf/wBJ5K6Cuf1z/kavDH/X1P8A+k8lAHQUUUUAFFFFABRRRQAUUUUAFFFFABRRRQAUUUUAFFFFABRRRQAUUUUAFFFFAGJd/wDI/aV/2DL3/wBG2tbdYl3/AMj9pX/YMvf/AEba1t0AFIABnAAz1paKACiiigAooooAKKKKACiiigAooooAKKKKACuf8Cf8iHo//XqtdBXP+BP+RD0f/r1WgDoKKKKACiiigAooooAKKKKACiiigAooooAKKKKACiiigAooooAKKKKACuf1z/kavDH/AF9T/wDpPJXQV83/ABw8RfEXwn8SdKXRNbaSzvmL6VELKAmGUjy3jyUO774654cdxmgD6QorO8P2up2fh6yt9fvxqOppEBdXSxqgkk6nCqAAOw4HArRoAKKKKACiiigAooooAKKKKACiiigAooooAKKKKACiiigAooooAKKKKAMS7/5H7Sv+wZe/+jbWtuvmj4j6/wDFPQfjXaaLouvNKdQymkyPYwALFM6lkJ8sg7WjXJOThQeMmvo+whuLfTbaG9uTd3McSrLcFAplcAAvgAAZPOBxzQBYooooAKKKKACiiigAooooAKKKKACiiigAooooAK5/wJ/yIej/APXqtV/iNH4kPga+n8E30lnrFqvnwiOCOUzhQcx7XUjkdMc5A9xXl/7OOteNvEtrdXeu6q7+H7BBa2lv9mhQSS9T8wQNhRjvyWHoaAPeKKKKACiiigAooooAKKKKACiiigAooooAKKKKACiiigArg9I8D6NrkN5qGpPqslzLqV8GMes3kS4W6lVQFSUKoAUDAA6V3lYnhL/kC3H/AGE9Q/8ASyagDN/4Vj4a9NY/8H19/wDHqP8AhWPhr01j/wAH19/8erodQ1jTNJ2f2rqNpZeZnZ9pnWPdjrjcRmrMM0dxAk1vIksUihkkRgysDyCCOooA5X/hWPhr01j/AMH19/8AHqrXXwh8HXstvJd2mpTvbP5kLS61esY29VJl4PuOa7aigDkv+FY+GvTWP/B9ff8Ax6j/AIVj4a9NY/8AB9ff/Hq6OPVNPlvJLSK+tnuYnEckKzKXRypYKVzkHaC2PQE1aoA5L/hWPhr01j/wfX3/AMeo/wCFY+GvTWP/AAfX3/x6urSRJM7GVtpKnBzg+lOoA5v4fM7eA9N8yWSVlV13yyM7ECRgMsxJPA6k10lc18Pf+RD07/tp/wCjWrpaACiiigAooooAKKKKACiiigAooooAKKKKAPPvDXgDQ9U8J6RqF8+ryXV3ZQzzONcvV3OyBmOBKAOSeAAK1P8AhWPhr01j/wAH19/8erS8Ff8AIgeH/wDsGW3/AKKWtugDkv8AhWPhr01j/wAH19/8eo/4Vj4a9NY/8H19/wDHq6i5uoLK2e4vJ47eCMZeWVwqqPUk8CobDV9N1VZDpeoWt6IiFkNtMsmwnoDtJxQBys3wi8H3F5b3Vxa6lLPbbvIlfWr1mi3DB2sZcrkDHHWrH/CsfDXprH/g+vv/AI9XW0UAcl/wrHw16ax/4Pr7/wCPUf8ACsfDXprH/g+vv/j1dbRQByX/AArHw16ax/4Pr7/49Wp4Plkn8DaFLO7SSSadbs7ucsxMakknua2axPBX/IgeH/8AsGW3/opaANuiiigAooooAKKKKAOQ8YabDrPibw5pt7JdLazNctIltdy25crGCMtGyng9s07/AIVj4a9NY/8AB9ff/Hqs63/yPfhf/t7/APRQrpKAOS/4Vj4a9NY/8H19/wDHqP8AhWPhr01j/wAH19/8erraz77X9H0y4EGpatY2cxAYR3FykbEHgHBNAGF/wrHw16ax/wCD6+/+PVWsfhF4Q022+z2FtqVvFuZtkOtXiLknJ4WUCu2ooA5L/hWPhr01j/wfX3/x6j/hWPhr01j/AMH19/8AHq62igDkv+FY+GvTWP8AwfX3/wAeqPTPDen+G/HlkmlPfhLnTbsypc6lcXKkrLbbTiV2AI3NyMda7GsS7/5H/Sf+wZe/+jbWgDbooooAKKKKACiiigAooooAKKKKACiiigArE8Jf8gW4/wCwnqH/AKWTVt1ieEv+QLcf9hPUP/SyagDD8YtaWXivTdT/ALRvdIv4rWWKO7Fibm1ljLIWikAGQ2VUjBUnBwT0riNd1zX38Oyiz0+80K7g0I3Flb2YnjSWUyS7fKgjxhtqI7LIW2hwCvUn26uS1L4gWum+F4NbeymeObRZdXEQYbgiCIlM+p84c+xoA5u9vPEd1qdxo+iXF9ko2uRXLM5EkTQEJbqx/wCnnnZ0CcYxWj8PZb25vvNbV7m7txp8Ynt7iG53JMTwzNMx2vgMGRcdjgcVcvPiCtlfPZ3tk9lPBNamdXxIPJnEhVgQRhh5TgjnBHfOapv8U/Ihilu/Dt7AtxpR1WAGWMtJF5kSBcA8P++UkdB6+gBkpBf2F94jlsWvoWuPEV2xKSSYdRpZZSBnGPMxgjuqj+EYXXp73RJ7aS2vdXvpFsLdv7Na4ukkmcuxZ4ZRlZJCTgxuCAAvKg10Wu/EWDw3e2dtrVkts9x5IZDew+ZmSTZ+7QkNIFOCxA4B4zg0lj8QZdRntIrXQp2+3XN3a2zNOoDPbOyuW/uqdrEHk5GMdCQB/wAO4fs0PiCCT7Qs665eOyTs5IRpWMZG7sVwcjrXY1T0jUo9Y0Sx1OBGjjvLeOdUfG5Q6hsHHcZq5QBzXw9/5EPTv+2n/o1q6Wua+Hv/ACIenf8AbT/0a1dLQAUUUUAFFFFABRRRQAUUUUAFFFFABRRRQBieCv8AkQPD/wD2DLb/ANFLW3WJ4K/5EDw//wBgy2/9FLW3QBzvjy2srrwhcR6mt/8AZxLDJ5unxeZNAyyqyShcHIRgGIweAeDXGXPiC9dJ0imbU4mms7eTXYLSWxKqWlYrK68uq4HMe0AzYO3JNdRrvjC90TXNShGkSXun6dp0N9PPFIqNErPMH+83zYWLcAB2bnJUU1PG07ahdWdtpU2oS29xch1gKoUihKAn5m+ZiZBgDGcHp3AONtNf8T6XogvbVL/Ubk317pkME/m4UynfZysrkttBCrubJCycnir8ia1a+Lk0xtdvopra6sUti0VzN9pgEUfmE4byyGYTBnYFlzkkfLXQ2vxBF7bXVxbaNcyRWmnQ38rebGvEse9EG4gZ65JIAxknmmab8RrfV4400q0jvrl9R+wbbW9iliDeQ0+/zVJG0KhB7gg8HjIB2lFcn4f8drrl9plvLpVxY/2paz3FsZZEY/uXRJFYKeDlxg85Hp0rrKACsTwV/wAiB4f/AOwZbf8Aopa26xPBX/IgeH/+wZbf+iloA26KKKACiiigAooooA5vW/8Ake/C/wD29/8AooV0lc3rf/I9+F/+3v8A9FCukoAK828T3NvpPiPW7mzvLq0uri2QXGn3eltdWuqYj2rs2jcTj5CAw6cr3PYXviOKy8Sx6O0DtI+mz6gJARgLE8alfqfMH5Vz1t8TUu9LGpQ6LcGzS1srqeTzkzGlyqlQB/EV3ZPTgcZ6UAY2oaxqSeJkn/0yw+z6paRzWolndUgKRK7FVIiWLLkZwxJycjGFrz33i2TSdXsv+JjFL4ctWtjcxmRmvN84xIoHMjrbIGyMndKcc1u2nxLM1hNJHpc19NaxXdzdLBtj8qCG5lhUgMx3MfKY4B52k8ZC1pR+OfOs9SuotJnNvp8EUrytNGis0kUcgUFiAMLJ8zHAAHfPAAngJriSHVJH1SbULVrofZ/NimVYh5a7lR5iWdc85yQCWA6Yrra4nTfiTb60lqmi2P264uLq4tCIbqNoleFA5IkGQylWGCO5wQOcWvC/jyDxNPpyLp89oNU006laGVlJaJWRGDAfdOZFI65B7dKAOsrEu/8Akf8ASf8AsGXv/o21rbrEu/8Akf8ASf8AsGXv/o21oA26KKKACiiigAooooAKKKKACiiigAooooAKxPCX/IFuP+wnqH/pZNW3WJ4S/wCQLcf9hPUP/SyagDbrkLn4cadeaOdMudS1KS0GmTaXEm+IeTBKY8hSI+SBEgBbPA75rr6KAOa1PwLpeq6xcaldSXLSzi2DxB1CEQebtH3c8+c2eewxjvyejeAdQ1DU4l1yPULLT7HRzpUaz3cEzv8AvYnBjaNRlAIQN0ih2zyBivUaKAOW1fwBpus3WpTTXl9B/aTwy3CQugBeHb5bAlCwxsU7c7SRyDk5s6Z4M0/Sm09ree6c6fcXdxF5jKdzXDs77sKOAXOMY7ZzXQUUAVNK06HR9Hs9NtmdobOBII2kILFVAAJwAM8elW6KKAOa+Hv/ACIenf8AbT/0a1dLXNfD3/kQ9O/7af8Ao1q6WgAooooAKKKKACiiigAooooAKKKKACiiigDE8Ff8iB4f/wCwZbf+ilrbrE8Ff8iB4f8A+wZbf+ilrboAwNY8I2+s3l9NJqF9bpqFmlldwwNHsliUyHHzISM+a4JUg4I6YzWLrvhq60y5a88PWmp3k929yZ/st5BCV87YSD5i/cyn3lO9e2c8dzRQByOn+ALSLwy2nXtxMZbmzs4Lh4ypUNbqoUoGUjGVyQwIPp2q3Z+DLW01v+1G1C+uJzcrclZTEEMiwPADhUGBsfoMDKg+uejooA5/T/B2n6beaTcwTXLPpMFzBAHZSGWd0dy2F5IMYxjHfOa6CiigArE8Ff8AIgeH/wDsGW3/AKKWtusTwV/yIHh//sGW3/opaANuiiigAooooAKKKKAOb1v/AJHvwv8A9vf/AKKFdJXN63/yPfhf/t7/APRQrpKAMTV/C9tq+qxaibu7tLqO0ms99uyfPFKULKQyt3RSCMEVQtPh7pVl4fm0iK4vDbzWtraszOm8JbqFQg7cZIUZ4+mK6qigDzXXvAk+l2E1v4WtNRupb+1u7WaaO8gjwJppJgJN6g7A80mGj+cA4wetdLB4LtV8Py6dPcTbrh7WaWRNp2yQJEqlQykYzApwwOcn6V0tFAHM6V4FsNJ1g6lHe308xu5bsiZo9vmSRrG5wqDjCA46A9OOKfofgjTfD8mjvZz3TnSNMfTIPNdTuiZo2JbCjLZiXkYHJ49OjooAKxLv/kf9J/7Bl7/6Nta26xLv/kf9J/7Bl7/6NtaANuiiigAooooAKKKKACiiigAooooAKKKKACuRPgS4Se4ey8ZeIrKGe4luPs8DWuyNpJGkYLugJxuY9SfrXXUUAcl/whGo/wDQ/eKP++rP/wCR6P8AhCNR/wCh+8Uf99Wf/wAj11tFAHJf8IRqP/Q/eKP++rP/AOR6y9S8N6vZ61o9nF488SGO+mkjkLG0yAsTOMf6P6qPXivQa5/Xf+Rq8Mf9fU//AKTyUAUv+EI1H/ofvFH/AH1Z/wDyPR/whGo/9D94o/76s/8A5HrraKAOS/4QjUf+h+8Uf99Wf/yPR/whGo/9D94o/wC+rP8A+R662igDP0HRofD+hWul20008dspUS3BUyPkkkttAGcnsBWhRRQAUUUUAFFFFABRRRQAUUUUAFFFFABRRRQBxtt8P7qytYrWz8ceJoLeBBHFErWhCIBgKM25OABjmpf+EI1H/ofvFH/fVn/8j11tFAHJf8IRqP8A0P3ij/vqz/8Akej/AIQjUf8AofvFH/fVn/8AI9dbRQBwE/hjVo/E9lpy+PPEvk3FncTuxNpuDRvCqgf6PjGJWzx2H46X/CEaj/0P3ij/AL6s/wD5HrSu/wDkf9J/7Bl7/wCjbWtugDkv+EI1H/ofvFH/AH1Z/wDyPR/whGo/9D94o/76s/8A5HrraKAOS/4QjUf+h+8Uf99Wf/yPXR6Xp8Wk6PZ6dbM7Q2cCQRtIQWKooUE4AGcD0q1RQAUUUUAFFFFABRRRQBh+IvDA8QTWM6atqGlXFiztFPYNEGO9cEHzEcYx7Vnf8IRqP/Q/eKP++rP/AOR662igDkv+EI1H/ofvFH/fVn/8j0f8IRqP/Q/eKP8Avqz/APkeutooA5L/AIQjUf8AofvFH/fVn/8AI9Zfhrw3q+s+GbDUbrx54kSa5hEjrGbQKCfTNua9Brn/AAJ/yIWj/wDXqtAFL/hCNR/6H7xR/wB9Wf8A8j0f8IRqP/Q/eKP++rP/AOR662igDkv+EI1H/ofvFH/fVn/8j1b0fwlJpetrqd34j1jV5Ut5LeNL9oNiK7IzEeXEhzmNepPfiuiooAKKKKACiiigAooooAKKKKACiiigAooooAKKKKACiiigArn9d/5Grwx/19T/APpPJXQVz+u/8jV4Y/6+p/8A0nkoA6CiiigAooooAKKKKACiiigAooooAKKKKACiiigAooooAKKz9Q1/R9ImSLVtWsbGR13KlzcpGWHqAxGRVT/hNfCv/QzaP/4Hxf8AxVAG3RWJ/wAJr4V/6GbR/wDwPi/+Ko/4TXwr/wBDNo//AIHxf/FUAbdFYn/Ca+Ff+hm0f/wPi/8AiqP+E18K/wDQzaP/AOB8X/xVACXag/EHSW7jS74D/v7af4VuV8nfEnQYbj42afHoHjCOLSNdlLvcxaqGWyOQZx9/5RwGAOAcgDpx9H2XirwjYafb2cHibSTFbxLEm/UYicKMDJ3cnigDoqKxP+E18K/9DNo//gfF/wDFUf8ACa+Ff+hm0f8A8D4v/iqANuisT/hNfCv/AEM2j/8AgfF/8VR/wmvhX/oZtH/8D4v/AIqgDborMsvE2g6ndLa6brenXdwwJWKC7jkcgdeAc1p0AFFFFABRRRQAUUUUAFFFFABXP+BP+RC0f/r1Wugrn/An/IhaP/16rQB0FFFFABRRRQAUUUUAFFFFABRRRQAUUUUAFFFFABRRRQAUUUUAFFFFABXP67/yNXhj/r6n/wDSeSugrn9d/wCRq8Mf9fU//pPJQB0FFFFABRRRQAUUUUAFFFFABRRRQAUUUUAFFFcT49+KWjfDrVNFt/EEU4ttVMo+1QruEGzZyy9SPn7ZPHQ0AdtWJ4g19tMaGw0yBb3WbwH7Lab9owOskh/hjXue/AGSQKpN480m+0y1m8LXEGu3N+xSzgtpeGIxvZ2APlqgYFiRxkAAkgHR0HRJNM+0Xeo3X27VLxg1zc7NoCjOyJB2jTJwOTySckk0AGgaAmixTyzzte6leMJL29ddrTsOgC5O1FBwqjgD1JJOvRRQAUVj2XiS1l8F2fiPUMWVtcWUV3ICS/lB0DbcgZY/NjgZPpSJ4t0VmKveGB1lELJcwSQsjFDINwdQVBVSQTgHGBzxQBs0VgDxno5jWc3B+zyQ28sOIJTLL57OIwI9mTnyzgDJ65AGCVn8baDbWhuZruURLHJLIRaTEwojFXaQBMxgMrA7sfdPoaAN0qpYMVG4AgHHI/zilrHPirRxfNai5kaRLiO2Z1t5DGssiqyKZAuwEiRMc/xAdTWxQAUUUUAFZuua1BodgJpR5s8riK1tkID3Mp4VFHqe56AAk4AJqHxR4o07wlosmo6rKqqMrFFvVWmfBIRdxAzgE5JAABJIAJrkfh74l0jxt4m1XUY79dT1LT44kzCD9lskl3fuoSeXY+Xl5MDd8uOBgAHT+H9BntrmTWdeeO51u6Ta7pzHaR8HyIcgHYCMknljyewG/RRQAUUUUAFFFFABRRRQAUUUUAFc/wCBP+RC0f8A69VroK5/wJ/yIWj/APXqtAHQUUUUAFFFFABRRRQAUUUUAFFFFABRRRQAUUUUAFFFFABRRRQAUUUUAFUdU0TTNbiij1exhvEiffGJVzsbBGR+BIq9RQBz/wDwgnhb/oB2f/fuj/hBPC3/AEA7P/v3XQUUAc//AMIJ4W/6Adn/AN+6P+EE8Lf9AOz/AO/ddBRQBz//AAgnhb/oB2f/AH7o/wCEE8Lf9AOz/wC/ddBRQBz/APwgnhb/AKAdn/37o/4QTwt/0A7P/v3XQUUAc/8A8IJ4W/6Adn/37o/4QTwt/wBAOz/7910FFAHP/wDCCeFv+gHZ/wDfuj/hBPC3/QDs/wDv3XQUUAc//wAIJ4W/6Adn/wB+682+K/wp8PazqPh9baL7PIGmSPTLFQkt+zbMfvDkRogBLOQcA8DJFep6/r8WiW8SpC93f3T+VZ2UX353/oo6sx4UcmotC0J7OebVdXeO41u8RVuJo87I1HSKIHkID+LHJPoADI+G/wANtI+HWitBYQxtfXGGu7oA5c/3VJ5CDsCfc8muyoooAKKKKAOFTwjr914FTwtqNxpa28FlDBBcRJI7GSLYUZ0OAVJTkA0yb4crqmk3Gn6lHp1nBe3Eb3a6bEyM6RKTGu9sknzDuzxgZXuTXe0UAcXceEtcuZrfUpdSs21a3SzIk8hhFLJCZw5Kg5UOk56H5T64o1Xwt4h1G1vMalYLdapp72F5I1u22JC7lGjXPJVZWXDH5iAcjpXaUUAcwnhJoLG7tYLhdkup2V5GWBJVLcWwKn3P2c8/7Qrp6KKACqGtaxBoelveXKSykEJFBCu6SeQ8LGg7sTx6dyQATRrWtWeg6a17fs2wMEjjjXdJM5OFRF/iYngD+lZekaNeXmow6/4mVRqKIy21kj7orBW6gHo8hHDP9QuBnIBy3iL4SQfEbTzdeObq5i1NgTbJZzkRWCHogU/K7dNzkZYjjAAAxPhX8DB4K1HXY/Eq2Os2tyIDZThCCNvmbwVP3Tyncj3r2eigDn/+EE8Lf9AOz/790f8ACCeFv+gHZ/8AfuugooA5/wD4QTwt/wBAOz/790f8IJ4W/wCgHZ/9+66CigDn/wDhBPC3/QDs/wDv3R/wgnhb/oB2f/fuugooA5//AIQTwt/0A7P/AL90f8IJ4W/6Adn/AN+66CigDn/+EE8Lf9AOz/790f8ACCeFv+gHZ/8AfuugooA5/wD4QTwt/wBAOz/791tWdnbafZQ2ljCkFvCgSOKMYVFHQAVNRQAUUUUAFFFFABRRRQAUUUUAFFFFABRRRQAUUUUAFFFFABRRRQAUUUUAFFFFABRRRQAUUUUAFFFFABRRRQAUUUUAFFFFAHM33ge0vvEUutnVNWgvZIhCGgutojjBzsUY+UE8nHU4J6U7/hDf+pj8Qf8Agd/9jXSUUAc3/wAIb/1MfiD/AMDv/saP+EN/6mPxB/4Hf/Y10lFAHN/8Ib/1MfiD/wADv/saP+EN/wCpj8Qf+B3/ANjXSUUAc3/whv8A1MfiD/wO/wDsaP8AhDf+pj8Qf+B3/wBjXSUUAc3/AMIb/wBTH4g/8Dv/ALGj/hDf+pj8Qf8Agd/9jXSUUAc3/wAIb/1MfiD/AMDv/saP+EN/6mPxB/4Hf/Y10lFAGFp/hKzsdTi1Ce7v9RuoFZbeS+uTL5G4YYoOACRwTjOOOhOd2iigAooooAKKKKACiiigAooooAKKKKACiiigAooooAKKKKACiiigAooooAKKKKACiiigAoorO8Qat/YXh+91PyfP+yxGTyt+3djtnBx+VNJt2Qm0ldmjRXIJ44lhOlf2lp0ECag0p3w3vmiJEjD7j8gyeox2p9l4yvb3R7jWBoMkWmLbyTwTSXKhpQoJGUAyuccHmtXQqJXa/Ff10Mo16cmknv5M6yiuLvPiD9ksbe4Gmb/O0j+09v2jG3lRszt/2uvt0qsPiY/9kXl0dITz7WaCMxpeBo283ofMC8EdxjiqWGqvp+Xe35kPFUVu/PZ9r/kd7RWZHf6hJoJvFsIGvMEi2S7DIcHH+t2+nPT2qv4S8QS+JtCGpS2S2YaV0RFm83cFOM52juD+VZezlZvsa+0jdLubdFcl8TPFV94M8Dz6zpcVvLcRzwxhbhWZMPIqnhSD0PrWR4t+IOqeH9Y8QWtrBZvFpvh0apAZI3Jabey7WwwyvA4GD71HS/r+Cv8Akadf66u35nolFeHal8bPEVl4CsL5LDSxrq3k8OpwPHIYoY4nVSyrv3ZPmR4yT1r0Hwz4uvta+IPirQ7mK3W00f7L9neNWDv5sZZtxJIPPTAFVyv+vl/mK+l/67HYUVxXxH+Itj4J0O98ieOTW1tGuLa0aCSUEA43PsHypnjLFR70lj8QbeD+2ZteuYPs9jcxQothZ3Mske6FZCJAFOTyTlcqBjJzmpWqbG9LHbUVyNz8UvB1qbXfq5kF2kUkRt7SaYYlOI9xRCELHoGwTikj+Kfg+bTbm/t9TmntrSYwTvDYXEhjcAkghYyQAASTjA9eRRsG519FcddfFfwVZ3sdrca0BJIkLoVtpmVllXdGQwQj5h0568deK2tM8VaLq/h19dsb9G02MOZLiRWiEewkPuDgFcYOcgUbah5GvRXmvir4xaVZ+EZ9Q8KzC8vlnt4EjubG4UJ5rfLIybVZkxkgjhiMA5OK3fEHjuDwzP4estQt5p7rWnMQeC3kKRsE3FiuCQM4+U8gZJ4BINlcDraK888A/FnSfEvhmOfWr+1tNVhs3vL2FIpI44olcqXBfIIGBnDHFdHpPjLR/Eui3194bvBdfZFYOJIZIyjbdw3I4VsEYOe46GiXu3v0Baux0FFcB4e+K+iz+HPD83ifULez1XVrWOdoIYZDGhdtqkkBggJ4Bdhn1qXXPihosei6wdA1W1Op6bG5kW9tbjy7co4RvNCpuAyeB1btkZptNO39abgtbfL8djuqK5k/EPwzFf3NjPqqC4sojJduIZPJhwu5g0u3YDjnaWz7VWHxT8H/AGMXJ1SRENylrsexnWTzHUsg8spuwygkHGDjrSDc6+isW28X6DeeEz4mg1GM6OI2lN0ysoCqSDkEBgQQRjGc1jn4s+DFs5rl9UmjSGcW7pJp9yknmbd20RmPcSF5OAcDk4o2dgOyorkm+KPg1NQgszrKmW4EBjK28rIRN/qjvC7Ru9z9adL8T/B8N5qFtJrSCXTo5JLnEEpVVj/1m1guHK9wpJFH9fcH9ffsdXRXKL8TPCbxafMupyGDUSBbT/Y5/Kclygy+zauWBA3EZ7Vi6X8VbfX9asLew8qxgbUrqyuFv4J1klWKNm3RMFCA5GSGPAGOpxTtrYP6/N/oei0Vx4+K/gs2V1d/2wRBaIskjm0nG5GfYrp8n7xS3G5Mj3rY0bxXoviDTLq/0i8+0W9nI8U58p0aN0GWUqwDZA9ue1LpcDYori4Pi94HuNNub9Nb229rEk8rS2k6ERu2xXCsgLKWIGQDjvirUXxN8Iz3tpaw6uHkuxEY2FvLsHmjMYd9u1Cw6BiCcinZh0udVRXK/wDCy/CXlX8w1bMOnnE832aXy87gm1H27ZDuIGEJOaoa38V/DVl4Tk1TTdSW5nmhnNnB9mmZ3kiU5Dxhd6AHAYsFAzyRUt2VxpNux3NFcTofxQ0G70PTpdX1CKDUZ1s4p4Y4Jdq3FzGHRF4PBye5wOpqT/hbXgk2Et4uthoYbg2rbLWZn80AkqECbmwAScA4HPSqlFxbTJTuk0dlRVewv7XVNPt77T50uLW5jEsMqHIdSMgirFJprRj3CiiigAooooAKKKKACiiigAooooAKKKKACiiigAooooAKKKKACiiigArO8QaT/bvh+90zzvI+1RGPzdm7bnvjIz+daNFNNp3Qmk1ZnLT+BbGRtHWDybaDTxIJYYbcKLgvHsYnBGD3zzVCz+G5huIFu9amurK1tZrW2gMCq0aSAgguD82O3FdxRW31ipa1/wCtf82Y/V6Wmm36W/yRxH/Cunk06W2u9ZaZhpx062f7MFEMWQckA/MeAM5FRz/DQHQ77SbTU0t7W6nhuET7IGWJ0ADcbsENgHHb3ru6Kf1mr3/L1J+q0WrW/Ptb8jG03RbrTvC66Wt9AZ1UhZ47FIoxk5/1Snb359az/D3g+58OeWtlq+InuXuLuFbRFjm3KAFQZ/dgYzxnNdTRUe1nr577GnsYe75basw/GPha08Z+FrrQ7+WWCO42sssWN0bqwZWGeOCBxXM33wwutX07W/7Y8RG51TVtPTTheJZCNIYVYtxGH5JJ5O7n0FehUVktDa55Zq/wSg1O68Szx60YG1yGGNAbXcLVlMZdgN43bzEvpj3rYsvAWs6V491PxDpfiS3ig1Vrc3dpJpm9isSBcLJ5o25Gedpxn2ru6KabQulv6/rQ8+8a/DCfxTrGoX2n66um/wBp6YNNvI5LPzwyBiysp3rtOT75qhq/wabVHvWGvKqXd+l29vNY+bCwWAQ7XTzBv6bgeMHsa9QopdLf1vf8w63/AK2t+R89XvgXW/DfjbRLXTNOfVotNtrG3QvYTfZ74rIxaV3RvLjaMHIEpb25rs7/AODDXvhPTtE/t9fLs7m6mcT2HmwzeezMMxeYPmTd8rZPPOK9Sopt3Vn6gtHdeX4Kx5dbfBj7PDHH/b27Ymlrn7HjP2I5/v8A8f8A47710Nj8P4LfwLrPhm7vnnh1aa7keZI/LaMTszYAyc7d3XvjoK7CiiTcr36/rb/JAtGn2t+B5g3wgurqzm/tLxIs98wsYo7iPT/LRIbWTeq7PMOWY5y2fwrq/FfhSbxFfaJe2morY3GkXZuEL2/mrIGQoykblxwxwc8Hsa6Sihtvf1Eklt6Hl9n8FbeLS7fT73WWuII9FuNJfy7by2YSy+Z5gJY4I6Y5z1z2ro/CHgdfC2g3eneZpha4QR+dYaUlnkBSoLhWO9uc5JH0FdbRSeqafX/Nv82x9Uzyuy+CNtY3GkzrfafeS2VjFZT/ANoaOlysixsSHjDP+6fkjPzDpxT774P3l9N4mkfxRg+JYSl4v2AbVZXzEyDzBjanykEnd1yOleo0U7u9/X8dwWm3l+Gx5zJ8KJWtPEGlxa+0eia80k9xafYwZUndQCyy7vu5UHaV7YzUcXwmuZdXttX1XxCt1qMN/aXTyR2HlI8dujIsYTzDgneSWyfpXpVFCbX4fhsG6a73/Hc871LwdceH/gjrfh6xU61cPDdPGiwbS7SuzgBMnJXdxzziuO8LfDK78SaCE1a3gt5tL1IzWd7qelSyf2krRKrtPb3D7zyAASw+6McCvdaKXVvuNtv8fxPNbj4QrO12U1aC3Fz/AGd+7t9PEccf2R9/yqrgANnGB933qu/wTtVi163tb3T44dWW52TvpCPd27TZyPP3AsgycLgHtmvUqKd7/wBd/wDhhf8AA/DY8x8SfB5vEOvWOoPrqotpHaosU1j5pjMDBiYm3jy9+MMMHtz2qaH4SFdWjmn1zzbKPUry+W2Fptf/AEmNkdDJv7bsg7e2Md69Ioovf8fx3/IFp/XZW/U8mf4IzXOkrZX3iYTfZbGLT7B10/Z5MKTrL848z52OxRn5R3xXY6V4Vbw/a+J5EujdtrF1LehBFtMZaNV2dTu+71469K6iilK8k13v+Or/ABGtGn/Wh4f4X+D17rvw/sZfEGpyWeoyaXb2cML2BjNnEkyzFHQvl3JXGTtx6V1uq/Cs6l4ivrtdaMWl6neW17e2P2Xc7yQY27Zd42qdq5G09OCK9DoqnK7v/XclLSz/AK0seZH4QSP4PuvCk3iAS6KJfPsIXsFL27+b5g3sWxKucjGFyCeaZc/B+Zo4ZNN1fTdLuvsdzY3H2LRVit5IpgM7YlkG1hgfNuOa9Qoqd/6+RV3e55OvwReK+spIvEYEFvNp9xJE1gCZJbRAgKt5nyhlHTBxnqat3Hwat5/DWk6c+o2s9zpN7cXcMt5pqzwSCZ2ZkeEv8w+Yc7hyoPtXptFNyb39f6+4S00/rr/mzF8PaNe6LG1vNf201kkUUdta21gtsluVXDkBSeGPIGPl6c1tUUUN3AKKKKQBRRRQAUUUUAFFFFABRRRQAUUUUAFFFFABRRRQAUUUUAf/2Q==)"
      ]
    },
    {
      "cell_type": "code",
      "metadata": {
        "id": "m2jTrNQ0fsTt"
      },
      "source": [
        "\n",
        "\n",
        "#bigrams\n",
        "\n",
        "\n",
        "def token_bigrams(Tokens_unique_stem):\n",
        "\n",
        "  Token_bigrams=[]\n",
        "\n",
        "  for tokenlist in Tokens_unique_stem:\n",
        "      bgrams = list(nltk.bigrams(tokenlist))\n",
        "      Token_bigrams.append(bgrams)\n",
        "\n",
        "  bigram_concat=[]\n",
        "  for i in range(len(Token_bigrams)):\n",
        "    temp=[]\n",
        "    for j in range(len(Token_bigrams[i])):      \n",
        "        temp.append(' '.join(Token_bigrams[i][j]))\n",
        "    bigram_concat.append(list(temp))\n",
        "\n",
        "  token_counter_bigrams=[]\n",
        "  counts_bigrams = dict()\n",
        "  bigram_unigram=[]\n",
        "\n",
        "  for i in range(len(bigram_concat)):\n",
        "    if labels_unique[i]== 'Bank charges':\n",
        "      for j in bigram_concat[i]:\n",
        "          counts_bigrams[j] = counts.get(j, 0) + 1\n",
        "    elif labels_unique[i]== 'Sales':\n",
        "      for j in bigram_concat[i]:\n",
        "          counts_bigrams[j] = counts_bigrams.get(j, 0) + 1\n",
        "    elif labels_unique[i]== 'Supermarket':\n",
        "      for j in bigram_concat[i]:\n",
        "          counts_bigrams[j] = counts_bigrams.get(j, 0) + 1\n",
        "    elif labels_unique[i]== 'e-commerce':\n",
        "      for j in bigram_concat[i]:\n",
        "          counts_bigrams[j] = counts_bigrams.get(j, 0) + 1\n",
        "    elif labels_unique[i]== 'Household charges':\n",
        "      for j in bigram_concat[i]:\n",
        "          counts_bigrams[j] = counts_bigrams.get(j, 0) + 1\n",
        "    elif labels_unique[i]== 'Assurances':\n",
        "      for j in bigram_concat[i]:\n",
        "          counts_bigrams[j] = counts_bigrams.get(j, 0) + 1\n",
        "    elif labels_unique[i]== 'Payables':\n",
        "      for j in bigram_concat[i]:\n",
        "          counts_bigrams[j] = counts_bigrams.get(j, 0) + 1\n",
        "    elif labels_unique[i]== 'Rentals':\n",
        "      for j in bigram_concat[i]:\n",
        "          counts_bigrams[j] = counts_bigrams.get(j, 0) + 1\n",
        "    elif labels_unique[i]== 'Payroll':\n",
        "      for j in bigram_concat[i]:\n",
        "          counts_bigrams[j] = counts_bigrams.get(j, 0) + 1\n",
        "\n",
        "  for key,value in counts_bigrams.items():\n",
        "      if value>3:\n",
        "        token_counter_bigrams.append(key)\n",
        "      else:\n",
        "        bigram_split=key.split()\n",
        "        bigram_unigram.append(bigram_split[0])\n",
        "  \n",
        "  return bigram_unigram, token_counter_bigrams\n"
      ],
      "execution_count": null,
      "outputs": []
    },
    {
      "cell_type": "code",
      "metadata": {
        "id": "ERSqNEgeyzHi"
      },
      "source": [
        "bigram_unigrams, token_bigrams_counter = token_bigrams(Tokens_unique_stem)"
      ],
      "execution_count": null,
      "outputs": []
    },
    {
      "cell_type": "markdown",
      "metadata": {
        "id": "Qeo9Qmoezz3i"
      },
      "source": [
        "**Word Ngrams as Features**\n",
        "\n",
        "We choose word unigrams and bigrams to train the base model and then add extra features to experiment"
      ]
    },
    {
      "cell_type": "code",
      "metadata": {
        "id": "pIrhiJgsagGT"
      },
      "source": [
        "##word unigrams and bigrams\"\n",
        "\n",
        "def word_unigrams_bigrams(Tokens_unique):\n",
        "\n",
        "  Tokens_unique_lower=[]\n",
        "  #lower \n",
        "  for token_upper in Tokens_unique:\n",
        "    each_row=[x.lower() for x in token_upper]\n",
        "    Tokens_unique_lower.append(each_row)\n",
        "\n",
        "  Token_unique_with_bigrams=[]\n",
        "  bgrams=[]\n",
        "  for tokenlist in Tokens_unique_lower:\n",
        "      bgrams = list(nltk.bigrams(tokenlist))\n",
        "      temp=[]\n",
        "      for j in range(len(bgrams)):\n",
        "          temp.append(' '.join(bgrams[j]))\n",
        "      \n",
        "      Token_unique_with_bigrams.append(tokenlist+temp)\n",
        "\n",
        "  Token_unique_with_bigrams_set=[]\n",
        "  for tk in Token_unique_with_bigrams:\n",
        "    Token_unique_with_bigrams_set.append(set(tk))\n",
        "\n",
        "  return Token_unique_with_bigrams_set\n"
      ],
      "execution_count": null,
      "outputs": []
    },
    {
      "cell_type": "code",
      "metadata": {
        "id": "PU2NrXtZYCiJ"
      },
      "source": [
        "Token_unigrams_bigrams=word_unigrams_bigrams(Tokens_unique)"
      ],
      "execution_count": null,
      "outputs": []
    },
    {
      "cell_type": "markdown",
      "metadata": {
        "id": "I45zZIAT0Ps6"
      },
      "source": [
        "**Word2Vec** Model is used to embed the word unigrams and bigrams"
      ]
    },
    {
      "cell_type": "code",
      "metadata": {
        "id": "TajNal_rlzpK"
      },
      "source": [
        "##word2vec vector space model \n",
        "def word2vec_model(tokens):\n",
        "\n",
        "  model = Word2Vec(tokens,min_count=1)\n",
        "\n",
        "  words=list(model.wv.vocab)\n",
        "\n",
        "  #print(words)\n",
        "\n",
        "  model.save('model.bin')\n",
        "  new_model=Word2Vec.load('model.bin')\n",
        "\n",
        "  encoded_bt = [[new_model.wv[word] for word in post] for post in tokens]\n",
        "\n",
        "  return encoded_bt\n"
      ],
      "execution_count": null,
      "outputs": []
    },
    {
      "cell_type": "code",
      "metadata": {
        "id": "_VEWbLcSlzmp"
      },
      "source": [
        "encoded_bt= word2vec_model(Token_unigrams_bigrams)"
      ],
      "execution_count": null,
      "outputs": []
    },
    {
      "cell_type": "code",
      "metadata": {
        "id": "YGDdATz6v_3F"
      },
      "source": [
        "\n",
        "# preparing encoded word embeddings for SVM\n",
        "# averaging and padding of word embeddings \n",
        "def pad_average(encoded_docs):\n",
        "  MAX_LENGTH = 20\n",
        "  padded_posts = []\n",
        "\n",
        "  for post in encoded_docs:\n",
        "      # Pad short posts with alternating min/max\n",
        "      if len(post) < MAX_LENGTH:\n",
        "          #print(len(post))\n",
        "          # Method 1\n",
        "          #pointwise_min = np.minimum.reduce(post)\n",
        "          #pointwise_max = np.maximum.reduce(post)\n",
        "          #padding = [pointwise_max, pointwise_min]\n",
        "          \n",
        "          # Method 2\n",
        "          pointwise_avg = np.mean(post,axis=0)\n",
        "          padding = [pointwise_avg]\n",
        "          #print(len(padding))\n",
        "\n",
        "          \n",
        "          #avg_vec= padding * math.ceil((MAX_LENGTH - len(post) / 2.0))\n",
        "          avg_vec= padding\n",
        "          \n",
        "      # Shorten long posts or those odd number length posts we padded to 51\n",
        "      elif len(post) > MAX_LENGTH:\n",
        "          post = post[:MAX_LENGTH]\n",
        "          pointwise_avg = np.mean(post,axis=0)\n",
        "          padding = [pointwise_avg]\n",
        "\n",
        "          avg_vec= padding \n",
        "      \n",
        "      # Add the post to our new list of padded posts\n",
        "      padded_posts.append(avg_vec)\n",
        "\n",
        "\n",
        "\n",
        "  return padded_posts"
      ],
      "execution_count": null,
      "outputs": []
    },
    {
      "cell_type": "code",
      "metadata": {
        "id": "1qv6yX58ns4Y"
      },
      "source": [
        "padded_word_embed=pad_average(encoded_bt)\n"
      ],
      "execution_count": null,
      "outputs": []
    },
    {
      "cell_type": "code",
      "metadata": {
        "id": "wkvtCHCNnojX"
      },
      "source": [
        "bt_variables =[]\n",
        "for post in padded_word_embed:\n",
        "  bt_variables.append(np.hstack(post))"
      ],
      "execution_count": null,
      "outputs": []
    },
    {
      "cell_type": "code",
      "metadata": {
        "id": "IZRoBxNSoWCB"
      },
      "source": [
        "from sklearn.metrics import plot_confusion_matrix\n"
      ],
      "execution_count": null,
      "outputs": []
    },
    {
      "cell_type": "code",
      "metadata": {
        "id": "AQV0v07z3oFs"
      },
      "source": [
        "def model_SVM(var_X,labels):\n",
        "\n",
        "  #splitting data into training and testing\n",
        "  X_train, X_test, y_train, y_test = train_test_split(var_X, labels,\n",
        "                                                      stratify=labels, \n",
        "                                                      test_size=0.30)\n",
        "  # Classifier - Algorithm - SVM\n",
        "  # fit the training dataset on the classifier\n",
        "  clf = SVC(C=1.0, kernel='linear', degree=3, gamma='auto')\n",
        "  clf.fit(X_train,y_train)\n",
        "  # predict the labels on validation dataset\n",
        "  predictions_SVM = clf.predict(X_test)\n",
        "  # Use accuracy_score function to get the accuracy\n",
        "  print(\"SVM F1 Score -> \",f1_score(predictions_SVM, y_test, average='macro')*100)\n",
        "\n",
        "  fig, ax =plt.subplots(figsize=(12,12))\n",
        "  plot_confusion_matrix(clf, X_test, y_test,ax=ax)\n",
        "  plt.show() \n",
        "  \n",
        "  return clf"
      ],
      "execution_count": null,
      "outputs": []
    },
    {
      "cell_type": "code",
      "metadata": {
        "colab": {
          "base_uri": "https://localhost:8080/",
          "height": 710
        },
        "id": "ldoEySYsjBJR",
        "outputId": "16c3eabf-9449-4163-c29a-3ab7b5e35d0c"
      },
      "source": [
        "svm_clf= model_SVM(bt_variables,labels_unique)"
      ],
      "execution_count": null,
      "outputs": [
        {
          "output_type": "stream",
          "text": [
            "SVM F1 Score ->  24.99359795134443\n"
          ],
          "name": "stdout"
        },
        {
          "output_type": "display_data",
          "data": {
            "image/png": "[encoded data removed]",
            "text/plain": [
              "<Figure size 864x864 with 2 Axes>"
            ]
          },
          "metadata": {
            "tags": [],
            "needs_background": "light"
          }
        }
      ]
    },
    {
      "cell_type": "markdown",
      "metadata": {
        "id": "2oztJleu-6Zb"
      },
      "source": [
        "####Adding extra variables \"sign\", \"amount\" to the dataset and modelling \n"
      ]
    },
    {
      "cell_type": "code",
      "metadata": {
        "id": "h1t6qYleeg5g"
      },
      "source": [
        "\n",
        "amount=[]\n",
        "sign =[]\n",
        "\n",
        "for j in index:\n",
        "      if  np.isnan(data['Débit euros'][j]):\n",
        "        amount.append(data['Crédit euros'][j])\n",
        "        sign.append('pos')\n",
        "      else:\n",
        "        amount.append(data['Débit euros'][j])\n",
        "        sign.append('neg')"
      ],
      "execution_count": null,
      "outputs": []
    },
    {
      "cell_type": "code",
      "metadata": {
        "id": "49OAhUg6vQvH"
      },
      "source": [
        "#sign=np.array(sign)\n",
        "sign=sign.reshape(-1, 1)\n",
        "enc = OneHotEncoder(handle_unknown='ignore')\n",
        "sign_onehot=enc.fit_transform(sign).toarray()\n"
      ],
      "execution_count": null,
      "outputs": []
    },
    {
      "cell_type": "code",
      "metadata": {
        "id": "njSySo12pVJ8"
      },
      "source": [
        "amount=np.array(amount)\n",
        "amount =  amount[..., np.newaxis]\n",
        "bt_var_arr=np.array(bt_variables)\n",
        "btvar_X=np.append(bt_var_arr, amount, axis=1)\n",
        "btvar_X= np.append(btvar_X,sign_onehot,axis=1)\n",
        "\n"
      ],
      "execution_count": null,
      "outputs": []
    },
    {
      "cell_type": "code",
      "metadata": {
        "colab": {
          "base_uri": "https://localhost:8080/",
          "height": 710
        },
        "id": "9qchH_vsjeB3",
        "outputId": "edf9cb43-b1f9-4647-9c67-fa275a37d4a3"
      },
      "source": [
        "svm_clf= model_SVM(btvar_X,labels_unique)"
      ],
      "execution_count": null,
      "outputs": [
        {
          "output_type": "stream",
          "text": [
            "SVM F1 Score ->  46.94564694564695\n"
          ],
          "name": "stdout"
        },
        {
          "output_type": "display_data",
          "data": {
            "image/png": "[encoded data removed]",
            "text/plain": [
              "<Figure size 864x864 with 2 Axes>"
            ]
          },
          "metadata": {
            "tags": [],
            "needs_background": "light"
          }
        }
      ]
    },
    {
      "cell_type": "markdown",
      "metadata": {
        "id": "12GDIXgY9FN7"
      },
      "source": [
        "**Conclusion**: \n",
        "\n",
        "* A lot of transactions in the dataset are 'Sales' which lead to an imbalance \n",
        "dataset and reduced the overall accuracy.\n",
        "\n",
        "* Upsampling less represented categories will improve the model.\n",
        "\n",
        "* Word embeddings from Word2Vec model can be utlized for simillarity detection of unknown categories .\n",
        "\n",
        "* Word embeddings combined with LSTM's  is an alterative approach to classify data which can also produce amazing \n",
        "results when the data is not available in the training. \n",
        "\n",
        "* Already trained models on large texts are avaible for english. https://fauconnier.github.io/ proposed french pretrained word2vec models\n",
        "which can be utilized for better word embeddings. \n",
        "\n",
        "* The dataset utlized in the paper has 30,844 BT descriptions, and we have 591 labelled BT descriptions. The transformations\n",
        "applied on the lexicons, ngrams etc. are not provided. Even word embeddings to sentence embeddings are not provided. We took average\n",
        "of word embeddings and padded if necessary which was the best solution specified by some papers[1]. \n",
        "\n",
        "* There is a lot of online blogs describing the exact problem. Plaid's blog is a gem in banking and ML. I encourage you to go through this [blog](https://plaid.com/blog/making-sense-of-messy-data/) for a brief understanding. "
      ]
    },
    {
      "cell_type": "markdown",
      "metadata": {
        "id": "rTud2DTo9v-o"
      },
      "source": [
        "**Referrences**: \n",
        "\n",
        "[1] Representation learning for very short texts using weighted word embedding aggregation. Cedric De Boom, Steven Van Canneyt, Thomas Demeester, Bart Dhoedt. Pattern Recognition Letters; arxiv:1607.00570. abstract, pdf. See especially Tables 1 and 2."
      ]
    },
    {
      "cell_type": "markdown",
      "metadata": {
        "id": "cdfOqUFf5Yfe"
      },
      "source": [
        "\n",
        "\n",
        "---\n",
        "\n"
      ]
    }
  ]
}